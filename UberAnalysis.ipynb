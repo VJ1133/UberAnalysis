{
  "cells": [
    {
      "cell_type": "code",
      "execution_count": 1,
      "metadata": {
        "colab": {
          "base_uri": "https://localhost:8080/"
        },
        "id": "lRV3wINfs1of",
        "outputId": "614cc543-9d3b-434b-fa7b-443094ba0117"
      },
      "outputs": [
        {
          "name": "stderr",
          "output_type": "stream",
          "text": [
            "<ipython-input-1-0e5466e0136f>:2: FutureWarning: The error_bad_lines argument has been deprecated and will be removed in a future version. Use on_bad_lines in the future.\n",
            "\n",
            "\n",
            "  uber = pd.read_csv(r\"/content/sample_data/D__ML training_python_data3.csv\", error_bad_lines=False, warn_bad_lines=True, engine='python')\n",
            "<ipython-input-1-0e5466e0136f>:2: FutureWarning: The warn_bad_lines argument has been deprecated and will be removed in a future version. Use on_bad_lines in the future.\n",
            "\n",
            "\n",
            "  uber = pd.read_csv(r\"/content/sample_data/D__ML training_python_data3.csv\", error_bad_lines=False, warn_bad_lines=True, engine='python')\n"
          ]
        }
      ],
      "source": [
        "import pandas as pd\n",
        "uber_trips = pd.read_csv(r\"/content/sample_data/D__ML training_python_data3.csv\", error_bad_lines=False, warn_bad_lines=True, engine='python')\n",
        "# Check if any rows were skipped\n",
        "if len(uber_trips.index) == 0:\n",
        "    print('No rows were read from the CSV file due to errors')\n"
      ]
    },
    {
      "cell_type": "code",
      "execution_count": 2,
      "metadata": {
        "colab": {
          "base_uri": "https://localhost:8080/"
        },
        "id": "Iiv6rfcNuTa-",
        "outputId": "c85b14ad-1726-4b42-ef86-37ff477b8c3a"
      },
      "outputs": [
        {
          "data": {
            "text/plain": [
              "(322844, 58)"
            ]
          },
          "execution_count": 2,
          "metadata": {},
          "output_type": "execute_result"
        }
      ],
      "source": [
        "uber_trips.shape"
      ]
    },
    {
      "cell_type": "code",
      "execution_count": 3,
      "metadata": {
        "colab": {
          "base_uri": "https://localhost:8080/",
          "height": 560
        },
        "id": "cAIFV3W-uTdP",
        "outputId": "ac6df97a-d266-4c1c-8f0a-ed8725d5d7da"
      },
      "outputs": [
        {
          "data": {
            "text/html": [
              "\n",
              "  <div id=\"df-34659e71-e27e-4777-bd51-c0147eca69cc\">\n",
              "    <div class=\"colab-df-container\">\n",
              "      <div>\n",
              "<style scoped>\n",
              "    .dataframe tbody tr th:only-of-type {\n",
              "        vertical-align: middle;\n",
              "    }\n",
              "\n",
              "    .dataframe tbody tr th {\n",
              "        vertical-align: top;\n",
              "    }\n",
              "\n",
              "    .dataframe thead th {\n",
              "        text-align: right;\n",
              "    }\n",
              "</style>\n",
              "<table border=\"1\" class=\"dataframe\">\n",
              "  <thead>\n",
              "    <tr style=\"text-align: right;\">\n",
              "      <th></th>\n",
              "      <th>Unnamed: 0</th>\n",
              "      <th>id</th>\n",
              "      <th>timestamp</th>\n",
              "      <th>hour</th>\n",
              "      <th>day</th>\n",
              "      <th>month</th>\n",
              "      <th>datetime</th>\n",
              "      <th>timezone</th>\n",
              "      <th>source</th>\n",
              "      <th>destination</th>\n",
              "      <th>...</th>\n",
              "      <th>precipIntensityMax</th>\n",
              "      <th>uvIndexTime</th>\n",
              "      <th>temperatureMin</th>\n",
              "      <th>temperatureMinTime</th>\n",
              "      <th>temperatureMax</th>\n",
              "      <th>temperatureMaxTime</th>\n",
              "      <th>apparentTemperatureMin</th>\n",
              "      <th>apparentTemperatureMinTime</th>\n",
              "      <th>apparentTemperatureMax</th>\n",
              "      <th>apparentTemperatureMaxTime</th>\n",
              "    </tr>\n",
              "  </thead>\n",
              "  <tbody>\n",
              "    <tr>\n",
              "      <th>0</th>\n",
              "      <td>0</td>\n",
              "      <td>424553bb-7174-41ea-aeb4-fe06d4f4b9d7</td>\n",
              "      <td>1.544953e+09</td>\n",
              "      <td>9</td>\n",
              "      <td>16</td>\n",
              "      <td>12</td>\n",
              "      <td>2018-12-16 09:30:07</td>\n",
              "      <td>America/New_York</td>\n",
              "      <td>Haymarket Square</td>\n",
              "      <td>North Station</td>\n",
              "      <td>...</td>\n",
              "      <td>0.1276</td>\n",
              "      <td>1544979600</td>\n",
              "      <td>39.89</td>\n",
              "      <td>1545012000</td>\n",
              "      <td>43.68</td>\n",
              "      <td>1544968800</td>\n",
              "      <td>33.73</td>\n",
              "      <td>1545012000</td>\n",
              "      <td>38.07</td>\n",
              "      <td>1544958000</td>\n",
              "    </tr>\n",
              "    <tr>\n",
              "      <th>1</th>\n",
              "      <td>1</td>\n",
              "      <td>4bd23055-6827-41c6-b23b-3c491f24e74d</td>\n",
              "      <td>1.543284e+09</td>\n",
              "      <td>2</td>\n",
              "      <td>27</td>\n",
              "      <td>11</td>\n",
              "      <td>2018-11-27 02:00:23</td>\n",
              "      <td>America/New_York</td>\n",
              "      <td>Haymarket Square</td>\n",
              "      <td>North Station</td>\n",
              "      <td>...</td>\n",
              "      <td>0.1300</td>\n",
              "      <td>1543251600</td>\n",
              "      <td>40.49</td>\n",
              "      <td>1543233600</td>\n",
              "      <td>47.30</td>\n",
              "      <td>1543251600</td>\n",
              "      <td>36.20</td>\n",
              "      <td>1543291200</td>\n",
              "      <td>43.92</td>\n",
              "      <td>1543251600</td>\n",
              "    </tr>\n",
              "    <tr>\n",
              "      <th>2</th>\n",
              "      <td>8</td>\n",
              "      <td>4f9fee41-fde3-4767-bbf1-a00e108701fb</td>\n",
              "      <td>1.543818e+09</td>\n",
              "      <td>6</td>\n",
              "      <td>3</td>\n",
              "      <td>12</td>\n",
              "      <td>2018-12-03 06:28:02</td>\n",
              "      <td>America/New_York</td>\n",
              "      <td>Back Bay</td>\n",
              "      <td>Northeastern University</td>\n",
              "      <td>...</td>\n",
              "      <td>0.0004</td>\n",
              "      <td>1543852800</td>\n",
              "      <td>43.09</td>\n",
              "      <td>1543896000</td>\n",
              "      <td>57.02</td>\n",
              "      <td>1543852800</td>\n",
              "      <td>39.90</td>\n",
              "      <td>1543896000</td>\n",
              "      <td>56.35</td>\n",
              "      <td>1543852800</td>\n",
              "    </tr>\n",
              "    <tr>\n",
              "      <th>3</th>\n",
              "      <td>10</td>\n",
              "      <td>9043bf77-1d45-4a93-9520-a083e0277f16</td>\n",
              "      <td>1.543594e+09</td>\n",
              "      <td>16</td>\n",
              "      <td>30</td>\n",
              "      <td>11</td>\n",
              "      <td>2018-11-30 16:13:03</td>\n",
              "      <td>America/New_York</td>\n",
              "      <td>Back Bay</td>\n",
              "      <td>Northeastern University</td>\n",
              "      <td>...</td>\n",
              "      <td>0.0004</td>\n",
              "      <td>1543593600</td>\n",
              "      <td>28.64</td>\n",
              "      <td>1543579200</td>\n",
              "      <td>42.32</td>\n",
              "      <td>1543600800</td>\n",
              "      <td>29.29</td>\n",
              "      <td>1543579200</td>\n",
              "      <td>40.48</td>\n",
              "      <td>1543611600</td>\n",
              "    </tr>\n",
              "    <tr>\n",
              "      <th>4</th>\n",
              "      <td>14</td>\n",
              "      <td>357559cb-8c58-4278-a41a-e33b2e0997a3</td>\n",
              "      <td>1.544729e+09</td>\n",
              "      <td>19</td>\n",
              "      <td>13</td>\n",
              "      <td>12</td>\n",
              "      <td>2018-12-13 19:15:03</td>\n",
              "      <td>America/New_York</td>\n",
              "      <td>North End</td>\n",
              "      <td>West End</td>\n",
              "      <td>...</td>\n",
              "      <td>0.0001</td>\n",
              "      <td>1544716800</td>\n",
              "      <td>18.29</td>\n",
              "      <td>1544688000</td>\n",
              "      <td>33.83</td>\n",
              "      <td>1544731200</td>\n",
              "      <td>13.79</td>\n",
              "      <td>1544688000</td>\n",
              "      <td>32.85</td>\n",
              "      <td>1544734800</td>\n",
              "    </tr>\n",
              "  </tbody>\n",
              "</table>\n",
              "<p>5 rows × 58 columns</p>\n",
              "</div>\n",
              "      <button class=\"colab-df-convert\" onclick=\"convertToInteractive('df-34659e71-e27e-4777-bd51-c0147eca69cc')\"\n",
              "              title=\"Convert this dataframe to an interactive table.\"\n",
              "              style=\"display:none;\">\n",
              "        \n",
              "  <svg xmlns=\"http://www.w3.org/2000/svg\" height=\"24px\"viewBox=\"0 0 24 24\"\n",
              "       width=\"24px\">\n",
              "    <path d=\"M0 0h24v24H0V0z\" fill=\"none\"/>\n",
              "    <path d=\"M18.56 5.44l.94 2.06.94-2.06 2.06-.94-2.06-.94-.94-2.06-.94 2.06-2.06.94zm-11 1L8.5 8.5l.94-2.06 2.06-.94-2.06-.94L8.5 2.5l-.94 2.06-2.06.94zm10 10l.94 2.06.94-2.06 2.06-.94-2.06-.94-.94-2.06-.94 2.06-2.06.94z\"/><path d=\"M17.41 7.96l-1.37-1.37c-.4-.4-.92-.59-1.43-.59-.52 0-1.04.2-1.43.59L10.3 9.45l-7.72 7.72c-.78.78-.78 2.05 0 2.83L4 21.41c.39.39.9.59 1.41.59.51 0 1.02-.2 1.41-.59l7.78-7.78 2.81-2.81c.8-.78.8-2.07 0-2.86zM5.41 20L4 18.59l7.72-7.72 1.47 1.35L5.41 20z\"/>\n",
              "  </svg>\n",
              "      </button>\n",
              "      \n",
              "  <style>\n",
              "    .colab-df-container {\n",
              "      display:flex;\n",
              "      flex-wrap:wrap;\n",
              "      gap: 12px;\n",
              "    }\n",
              "\n",
              "    .colab-df-convert {\n",
              "      background-color: #E8F0FE;\n",
              "      border: none;\n",
              "      border-radius: 50%;\n",
              "      cursor: pointer;\n",
              "      display: none;\n",
              "      fill: #1967D2;\n",
              "      height: 32px;\n",
              "      padding: 0 0 0 0;\n",
              "      width: 32px;\n",
              "    }\n",
              "\n",
              "    .colab-df-convert:hover {\n",
              "      background-color: #E2EBFA;\n",
              "      box-shadow: 0px 1px 2px rgba(60, 64, 67, 0.3), 0px 1px 3px 1px rgba(60, 64, 67, 0.15);\n",
              "      fill: #174EA6;\n",
              "    }\n",
              "\n",
              "    [theme=dark] .colab-df-convert {\n",
              "      background-color: #3B4455;\n",
              "      fill: #D2E3FC;\n",
              "    }\n",
              "\n",
              "    [theme=dark] .colab-df-convert:hover {\n",
              "      background-color: #434B5C;\n",
              "      box-shadow: 0px 1px 3px 1px rgba(0, 0, 0, 0.15);\n",
              "      filter: drop-shadow(0px 1px 2px rgba(0, 0, 0, 0.3));\n",
              "      fill: #FFFFFF;\n",
              "    }\n",
              "  </style>\n",
              "\n",
              "      <script>\n",
              "        const buttonEl =\n",
              "          document.querySelector('#df-34659e71-e27e-4777-bd51-c0147eca69cc button.colab-df-convert');\n",
              "        buttonEl.style.display =\n",
              "          google.colab.kernel.accessAllowed ? 'block' : 'none';\n",
              "\n",
              "        async function convertToInteractive(key) {\n",
              "          const element = document.querySelector('#df-34659e71-e27e-4777-bd51-c0147eca69cc');\n",
              "          const dataTable =\n",
              "            await google.colab.kernel.invokeFunction('convertToInteractive',\n",
              "                                                     [key], {});\n",
              "          if (!dataTable) return;\n",
              "\n",
              "          const docLinkHtml = 'Like what you see? Visit the ' +\n",
              "            '<a target=\"_blank\" href=https://colab.research.google.com/notebooks/data_table.ipynb>data table notebook</a>'\n",
              "            + ' to learn more about interactive tables.';\n",
              "          element.innerHTML = '';\n",
              "          dataTable['output_type'] = 'display_data';\n",
              "          await google.colab.output.renderOutput(dataTable, element);\n",
              "          const docLink = document.createElement('div');\n",
              "          docLink.innerHTML = docLinkHtml;\n",
              "          element.appendChild(docLink);\n",
              "        }\n",
              "      </script>\n",
              "    </div>\n",
              "  </div>\n",
              "  "
            ],
            "text/plain": [
              "   Unnamed: 0                                    id     timestamp  hour  day  \\\n",
              "0           0  424553bb-7174-41ea-aeb4-fe06d4f4b9d7  1.544953e+09     9   16   \n",
              "1           1  4bd23055-6827-41c6-b23b-3c491f24e74d  1.543284e+09     2   27   \n",
              "2           8  4f9fee41-fde3-4767-bbf1-a00e108701fb  1.543818e+09     6    3   \n",
              "3          10  9043bf77-1d45-4a93-9520-a083e0277f16  1.543594e+09    16   30   \n",
              "4          14  357559cb-8c58-4278-a41a-e33b2e0997a3  1.544729e+09    19   13   \n",
              "\n",
              "   month             datetime          timezone            source  \\\n",
              "0     12  2018-12-16 09:30:07  America/New_York  Haymarket Square   \n",
              "1     11  2018-11-27 02:00:23  America/New_York  Haymarket Square   \n",
              "2     12  2018-12-03 06:28:02  America/New_York          Back Bay   \n",
              "3     11  2018-11-30 16:13:03  America/New_York          Back Bay   \n",
              "4     12  2018-12-13 19:15:03  America/New_York         North End   \n",
              "\n",
              "               destination  ... precipIntensityMax uvIndexTime temperatureMin  \\\n",
              "0            North Station  ...             0.1276  1544979600          39.89   \n",
              "1            North Station  ...             0.1300  1543251600          40.49   \n",
              "2  Northeastern University  ...             0.0004  1543852800          43.09   \n",
              "3  Northeastern University  ...             0.0004  1543593600          28.64   \n",
              "4                 West End  ...             0.0001  1544716800          18.29   \n",
              "\n",
              "   temperatureMinTime  temperatureMax  temperatureMaxTime  \\\n",
              "0          1545012000           43.68          1544968800   \n",
              "1          1543233600           47.30          1543251600   \n",
              "2          1543896000           57.02          1543852800   \n",
              "3          1543579200           42.32          1543600800   \n",
              "4          1544688000           33.83          1544731200   \n",
              "\n",
              "   apparentTemperatureMin  apparentTemperatureMinTime  apparentTemperatureMax  \\\n",
              "0                   33.73                  1545012000                   38.07   \n",
              "1                   36.20                  1543291200                   43.92   \n",
              "2                   39.90                  1543896000                   56.35   \n",
              "3                   29.29                  1543579200                   40.48   \n",
              "4                   13.79                  1544688000                   32.85   \n",
              "\n",
              "   apparentTemperatureMaxTime  \n",
              "0                  1544958000  \n",
              "1                  1543251600  \n",
              "2                  1543852800  \n",
              "3                  1543611600  \n",
              "4                  1544734800  \n",
              "\n",
              "[5 rows x 58 columns]"
            ]
          },
          "execution_count": 3,
          "metadata": {},
          "output_type": "execute_result"
        }
      ],
      "source": [
        "uber_trips.head()"
      ]
    },
    {
      "cell_type": "code",
      "execution_count": 4,
      "metadata": {
        "colab": {
          "base_uri": "https://localhost:8080/"
        },
        "id": "UiixA2pBuTfg",
        "outputId": "47853a36-e346-43b1-ef57-fa619eb9f6bc"
      },
      "outputs": [
        {
          "data": {
            "text/plain": [
              "Black SUV    55096\n",
              "Taxi         55095\n",
              "UberX        55094\n",
              "UberPool     55091\n",
              "Lux          51235\n",
              "Shared       51233\n",
              "Name: name, dtype: int64"
            ]
          },
          "execution_count": 4,
          "metadata": {},
          "output_type": "execute_result"
        }
      ],
      "source": [
        "uber_trips_trips['name'].value_counts()"
      ]
    },
    {
      "cell_type": "code",
      "execution_count": 5,
      "metadata": {
        "id": "5i19jTCEuThv"
      },
      "outputs": [],
      "source": [
        "new_uber = uber_trips[uber_trips['name'].isin(['Shared', 'UberPool', 'Black SUV', 'UberX', 'Taxi', 'Lux']) ]"
      ]
    },
    {
      "cell_type": "code",
      "execution_count": 6,
      "metadata": {
        "colab": {
          "base_uri": "https://localhost:8080/",
          "height": 560
        },
        "id": "vNpTAew3uTkL",
        "outputId": "08070205-0590-4022-8229-1bae18156290"
      },
      "outputs": [
        {
          "data": {
            "text/html": [
              "\n",
              "  <div id=\"df-5cf3ab17-a833-446c-a5fc-51ef0b6a3df9\">\n",
              "    <div class=\"colab-df-container\">\n",
              "      <div>\n",
              "<style scoped>\n",
              "    .dataframe tbody tr th:only-of-type {\n",
              "        vertical-align: middle;\n",
              "    }\n",
              "\n",
              "    .dataframe tbody tr th {\n",
              "        vertical-align: top;\n",
              "    }\n",
              "\n",
              "    .dataframe thead th {\n",
              "        text-align: right;\n",
              "    }\n",
              "</style>\n",
              "<table border=\"1\" class=\"dataframe\">\n",
              "  <thead>\n",
              "    <tr style=\"text-align: right;\">\n",
              "      <th></th>\n",
              "      <th>Unnamed: 0</th>\n",
              "      <th>id</th>\n",
              "      <th>timestamp</th>\n",
              "      <th>hour</th>\n",
              "      <th>day</th>\n",
              "      <th>month</th>\n",
              "      <th>datetime</th>\n",
              "      <th>timezone</th>\n",
              "      <th>source</th>\n",
              "      <th>destination</th>\n",
              "      <th>...</th>\n",
              "      <th>precipIntensityMax</th>\n",
              "      <th>uvIndexTime</th>\n",
              "      <th>temperatureMin</th>\n",
              "      <th>temperatureMinTime</th>\n",
              "      <th>temperatureMax</th>\n",
              "      <th>temperatureMaxTime</th>\n",
              "      <th>apparentTemperatureMin</th>\n",
              "      <th>apparentTemperatureMinTime</th>\n",
              "      <th>apparentTemperatureMax</th>\n",
              "      <th>apparentTemperatureMaxTime</th>\n",
              "    </tr>\n",
              "  </thead>\n",
              "  <tbody>\n",
              "    <tr>\n",
              "      <th>0</th>\n",
              "      <td>0</td>\n",
              "      <td>424553bb-7174-41ea-aeb4-fe06d4f4b9d7</td>\n",
              "      <td>1.544953e+09</td>\n",
              "      <td>9</td>\n",
              "      <td>16</td>\n",
              "      <td>12</td>\n",
              "      <td>2018-12-16 09:30:07</td>\n",
              "      <td>America/New_York</td>\n",
              "      <td>Haymarket Square</td>\n",
              "      <td>North Station</td>\n",
              "      <td>...</td>\n",
              "      <td>0.1276</td>\n",
              "      <td>1544979600</td>\n",
              "      <td>39.89</td>\n",
              "      <td>1545012000</td>\n",
              "      <td>43.68</td>\n",
              "      <td>1544968800</td>\n",
              "      <td>33.73</td>\n",
              "      <td>1545012000</td>\n",
              "      <td>38.07</td>\n",
              "      <td>1544958000</td>\n",
              "    </tr>\n",
              "    <tr>\n",
              "      <th>1</th>\n",
              "      <td>1</td>\n",
              "      <td>4bd23055-6827-41c6-b23b-3c491f24e74d</td>\n",
              "      <td>1.543284e+09</td>\n",
              "      <td>2</td>\n",
              "      <td>27</td>\n",
              "      <td>11</td>\n",
              "      <td>2018-11-27 02:00:23</td>\n",
              "      <td>America/New_York</td>\n",
              "      <td>Haymarket Square</td>\n",
              "      <td>North Station</td>\n",
              "      <td>...</td>\n",
              "      <td>0.1300</td>\n",
              "      <td>1543251600</td>\n",
              "      <td>40.49</td>\n",
              "      <td>1543233600</td>\n",
              "      <td>47.30</td>\n",
              "      <td>1543251600</td>\n",
              "      <td>36.20</td>\n",
              "      <td>1543291200</td>\n",
              "      <td>43.92</td>\n",
              "      <td>1543251600</td>\n",
              "    </tr>\n",
              "    <tr>\n",
              "      <th>2</th>\n",
              "      <td>8</td>\n",
              "      <td>4f9fee41-fde3-4767-bbf1-a00e108701fb</td>\n",
              "      <td>1.543818e+09</td>\n",
              "      <td>6</td>\n",
              "      <td>3</td>\n",
              "      <td>12</td>\n",
              "      <td>2018-12-03 06:28:02</td>\n",
              "      <td>America/New_York</td>\n",
              "      <td>Back Bay</td>\n",
              "      <td>Northeastern University</td>\n",
              "      <td>...</td>\n",
              "      <td>0.0004</td>\n",
              "      <td>1543852800</td>\n",
              "      <td>43.09</td>\n",
              "      <td>1543896000</td>\n",
              "      <td>57.02</td>\n",
              "      <td>1543852800</td>\n",
              "      <td>39.90</td>\n",
              "      <td>1543896000</td>\n",
              "      <td>56.35</td>\n",
              "      <td>1543852800</td>\n",
              "    </tr>\n",
              "    <tr>\n",
              "      <th>3</th>\n",
              "      <td>10</td>\n",
              "      <td>9043bf77-1d45-4a93-9520-a083e0277f16</td>\n",
              "      <td>1.543594e+09</td>\n",
              "      <td>16</td>\n",
              "      <td>30</td>\n",
              "      <td>11</td>\n",
              "      <td>2018-11-30 16:13:03</td>\n",
              "      <td>America/New_York</td>\n",
              "      <td>Back Bay</td>\n",
              "      <td>Northeastern University</td>\n",
              "      <td>...</td>\n",
              "      <td>0.0004</td>\n",
              "      <td>1543593600</td>\n",
              "      <td>28.64</td>\n",
              "      <td>1543579200</td>\n",
              "      <td>42.32</td>\n",
              "      <td>1543600800</td>\n",
              "      <td>29.29</td>\n",
              "      <td>1543579200</td>\n",
              "      <td>40.48</td>\n",
              "      <td>1543611600</td>\n",
              "    </tr>\n",
              "    <tr>\n",
              "      <th>4</th>\n",
              "      <td>14</td>\n",
              "      <td>357559cb-8c58-4278-a41a-e33b2e0997a3</td>\n",
              "      <td>1.544729e+09</td>\n",
              "      <td>19</td>\n",
              "      <td>13</td>\n",
              "      <td>12</td>\n",
              "      <td>2018-12-13 19:15:03</td>\n",
              "      <td>America/New_York</td>\n",
              "      <td>North End</td>\n",
              "      <td>West End</td>\n",
              "      <td>...</td>\n",
              "      <td>0.0001</td>\n",
              "      <td>1544716800</td>\n",
              "      <td>18.29</td>\n",
              "      <td>1544688000</td>\n",
              "      <td>33.83</td>\n",
              "      <td>1544731200</td>\n",
              "      <td>13.79</td>\n",
              "      <td>1544688000</td>\n",
              "      <td>32.85</td>\n",
              "      <td>1544734800</td>\n",
              "    </tr>\n",
              "  </tbody>\n",
              "</table>\n",
              "<p>5 rows × 58 columns</p>\n",
              "</div>\n",
              "      <button class=\"colab-df-convert\" onclick=\"convertToInteractive('df-5cf3ab17-a833-446c-a5fc-51ef0b6a3df9')\"\n",
              "              title=\"Convert this dataframe to an interactive table.\"\n",
              "              style=\"display:none;\">\n",
              "        \n",
              "  <svg xmlns=\"http://www.w3.org/2000/svg\" height=\"24px\"viewBox=\"0 0 24 24\"\n",
              "       width=\"24px\">\n",
              "    <path d=\"M0 0h24v24H0V0z\" fill=\"none\"/>\n",
              "    <path d=\"M18.56 5.44l.94 2.06.94-2.06 2.06-.94-2.06-.94-.94-2.06-.94 2.06-2.06.94zm-11 1L8.5 8.5l.94-2.06 2.06-.94-2.06-.94L8.5 2.5l-.94 2.06-2.06.94zm10 10l.94 2.06.94-2.06 2.06-.94-2.06-.94-.94-2.06-.94 2.06-2.06.94z\"/><path d=\"M17.41 7.96l-1.37-1.37c-.4-.4-.92-.59-1.43-.59-.52 0-1.04.2-1.43.59L10.3 9.45l-7.72 7.72c-.78.78-.78 2.05 0 2.83L4 21.41c.39.39.9.59 1.41.59.51 0 1.02-.2 1.41-.59l7.78-7.78 2.81-2.81c.8-.78.8-2.07 0-2.86zM5.41 20L4 18.59l7.72-7.72 1.47 1.35L5.41 20z\"/>\n",
              "  </svg>\n",
              "      </button>\n",
              "      \n",
              "  <style>\n",
              "    .colab-df-container {\n",
              "      display:flex;\n",
              "      flex-wrap:wrap;\n",
              "      gap: 12px;\n",
              "    }\n",
              "\n",
              "    .colab-df-convert {\n",
              "      background-color: #E8F0FE;\n",
              "      border: none;\n",
              "      border-radius: 50%;\n",
              "      cursor: pointer;\n",
              "      display: none;\n",
              "      fill: #1967D2;\n",
              "      height: 32px;\n",
              "      padding: 0 0 0 0;\n",
              "      width: 32px;\n",
              "    }\n",
              "\n",
              "    .colab-df-convert:hover {\n",
              "      background-color: #E2EBFA;\n",
              "      box-shadow: 0px 1px 2px rgba(60, 64, 67, 0.3), 0px 1px 3px 1px rgba(60, 64, 67, 0.15);\n",
              "      fill: #174EA6;\n",
              "    }\n",
              "\n",
              "    [theme=dark] .colab-df-convert {\n",
              "      background-color: #3B4455;\n",
              "      fill: #D2E3FC;\n",
              "    }\n",
              "\n",
              "    [theme=dark] .colab-df-convert:hover {\n",
              "      background-color: #434B5C;\n",
              "      box-shadow: 0px 1px 3px 1px rgba(0, 0, 0, 0.15);\n",
              "      filter: drop-shadow(0px 1px 2px rgba(0, 0, 0, 0.3));\n",
              "      fill: #FFFFFF;\n",
              "    }\n",
              "  </style>\n",
              "\n",
              "      <script>\n",
              "        const buttonEl =\n",
              "          document.querySelector('#df-5cf3ab17-a833-446c-a5fc-51ef0b6a3df9 button.colab-df-convert');\n",
              "        buttonEl.style.display =\n",
              "          google.colab.kernel.accessAllowed ? 'block' : 'none';\n",
              "\n",
              "        async function convertToInteractive(key) {\n",
              "          const element = document.querySelector('#df-5cf3ab17-a833-446c-a5fc-51ef0b6a3df9');\n",
              "          const dataTable =\n",
              "            await google.colab.kernel.invokeFunction('convertToInteractive',\n",
              "                                                     [key], {});\n",
              "          if (!dataTable) return;\n",
              "\n",
              "          const docLinkHtml = 'Like what you see? Visit the ' +\n",
              "            '<a target=\"_blank\" href=https://colab.research.google.com/notebooks/data_table.ipynb>data table notebook</a>'\n",
              "            + ' to learn more about interactive tables.';\n",
              "          element.innerHTML = '';\n",
              "          dataTable['output_type'] = 'display_data';\n",
              "          await google.colab.output.renderOutput(dataTable, element);\n",
              "          const docLink = document.createElement('div');\n",
              "          docLink.innerHTML = docLinkHtml;\n",
              "          element.appendChild(docLink);\n",
              "        }\n",
              "      </script>\n",
              "    </div>\n",
              "  </div>\n",
              "  "
            ],
            "text/plain": [
              "   Unnamed: 0                                    id     timestamp  hour  day  \\\n",
              "0           0  424553bb-7174-41ea-aeb4-fe06d4f4b9d7  1.544953e+09     9   16   \n",
              "1           1  4bd23055-6827-41c6-b23b-3c491f24e74d  1.543284e+09     2   27   \n",
              "2           8  4f9fee41-fde3-4767-bbf1-a00e108701fb  1.543818e+09     6    3   \n",
              "3          10  9043bf77-1d45-4a93-9520-a083e0277f16  1.543594e+09    16   30   \n",
              "4          14  357559cb-8c58-4278-a41a-e33b2e0997a3  1.544729e+09    19   13   \n",
              "\n",
              "   month             datetime          timezone            source  \\\n",
              "0     12  2018-12-16 09:30:07  America/New_York  Haymarket Square   \n",
              "1     11  2018-11-27 02:00:23  America/New_York  Haymarket Square   \n",
              "2     12  2018-12-03 06:28:02  America/New_York          Back Bay   \n",
              "3     11  2018-11-30 16:13:03  America/New_York          Back Bay   \n",
              "4     12  2018-12-13 19:15:03  America/New_York         North End   \n",
              "\n",
              "               destination  ... precipIntensityMax uvIndexTime temperatureMin  \\\n",
              "0            North Station  ...             0.1276  1544979600          39.89   \n",
              "1            North Station  ...             0.1300  1543251600          40.49   \n",
              "2  Northeastern University  ...             0.0004  1543852800          43.09   \n",
              "3  Northeastern University  ...             0.0004  1543593600          28.64   \n",
              "4                 West End  ...             0.0001  1544716800          18.29   \n",
              "\n",
              "   temperatureMinTime  temperatureMax  temperatureMaxTime  \\\n",
              "0          1545012000           43.68          1544968800   \n",
              "1          1543233600           47.30          1543251600   \n",
              "2          1543896000           57.02          1543852800   \n",
              "3          1543579200           42.32          1543600800   \n",
              "4          1544688000           33.83          1544731200   \n",
              "\n",
              "   apparentTemperatureMin  apparentTemperatureMinTime  apparentTemperatureMax  \\\n",
              "0                   33.73                  1545012000                   38.07   \n",
              "1                   36.20                  1543291200                   43.92   \n",
              "2                   39.90                  1543896000                   56.35   \n",
              "3                   29.29                  1543579200                   40.48   \n",
              "4                   13.79                  1544688000                   32.85   \n",
              "\n",
              "   apparentTemperatureMaxTime  \n",
              "0                  1544958000  \n",
              "1                  1543251600  \n",
              "2                  1543852800  \n",
              "3                  1543611600  \n",
              "4                  1544734800  \n",
              "\n",
              "[5 rows x 58 columns]"
            ]
          },
          "execution_count": 6,
          "metadata": {},
          "output_type": "execute_result"
        }
      ],
      "source": [
        "new_uber.head()"
      ]
    },
    {
      "cell_type": "code",
      "execution_count": 7,
      "metadata": {
        "colab": {
          "base_uri": "https://localhost:8080/"
        },
        "id": "exk5gndYuTmy",
        "outputId": "86aebff0-3740-4bc0-e821-0ebe1b58a719"
      },
      "outputs": [
        {
          "data": {
            "text/plain": [
              "(322844, 58)"
            ]
          },
          "execution_count": 7,
          "metadata": {},
          "output_type": "execute_result"
        }
      ],
      "source": [
        "new_uber.shape"
      ]
    },
    {
      "cell_type": "code",
      "execution_count": 8,
      "metadata": {
        "id": "UZEb8DCyuTqQ"
      },
      "outputs": [],
      "source": [
        "new_uber.to_csv(r'/content/sample_data/cleaned_data.csv')"
      ]
    },
    {
      "cell_type": "code",
      "execution_count": 9,
      "metadata": {
        "id": "rEDUUkFEvuvO"
      },
      "outputs": [],
      "source": [
        "import pandas as pd\n",
        "\n",
        "uber_dataset = pd.read_csv(r\"/content/sample_data/cleaned_data.csv\")"
      ]
    },
    {
      "cell_type": "code",
      "execution_count": 10,
      "metadata": {
        "colab": {
          "base_uri": "https://localhost:8080/",
          "height": 560
        },
        "id": "sQF35XStwBpO",
        "outputId": "23c51c1b-d0fa-4584-dddb-4fc93b6abecd"
      },
      "outputs": [
        {
          "data": {
            "text/html": [
              "\n",
              "  <div id=\"df-8efae90d-8450-4b2a-b833-fe48af9537e5\">\n",
              "    <div class=\"colab-df-container\">\n",
              "      <div>\n",
              "<style scoped>\n",
              "    .dataframe tbody tr th:only-of-type {\n",
              "        vertical-align: middle;\n",
              "    }\n",
              "\n",
              "    .dataframe tbody tr th {\n",
              "        vertical-align: top;\n",
              "    }\n",
              "\n",
              "    .dataframe thead th {\n",
              "        text-align: right;\n",
              "    }\n",
              "</style>\n",
              "<table border=\"1\" class=\"dataframe\">\n",
              "  <thead>\n",
              "    <tr style=\"text-align: right;\">\n",
              "      <th></th>\n",
              "      <th>Unnamed: 0.1</th>\n",
              "      <th>Unnamed: 0</th>\n",
              "      <th>id</th>\n",
              "      <th>timestamp</th>\n",
              "      <th>hour</th>\n",
              "      <th>day</th>\n",
              "      <th>month</th>\n",
              "      <th>datetime</th>\n",
              "      <th>timezone</th>\n",
              "      <th>source</th>\n",
              "      <th>...</th>\n",
              "      <th>precipIntensityMax</th>\n",
              "      <th>uvIndexTime</th>\n",
              "      <th>temperatureMin</th>\n",
              "      <th>temperatureMinTime</th>\n",
              "      <th>temperatureMax</th>\n",
              "      <th>temperatureMaxTime</th>\n",
              "      <th>apparentTemperatureMin</th>\n",
              "      <th>apparentTemperatureMinTime</th>\n",
              "      <th>apparentTemperatureMax</th>\n",
              "      <th>apparentTemperatureMaxTime</th>\n",
              "    </tr>\n",
              "  </thead>\n",
              "  <tbody>\n",
              "    <tr>\n",
              "      <th>0</th>\n",
              "      <td>0</td>\n",
              "      <td>0</td>\n",
              "      <td>424553bb-7174-41ea-aeb4-fe06d4f4b9d7</td>\n",
              "      <td>1.544953e+09</td>\n",
              "      <td>9</td>\n",
              "      <td>16</td>\n",
              "      <td>12</td>\n",
              "      <td>2018-12-16 09:30:07</td>\n",
              "      <td>America/New_York</td>\n",
              "      <td>Haymarket Square</td>\n",
              "      <td>...</td>\n",
              "      <td>0.1276</td>\n",
              "      <td>1544979600</td>\n",
              "      <td>39.89</td>\n",
              "      <td>1545012000</td>\n",
              "      <td>43.68</td>\n",
              "      <td>1544968800</td>\n",
              "      <td>33.73</td>\n",
              "      <td>1545012000</td>\n",
              "      <td>38.07</td>\n",
              "      <td>1544958000</td>\n",
              "    </tr>\n",
              "    <tr>\n",
              "      <th>1</th>\n",
              "      <td>1</td>\n",
              "      <td>1</td>\n",
              "      <td>4bd23055-6827-41c6-b23b-3c491f24e74d</td>\n",
              "      <td>1.543284e+09</td>\n",
              "      <td>2</td>\n",
              "      <td>27</td>\n",
              "      <td>11</td>\n",
              "      <td>2018-11-27 02:00:23</td>\n",
              "      <td>America/New_York</td>\n",
              "      <td>Haymarket Square</td>\n",
              "      <td>...</td>\n",
              "      <td>0.1300</td>\n",
              "      <td>1543251600</td>\n",
              "      <td>40.49</td>\n",
              "      <td>1543233600</td>\n",
              "      <td>47.30</td>\n",
              "      <td>1543251600</td>\n",
              "      <td>36.20</td>\n",
              "      <td>1543291200</td>\n",
              "      <td>43.92</td>\n",
              "      <td>1543251600</td>\n",
              "    </tr>\n",
              "    <tr>\n",
              "      <th>2</th>\n",
              "      <td>2</td>\n",
              "      <td>8</td>\n",
              "      <td>4f9fee41-fde3-4767-bbf1-a00e108701fb</td>\n",
              "      <td>1.543818e+09</td>\n",
              "      <td>6</td>\n",
              "      <td>3</td>\n",
              "      <td>12</td>\n",
              "      <td>2018-12-03 06:28:02</td>\n",
              "      <td>America/New_York</td>\n",
              "      <td>Back Bay</td>\n",
              "      <td>...</td>\n",
              "      <td>0.0004</td>\n",
              "      <td>1543852800</td>\n",
              "      <td>43.09</td>\n",
              "      <td>1543896000</td>\n",
              "      <td>57.02</td>\n",
              "      <td>1543852800</td>\n",
              "      <td>39.90</td>\n",
              "      <td>1543896000</td>\n",
              "      <td>56.35</td>\n",
              "      <td>1543852800</td>\n",
              "    </tr>\n",
              "    <tr>\n",
              "      <th>3</th>\n",
              "      <td>3</td>\n",
              "      <td>10</td>\n",
              "      <td>9043bf77-1d45-4a93-9520-a083e0277f16</td>\n",
              "      <td>1.543594e+09</td>\n",
              "      <td>16</td>\n",
              "      <td>30</td>\n",
              "      <td>11</td>\n",
              "      <td>2018-11-30 16:13:03</td>\n",
              "      <td>America/New_York</td>\n",
              "      <td>Back Bay</td>\n",
              "      <td>...</td>\n",
              "      <td>0.0004</td>\n",
              "      <td>1543593600</td>\n",
              "      <td>28.64</td>\n",
              "      <td>1543579200</td>\n",
              "      <td>42.32</td>\n",
              "      <td>1543600800</td>\n",
              "      <td>29.29</td>\n",
              "      <td>1543579200</td>\n",
              "      <td>40.48</td>\n",
              "      <td>1543611600</td>\n",
              "    </tr>\n",
              "    <tr>\n",
              "      <th>4</th>\n",
              "      <td>4</td>\n",
              "      <td>14</td>\n",
              "      <td>357559cb-8c58-4278-a41a-e33b2e0997a3</td>\n",
              "      <td>1.544729e+09</td>\n",
              "      <td>19</td>\n",
              "      <td>13</td>\n",
              "      <td>12</td>\n",
              "      <td>2018-12-13 19:15:03</td>\n",
              "      <td>America/New_York</td>\n",
              "      <td>North End</td>\n",
              "      <td>...</td>\n",
              "      <td>0.0001</td>\n",
              "      <td>1544716800</td>\n",
              "      <td>18.29</td>\n",
              "      <td>1544688000</td>\n",
              "      <td>33.83</td>\n",
              "      <td>1544731200</td>\n",
              "      <td>13.79</td>\n",
              "      <td>1544688000</td>\n",
              "      <td>32.85</td>\n",
              "      <td>1544734800</td>\n",
              "    </tr>\n",
              "  </tbody>\n",
              "</table>\n",
              "<p>5 rows × 59 columns</p>\n",
              "</div>\n",
              "      <button class=\"colab-df-convert\" onclick=\"convertToInteractive('df-8efae90d-8450-4b2a-b833-fe48af9537e5')\"\n",
              "              title=\"Convert this dataframe to an interactive table.\"\n",
              "              style=\"display:none;\">\n",
              "        \n",
              "  <svg xmlns=\"http://www.w3.org/2000/svg\" height=\"24px\"viewBox=\"0 0 24 24\"\n",
              "       width=\"24px\">\n",
              "    <path d=\"M0 0h24v24H0V0z\" fill=\"none\"/>\n",
              "    <path d=\"M18.56 5.44l.94 2.06.94-2.06 2.06-.94-2.06-.94-.94-2.06-.94 2.06-2.06.94zm-11 1L8.5 8.5l.94-2.06 2.06-.94-2.06-.94L8.5 2.5l-.94 2.06-2.06.94zm10 10l.94 2.06.94-2.06 2.06-.94-2.06-.94-.94-2.06-.94 2.06-2.06.94z\"/><path d=\"M17.41 7.96l-1.37-1.37c-.4-.4-.92-.59-1.43-.59-.52 0-1.04.2-1.43.59L10.3 9.45l-7.72 7.72c-.78.78-.78 2.05 0 2.83L4 21.41c.39.39.9.59 1.41.59.51 0 1.02-.2 1.41-.59l7.78-7.78 2.81-2.81c.8-.78.8-2.07 0-2.86zM5.41 20L4 18.59l7.72-7.72 1.47 1.35L5.41 20z\"/>\n",
              "  </svg>\n",
              "      </button>\n",
              "      \n",
              "  <style>\n",
              "    .colab-df-container {\n",
              "      display:flex;\n",
              "      flex-wrap:wrap;\n",
              "      gap: 12px;\n",
              "    }\n",
              "\n",
              "    .colab-df-convert {\n",
              "      background-color: #E8F0FE;\n",
              "      border: none;\n",
              "      border-radius: 50%;\n",
              "      cursor: pointer;\n",
              "      display: none;\n",
              "      fill: #1967D2;\n",
              "      height: 32px;\n",
              "      padding: 0 0 0 0;\n",
              "      width: 32px;\n",
              "    }\n",
              "\n",
              "    .colab-df-convert:hover {\n",
              "      background-color: #E2EBFA;\n",
              "      box-shadow: 0px 1px 2px rgba(60, 64, 67, 0.3), 0px 1px 3px 1px rgba(60, 64, 67, 0.15);\n",
              "      fill: #174EA6;\n",
              "    }\n",
              "\n",
              "    [theme=dark] .colab-df-convert {\n",
              "      background-color: #3B4455;\n",
              "      fill: #D2E3FC;\n",
              "    }\n",
              "\n",
              "    [theme=dark] .colab-df-convert:hover {\n",
              "      background-color: #434B5C;\n",
              "      box-shadow: 0px 1px 3px 1px rgba(0, 0, 0, 0.15);\n",
              "      filter: drop-shadow(0px 1px 2px rgba(0, 0, 0, 0.3));\n",
              "      fill: #FFFFFF;\n",
              "    }\n",
              "  </style>\n",
              "\n",
              "      <script>\n",
              "        const buttonEl =\n",
              "          document.querySelector('#df-8efae90d-8450-4b2a-b833-fe48af9537e5 button.colab-df-convert');\n",
              "        buttonEl.style.display =\n",
              "          google.colab.kernel.accessAllowed ? 'block' : 'none';\n",
              "\n",
              "        async function convertToInteractive(key) {\n",
              "          const element = document.querySelector('#df-8efae90d-8450-4b2a-b833-fe48af9537e5');\n",
              "          const dataTable =\n",
              "            await google.colab.kernel.invokeFunction('convertToInteractive',\n",
              "                                                     [key], {});\n",
              "          if (!dataTable) return;\n",
              "\n",
              "          const docLinkHtml = 'Like what you see? Visit the ' +\n",
              "            '<a target=\"_blank\" href=https://colab.research.google.com/notebooks/data_table.ipynb>data table notebook</a>'\n",
              "            + ' to learn more about interactive tables.';\n",
              "          element.innerHTML = '';\n",
              "          dataTable['output_type'] = 'display_data';\n",
              "          await google.colab.output.renderOutput(dataTable, element);\n",
              "          const docLink = document.createElement('div');\n",
              "          docLink.innerHTML = docLinkHtml;\n",
              "          element.appendChild(docLink);\n",
              "        }\n",
              "      </script>\n",
              "    </div>\n",
              "  </div>\n",
              "  "
            ],
            "text/plain": [
              "   Unnamed: 0.1  Unnamed: 0                                    id  \\\n",
              "0             0           0  424553bb-7174-41ea-aeb4-fe06d4f4b9d7   \n",
              "1             1           1  4bd23055-6827-41c6-b23b-3c491f24e74d   \n",
              "2             2           8  4f9fee41-fde3-4767-bbf1-a00e108701fb   \n",
              "3             3          10  9043bf77-1d45-4a93-9520-a083e0277f16   \n",
              "4             4          14  357559cb-8c58-4278-a41a-e33b2e0997a3   \n",
              "\n",
              "      timestamp  hour  day  month             datetime          timezone  \\\n",
              "0  1.544953e+09     9   16     12  2018-12-16 09:30:07  America/New_York   \n",
              "1  1.543284e+09     2   27     11  2018-11-27 02:00:23  America/New_York   \n",
              "2  1.543818e+09     6    3     12  2018-12-03 06:28:02  America/New_York   \n",
              "3  1.543594e+09    16   30     11  2018-11-30 16:13:03  America/New_York   \n",
              "4  1.544729e+09    19   13     12  2018-12-13 19:15:03  America/New_York   \n",
              "\n",
              "             source  ... precipIntensityMax uvIndexTime temperatureMin  \\\n",
              "0  Haymarket Square  ...             0.1276  1544979600          39.89   \n",
              "1  Haymarket Square  ...             0.1300  1543251600          40.49   \n",
              "2          Back Bay  ...             0.0004  1543852800          43.09   \n",
              "3          Back Bay  ...             0.0004  1543593600          28.64   \n",
              "4         North End  ...             0.0001  1544716800          18.29   \n",
              "\n",
              "  temperatureMinTime  temperatureMax  temperatureMaxTime  \\\n",
              "0         1545012000           43.68          1544968800   \n",
              "1         1543233600           47.30          1543251600   \n",
              "2         1543896000           57.02          1543852800   \n",
              "3         1543579200           42.32          1543600800   \n",
              "4         1544688000           33.83          1544731200   \n",
              "\n",
              "   apparentTemperatureMin  apparentTemperatureMinTime  apparentTemperatureMax  \\\n",
              "0                   33.73                  1545012000                   38.07   \n",
              "1                   36.20                  1543291200                   43.92   \n",
              "2                   39.90                  1543896000                   56.35   \n",
              "3                   29.29                  1543579200                   40.48   \n",
              "4                   13.79                  1544688000                   32.85   \n",
              "\n",
              "   apparentTemperatureMaxTime  \n",
              "0                  1544958000  \n",
              "1                  1543251600  \n",
              "2                  1543852800  \n",
              "3                  1543611600  \n",
              "4                  1544734800  \n",
              "\n",
              "[5 rows x 59 columns]"
            ]
          },
          "execution_count": 10,
          "metadata": {},
          "output_type": "execute_result"
        }
      ],
      "source": [
        "uber_dataset.head()"
      ]
    },
    {
      "cell_type": "code",
      "execution_count": 11,
      "metadata": {
        "colab": {
          "base_uri": "https://localhost:8080/"
        },
        "id": "GnPy0bMSwHMP",
        "outputId": "5860d7de-d9b8-4373-cca1-d17b223f753a"
      },
      "outputs": [
        {
          "data": {
            "text/plain": [
              "(322844, 59)"
            ]
          },
          "execution_count": 11,
          "metadata": {},
          "output_type": "execute_result"
        }
      ],
      "source": [
        "uber_dataset.shape"
      ]
    },
    {
      "cell_type": "code",
      "execution_count": 12,
      "metadata": {
        "colab": {
          "base_uri": "https://localhost:8080/"
        },
        "id": "M0DzrOhjwKjK",
        "outputId": "6e26f24d-c92b-4941-d7dd-fbf74eefba63"
      },
      "outputs": [
        {
          "name": "stdout",
          "output_type": "stream",
          "text": [
            "<class 'pandas.core.frame.DataFrame'>\n",
            "RangeIndex: 322844 entries, 0 to 322843\n",
            "Data columns (total 59 columns):\n",
            " #   Column                       Non-Null Count   Dtype  \n",
            "---  ------                       --------------   -----  \n",
            " 0   Unnamed: 0.1                 322844 non-null  int64  \n",
            " 1   Unnamed: 0                   322844 non-null  int64  \n",
            " 2   id                           322844 non-null  object \n",
            " 3   timestamp                    322844 non-null  float64\n",
            " 4   hour                         322844 non-null  int64  \n",
            " 5   day                          322844 non-null  int64  \n",
            " 6   month                        322844 non-null  int64  \n",
            " 7   datetime                     322844 non-null  object \n",
            " 8   timezone                     322844 non-null  object \n",
            " 9   source                       322844 non-null  object \n",
            " 10  destination                  322844 non-null  object \n",
            " 11  cab_type                     322844 non-null  object \n",
            " 12  product_id                   322844 non-null  object \n",
            " 13  name                         322844 non-null  object \n",
            " 14  price                        267749 non-null  float64\n",
            " 15  distance                     322844 non-null  float64\n",
            " 16  surge_multiplier             322844 non-null  float64\n",
            " 17  latitude                     322844 non-null  float64\n",
            " 18  longitude                    322844 non-null  float64\n",
            " 19  temperature                  322844 non-null  float64\n",
            " 20  apparentTemperature          322844 non-null  float64\n",
            " 21  short_summary                322844 non-null  object \n",
            " 22  long_summary                 322844 non-null  object \n",
            " 23  precipIntensity              322844 non-null  float64\n",
            " 24  precipProbability            322844 non-null  float64\n",
            " 25  humidity                     322844 non-null  float64\n",
            " 26  windSpeed                    322844 non-null  float64\n",
            " 27  windGust                     322844 non-null  float64\n",
            " 28  windGustTime                 322844 non-null  int64  \n",
            " 29  visibility                   322844 non-null  float64\n",
            " 30  temperatureHigh              322844 non-null  float64\n",
            " 31  temperatureHighTime          322844 non-null  int64  \n",
            " 32  temperatureLow               322844 non-null  float64\n",
            " 33  temperatureLowTime           322844 non-null  int64  \n",
            " 34  apparentTemperatureHigh      322844 non-null  float64\n",
            " 35  apparentTemperatureHighTime  322844 non-null  int64  \n",
            " 36  apparentTemperatureLow       322844 non-null  float64\n",
            " 37  apparentTemperatureLowTime   322844 non-null  int64  \n",
            " 38  icon                         322844 non-null  object \n",
            " 39  dewPoint                     322844 non-null  float64\n",
            " 40  pressure                     322844 non-null  float64\n",
            " 41  windBearing                  322844 non-null  int64  \n",
            " 42  cloudCover                   322844 non-null  float64\n",
            " 43  uvIndex                      322844 non-null  int64  \n",
            " 44  visibility.1                 322844 non-null  float64\n",
            " 45  ozone                        322844 non-null  float64\n",
            " 46  sunriseTime                  322844 non-null  int64  \n",
            " 47  sunsetTime                   322844 non-null  int64  \n",
            " 48  moonPhase                    322844 non-null  float64\n",
            " 49  precipIntensityMax           322844 non-null  float64\n",
            " 50  uvIndexTime                  322844 non-null  int64  \n",
            " 51  temperatureMin               322844 non-null  float64\n",
            " 52  temperatureMinTime           322844 non-null  int64  \n",
            " 53  temperatureMax               322844 non-null  float64\n",
            " 54  temperatureMaxTime           322844 non-null  int64  \n",
            " 55  apparentTemperatureMin       322844 non-null  float64\n",
            " 56  apparentTemperatureMinTime   322844 non-null  int64  \n",
            " 57  apparentTemperatureMax       322844 non-null  float64\n",
            " 58  apparentTemperatureMaxTime   322844 non-null  int64  \n",
            "dtypes: float64(29), int64(19), object(11)\n",
            "memory usage: 145.3+ MB\n"
          ]
        }
      ],
      "source": [
        "uber_dataset.info()"
      ]
    },
    {
      "cell_type": "code",
      "execution_count": 13,
      "metadata": {
        "colab": {
          "base_uri": "https://localhost:8080/",
          "height": 394
        },
        "id": "606MieO8wQKm",
        "outputId": "a393f8d4-8177-49e6-8def-909bdf522ca2"
      },
      "outputs": [
        {
          "data": {
            "text/html": [
              "\n",
              "  <div id=\"df-e2ef69b8-b019-4d9e-bf02-fee9c8c9352d\">\n",
              "    <div class=\"colab-df-container\">\n",
              "      <div>\n",
              "<style scoped>\n",
              "    .dataframe tbody tr th:only-of-type {\n",
              "        vertical-align: middle;\n",
              "    }\n",
              "\n",
              "    .dataframe tbody tr th {\n",
              "        vertical-align: top;\n",
              "    }\n",
              "\n",
              "    .dataframe thead th {\n",
              "        text-align: right;\n",
              "    }\n",
              "</style>\n",
              "<table border=\"1\" class=\"dataframe\">\n",
              "  <thead>\n",
              "    <tr style=\"text-align: right;\">\n",
              "      <th></th>\n",
              "      <th>Unnamed: 0.1</th>\n",
              "      <th>Unnamed: 0</th>\n",
              "      <th>timestamp</th>\n",
              "      <th>hour</th>\n",
              "      <th>day</th>\n",
              "      <th>month</th>\n",
              "      <th>price</th>\n",
              "      <th>distance</th>\n",
              "      <th>surge_multiplier</th>\n",
              "      <th>latitude</th>\n",
              "      <th>...</th>\n",
              "      <th>precipIntensityMax</th>\n",
              "      <th>uvIndexTime</th>\n",
              "      <th>temperatureMin</th>\n",
              "      <th>temperatureMinTime</th>\n",
              "      <th>temperatureMax</th>\n",
              "      <th>temperatureMaxTime</th>\n",
              "      <th>apparentTemperatureMin</th>\n",
              "      <th>apparentTemperatureMinTime</th>\n",
              "      <th>apparentTemperatureMax</th>\n",
              "      <th>apparentTemperatureMaxTime</th>\n",
              "    </tr>\n",
              "  </thead>\n",
              "  <tbody>\n",
              "    <tr>\n",
              "      <th>count</th>\n",
              "      <td>322844.000000</td>\n",
              "      <td>322844.000000</td>\n",
              "      <td>3.228440e+05</td>\n",
              "      <td>322844.000000</td>\n",
              "      <td>322844.000000</td>\n",
              "      <td>322844.000000</td>\n",
              "      <td>267749.000000</td>\n",
              "      <td>322844.000000</td>\n",
              "      <td>322844.000000</td>\n",
              "      <td>322844.000000</td>\n",
              "      <td>...</td>\n",
              "      <td>322844.000000</td>\n",
              "      <td>3.228440e+05</td>\n",
              "      <td>322844.000000</td>\n",
              "      <td>3.228440e+05</td>\n",
              "      <td>322844.000000</td>\n",
              "      <td>3.228440e+05</td>\n",
              "      <td>322844.000000</td>\n",
              "      <td>3.228440e+05</td>\n",
              "      <td>322844.000000</td>\n",
              "      <td>3.228440e+05</td>\n",
              "    </tr>\n",
              "    <tr>\n",
              "      <th>mean</th>\n",
              "      <td>161421.500000</td>\n",
              "      <td>346778.946299</td>\n",
              "      <td>1.544047e+09</td>\n",
              "      <td>11.611986</td>\n",
              "      <td>17.793380</td>\n",
              "      <td>11.587045</td>\n",
              "      <td>14.596878</td>\n",
              "      <td>2.189991</td>\n",
              "      <td>1.005900</td>\n",
              "      <td>42.338073</td>\n",
              "      <td>...</td>\n",
              "      <td>0.037368</td>\n",
              "      <td>1.544045e+09</td>\n",
              "      <td>33.458969</td>\n",
              "      <td>1.544042e+09</td>\n",
              "      <td>45.263932</td>\n",
              "      <td>1.544048e+09</td>\n",
              "      <td>29.730870</td>\n",
              "      <td>1.544049e+09</td>\n",
              "      <td>41.997339</td>\n",
              "      <td>1.544049e+09</td>\n",
              "    </tr>\n",
              "    <tr>\n",
              "      <th>std</th>\n",
              "      <td>93197.179491</td>\n",
              "      <td>200151.866895</td>\n",
              "      <td>6.893543e+05</td>\n",
              "      <td>6.945794</td>\n",
              "      <td>9.977869</td>\n",
              "      <td>0.492366</td>\n",
              "      <td>9.573120</td>\n",
              "      <td>1.150471</td>\n",
              "      <td>0.059262</td>\n",
              "      <td>0.047918</td>\n",
              "      <td>...</td>\n",
              "      <td>0.055194</td>\n",
              "      <td>6.913761e+05</td>\n",
              "      <td>6.468837</td>\n",
              "      <td>6.903767e+05</td>\n",
              "      <td>5.647543</td>\n",
              "      <td>6.903028e+05</td>\n",
              "      <td>7.113967</td>\n",
              "      <td>6.873598e+05</td>\n",
              "      <td>6.941223</td>\n",
              "      <td>6.912309e+05</td>\n",
              "    </tr>\n",
              "    <tr>\n",
              "      <th>min</th>\n",
              "      <td>0.000000</td>\n",
              "      <td>0.000000</td>\n",
              "      <td>1.543204e+09</td>\n",
              "      <td>0.000000</td>\n",
              "      <td>1.000000</td>\n",
              "      <td>11.000000</td>\n",
              "      <td>2.500000</td>\n",
              "      <td>0.020000</td>\n",
              "      <td>1.000000</td>\n",
              "      <td>42.214800</td>\n",
              "      <td>...</td>\n",
              "      <td>0.000000</td>\n",
              "      <td>1.543162e+09</td>\n",
              "      <td>15.630000</td>\n",
              "      <td>1.543122e+09</td>\n",
              "      <td>33.510000</td>\n",
              "      <td>1.543154e+09</td>\n",
              "      <td>11.810000</td>\n",
              "      <td>1.543136e+09</td>\n",
              "      <td>28.950000</td>\n",
              "      <td>1.543187e+09</td>\n",
              "    </tr>\n",
              "    <tr>\n",
              "      <th>25%</th>\n",
              "      <td>80710.750000</td>\n",
              "      <td>173489.750000</td>\n",
              "      <td>1.543444e+09</td>\n",
              "      <td>6.000000</td>\n",
              "      <td>13.000000</td>\n",
              "      <td>11.000000</td>\n",
              "      <td>7.500000</td>\n",
              "      <td>1.280000</td>\n",
              "      <td>1.000000</td>\n",
              "      <td>42.350300</td>\n",
              "      <td>...</td>\n",
              "      <td>0.000000</td>\n",
              "      <td>1.543421e+09</td>\n",
              "      <td>30.170000</td>\n",
              "      <td>1.543399e+09</td>\n",
              "      <td>42.570000</td>\n",
              "      <td>1.543439e+09</td>\n",
              "      <td>27.760000</td>\n",
              "      <td>1.543399e+09</td>\n",
              "      <td>36.570000</td>\n",
              "      <td>1.543439e+09</td>\n",
              "    </tr>\n",
              "    <tr>\n",
              "      <th>50%</th>\n",
              "      <td>161421.500000</td>\n",
              "      <td>346785.000000</td>\n",
              "      <td>1.543738e+09</td>\n",
              "      <td>12.000000</td>\n",
              "      <td>17.000000</td>\n",
              "      <td>12.000000</td>\n",
              "      <td>10.500000</td>\n",
              "      <td>2.170000</td>\n",
              "      <td>1.000000</td>\n",
              "      <td>42.351900</td>\n",
              "      <td>...</td>\n",
              "      <td>0.000400</td>\n",
              "      <td>1.543770e+09</td>\n",
              "      <td>34.240000</td>\n",
              "      <td>1.543727e+09</td>\n",
              "      <td>44.660000</td>\n",
              "      <td>1.543788e+09</td>\n",
              "      <td>30.130000</td>\n",
              "      <td>1.543745e+09</td>\n",
              "      <td>40.950000</td>\n",
              "      <td>1.543788e+09</td>\n",
              "    </tr>\n",
              "    <tr>\n",
              "      <th>75%</th>\n",
              "      <td>242132.250000</td>\n",
              "      <td>520066.250000</td>\n",
              "      <td>1.544828e+09</td>\n",
              "      <td>18.000000</td>\n",
              "      <td>28.000000</td>\n",
              "      <td>12.000000</td>\n",
              "      <td>22.500000</td>\n",
              "      <td>2.880000</td>\n",
              "      <td>1.000000</td>\n",
              "      <td>42.364700</td>\n",
              "      <td>...</td>\n",
              "      <td>0.091600</td>\n",
              "      <td>1.544807e+09</td>\n",
              "      <td>38.880000</td>\n",
              "      <td>1.544789e+09</td>\n",
              "      <td>46.910000</td>\n",
              "      <td>1.544814e+09</td>\n",
              "      <td>35.710000</td>\n",
              "      <td>1.544789e+09</td>\n",
              "      <td>44.120000</td>\n",
              "      <td>1.544818e+09</td>\n",
              "    </tr>\n",
              "    <tr>\n",
              "      <th>max</th>\n",
              "      <td>322843.000000</td>\n",
              "      <td>693070.000000</td>\n",
              "      <td>1.545161e+09</td>\n",
              "      <td>23.000000</td>\n",
              "      <td>30.000000</td>\n",
              "      <td>12.000000</td>\n",
              "      <td>89.500000</td>\n",
              "      <td>7.860000</td>\n",
              "      <td>2.000000</td>\n",
              "      <td>42.366100</td>\n",
              "      <td>...</td>\n",
              "      <td>0.145900</td>\n",
              "      <td>1.545152e+09</td>\n",
              "      <td>43.100000</td>\n",
              "      <td>1.545192e+09</td>\n",
              "      <td>57.870000</td>\n",
              "      <td>1.545109e+09</td>\n",
              "      <td>40.050000</td>\n",
              "      <td>1.545134e+09</td>\n",
              "      <td>57.200000</td>\n",
              "      <td>1.545109e+09</td>\n",
              "    </tr>\n",
              "  </tbody>\n",
              "</table>\n",
              "<p>8 rows × 48 columns</p>\n",
              "</div>\n",
              "      <button class=\"colab-df-convert\" onclick=\"convertToInteractive('df-e2ef69b8-b019-4d9e-bf02-fee9c8c9352d')\"\n",
              "              title=\"Convert this dataframe to an interactive table.\"\n",
              "              style=\"display:none;\">\n",
              "        \n",
              "  <svg xmlns=\"http://www.w3.org/2000/svg\" height=\"24px\"viewBox=\"0 0 24 24\"\n",
              "       width=\"24px\">\n",
              "    <path d=\"M0 0h24v24H0V0z\" fill=\"none\"/>\n",
              "    <path d=\"M18.56 5.44l.94 2.06.94-2.06 2.06-.94-2.06-.94-.94-2.06-.94 2.06-2.06.94zm-11 1L8.5 8.5l.94-2.06 2.06-.94-2.06-.94L8.5 2.5l-.94 2.06-2.06.94zm10 10l.94 2.06.94-2.06 2.06-.94-2.06-.94-.94-2.06-.94 2.06-2.06.94z\"/><path d=\"M17.41 7.96l-1.37-1.37c-.4-.4-.92-.59-1.43-.59-.52 0-1.04.2-1.43.59L10.3 9.45l-7.72 7.72c-.78.78-.78 2.05 0 2.83L4 21.41c.39.39.9.59 1.41.59.51 0 1.02-.2 1.41-.59l7.78-7.78 2.81-2.81c.8-.78.8-2.07 0-2.86zM5.41 20L4 18.59l7.72-7.72 1.47 1.35L5.41 20z\"/>\n",
              "  </svg>\n",
              "      </button>\n",
              "      \n",
              "  <style>\n",
              "    .colab-df-container {\n",
              "      display:flex;\n",
              "      flex-wrap:wrap;\n",
              "      gap: 12px;\n",
              "    }\n",
              "\n",
              "    .colab-df-convert {\n",
              "      background-color: #E8F0FE;\n",
              "      border: none;\n",
              "      border-radius: 50%;\n",
              "      cursor: pointer;\n",
              "      display: none;\n",
              "      fill: #1967D2;\n",
              "      height: 32px;\n",
              "      padding: 0 0 0 0;\n",
              "      width: 32px;\n",
              "    }\n",
              "\n",
              "    .colab-df-convert:hover {\n",
              "      background-color: #E2EBFA;\n",
              "      box-shadow: 0px 1px 2px rgba(60, 64, 67, 0.3), 0px 1px 3px 1px rgba(60, 64, 67, 0.15);\n",
              "      fill: #174EA6;\n",
              "    }\n",
              "\n",
              "    [theme=dark] .colab-df-convert {\n",
              "      background-color: #3B4455;\n",
              "      fill: #D2E3FC;\n",
              "    }\n",
              "\n",
              "    [theme=dark] .colab-df-convert:hover {\n",
              "      background-color: #434B5C;\n",
              "      box-shadow: 0px 1px 3px 1px rgba(0, 0, 0, 0.15);\n",
              "      filter: drop-shadow(0px 1px 2px rgba(0, 0, 0, 0.3));\n",
              "      fill: #FFFFFF;\n",
              "    }\n",
              "  </style>\n",
              "\n",
              "      <script>\n",
              "        const buttonEl =\n",
              "          document.querySelector('#df-e2ef69b8-b019-4d9e-bf02-fee9c8c9352d button.colab-df-convert');\n",
              "        buttonEl.style.display =\n",
              "          google.colab.kernel.accessAllowed ? 'block' : 'none';\n",
              "\n",
              "        async function convertToInteractive(key) {\n",
              "          const element = document.querySelector('#df-e2ef69b8-b019-4d9e-bf02-fee9c8c9352d');\n",
              "          const dataTable =\n",
              "            await google.colab.kernel.invokeFunction('convertToInteractive',\n",
              "                                                     [key], {});\n",
              "          if (!dataTable) return;\n",
              "\n",
              "          const docLinkHtml = 'Like what you see? Visit the ' +\n",
              "            '<a target=\"_blank\" href=https://colab.research.google.com/notebooks/data_table.ipynb>data table notebook</a>'\n",
              "            + ' to learn more about interactive tables.';\n",
              "          element.innerHTML = '';\n",
              "          dataTable['output_type'] = 'display_data';\n",
              "          await google.colab.output.renderOutput(dataTable, element);\n",
              "          const docLink = document.createElement('div');\n",
              "          docLink.innerHTML = docLinkHtml;\n",
              "          element.appendChild(docLink);\n",
              "        }\n",
              "      </script>\n",
              "    </div>\n",
              "  </div>\n",
              "  "
            ],
            "text/plain": [
              "        Unnamed: 0.1     Unnamed: 0     timestamp           hour  \\\n",
              "count  322844.000000  322844.000000  3.228440e+05  322844.000000   \n",
              "mean   161421.500000  346778.946299  1.544047e+09      11.611986   \n",
              "std     93197.179491  200151.866895  6.893543e+05       6.945794   \n",
              "min         0.000000       0.000000  1.543204e+09       0.000000   \n",
              "25%     80710.750000  173489.750000  1.543444e+09       6.000000   \n",
              "50%    161421.500000  346785.000000  1.543738e+09      12.000000   \n",
              "75%    242132.250000  520066.250000  1.544828e+09      18.000000   \n",
              "max    322843.000000  693070.000000  1.545161e+09      23.000000   \n",
              "\n",
              "                 day          month          price       distance  \\\n",
              "count  322844.000000  322844.000000  267749.000000  322844.000000   \n",
              "mean       17.793380      11.587045      14.596878       2.189991   \n",
              "std         9.977869       0.492366       9.573120       1.150471   \n",
              "min         1.000000      11.000000       2.500000       0.020000   \n",
              "25%        13.000000      11.000000       7.500000       1.280000   \n",
              "50%        17.000000      12.000000      10.500000       2.170000   \n",
              "75%        28.000000      12.000000      22.500000       2.880000   \n",
              "max        30.000000      12.000000      89.500000       7.860000   \n",
              "\n",
              "       surge_multiplier       latitude  ...  precipIntensityMax   uvIndexTime  \\\n",
              "count     322844.000000  322844.000000  ...       322844.000000  3.228440e+05   \n",
              "mean           1.005900      42.338073  ...            0.037368  1.544045e+09   \n",
              "std            0.059262       0.047918  ...            0.055194  6.913761e+05   \n",
              "min            1.000000      42.214800  ...            0.000000  1.543162e+09   \n",
              "25%            1.000000      42.350300  ...            0.000000  1.543421e+09   \n",
              "50%            1.000000      42.351900  ...            0.000400  1.543770e+09   \n",
              "75%            1.000000      42.364700  ...            0.091600  1.544807e+09   \n",
              "max            2.000000      42.366100  ...            0.145900  1.545152e+09   \n",
              "\n",
              "       temperatureMin  temperatureMinTime  temperatureMax  temperatureMaxTime  \\\n",
              "count   322844.000000        3.228440e+05   322844.000000        3.228440e+05   \n",
              "mean        33.458969        1.544042e+09       45.263932        1.544048e+09   \n",
              "std          6.468837        6.903767e+05        5.647543        6.903028e+05   \n",
              "min         15.630000        1.543122e+09       33.510000        1.543154e+09   \n",
              "25%         30.170000        1.543399e+09       42.570000        1.543439e+09   \n",
              "50%         34.240000        1.543727e+09       44.660000        1.543788e+09   \n",
              "75%         38.880000        1.544789e+09       46.910000        1.544814e+09   \n",
              "max         43.100000        1.545192e+09       57.870000        1.545109e+09   \n",
              "\n",
              "       apparentTemperatureMin  apparentTemperatureMinTime  \\\n",
              "count           322844.000000                3.228440e+05   \n",
              "mean                29.730870                1.544049e+09   \n",
              "std                  7.113967                6.873598e+05   \n",
              "min                 11.810000                1.543136e+09   \n",
              "25%                 27.760000                1.543399e+09   \n",
              "50%                 30.130000                1.543745e+09   \n",
              "75%                 35.710000                1.544789e+09   \n",
              "max                 40.050000                1.545134e+09   \n",
              "\n",
              "       apparentTemperatureMax  apparentTemperatureMaxTime  \n",
              "count           322844.000000                3.228440e+05  \n",
              "mean                41.997339                1.544049e+09  \n",
              "std                  6.941223                6.912309e+05  \n",
              "min                 28.950000                1.543187e+09  \n",
              "25%                 36.570000                1.543439e+09  \n",
              "50%                 40.950000                1.543788e+09  \n",
              "75%                 44.120000                1.544818e+09  \n",
              "max                 57.200000                1.545109e+09  \n",
              "\n",
              "[8 rows x 48 columns]"
            ]
          },
          "execution_count": 13,
          "metadata": {},
          "output_type": "execute_result"
        }
      ],
      "source": [
        "uber_dataset.describe()"
      ]
    },
    {
      "cell_type": "code",
      "execution_count": 14,
      "metadata": {
        "colab": {
          "base_uri": "https://localhost:8080/"
        },
        "id": "dC7EgvYFwWsy",
        "outputId": "4b39110c-4afb-4abc-e507-fb03845ace92"
      },
      "outputs": [
        {
          "data": {
            "text/plain": [
              "Unnamed: 0.1                       0\n",
              "Unnamed: 0                         0\n",
              "id                                 0\n",
              "timestamp                          0\n",
              "hour                               0\n",
              "day                                0\n",
              "month                              0\n",
              "datetime                           0\n",
              "timezone                           0\n",
              "source                             0\n",
              "destination                        0\n",
              "cab_type                           0\n",
              "product_id                         0\n",
              "name                               0\n",
              "price                          55095\n",
              "distance                           0\n",
              "surge_multiplier                   0\n",
              "latitude                           0\n",
              "longitude                          0\n",
              "temperature                        0\n",
              "apparentTemperature                0\n",
              "short_summary                      0\n",
              "long_summary                       0\n",
              "precipIntensity                    0\n",
              "precipProbability                  0\n",
              "humidity                           0\n",
              "windSpeed                          0\n",
              "windGust                           0\n",
              "windGustTime                       0\n",
              "visibility                         0\n",
              "temperatureHigh                    0\n",
              "temperatureHighTime                0\n",
              "temperatureLow                     0\n",
              "temperatureLowTime                 0\n",
              "apparentTemperatureHigh            0\n",
              "apparentTemperatureHighTime        0\n",
              "apparentTemperatureLow             0\n",
              "apparentTemperatureLowTime         0\n",
              "icon                               0\n",
              "dewPoint                           0\n",
              "pressure                           0\n",
              "windBearing                        0\n",
              "cloudCover                         0\n",
              "uvIndex                            0\n",
              "visibility.1                       0\n",
              "ozone                              0\n",
              "sunriseTime                        0\n",
              "sunsetTime                         0\n",
              "moonPhase                          0\n",
              "precipIntensityMax                 0\n",
              "uvIndexTime                        0\n",
              "temperatureMin                     0\n",
              "temperatureMinTime                 0\n",
              "temperatureMax                     0\n",
              "temperatureMaxTime                 0\n",
              "apparentTemperatureMin             0\n",
              "apparentTemperatureMinTime         0\n",
              "apparentTemperatureMax             0\n",
              "apparentTemperatureMaxTime         0\n",
              "dtype: int64"
            ]
          },
          "execution_count": 14,
          "metadata": {},
          "output_type": "execute_result"
        }
      ],
      "source": [
        "uber_dataset.isnull().sum()"
      ]
    },
    {
      "cell_type": "markdown",
      "metadata": {
        "id": "ObvjF5bNe7mA"
      },
      "source": [
        "**Visualizing**"
      ]
    },
    {
      "cell_type": "code",
      "execution_count": 15,
      "metadata": {
        "id": "q74BPcrdwaW1"
      },
      "outputs": [],
      "source": [
        "import matplotlib.pyplot as plt\n",
        "import numpy as np\n",
        "%matplotlib inline\n",
        "import seaborn as sns\n",
        "import pandas as pd"
      ]
    },
    {
      "cell_type": "markdown",
      "metadata": {
        "id": "dSkGe01_fkNm"
      },
      "source": [
        "**Strip Plots**"
      ]
    },
    {
      "cell_type": "code",
      "execution_count": 16,
      "metadata": {
        "colab": {
          "base_uri": "https://localhost:8080/",
          "height": 466
        },
        "id": "3Q_kFjo-wlbj",
        "outputId": "2c9f72df-4c46-450e-a8d5-3e03356d293a"
      },
      "outputs": [
        {
          "data": {
            "text/plain": [
              "<Axes: xlabel='price', ylabel='name'>"
            ]
          },
          "execution_count": 16,
          "metadata": {},
          "output_type": "execute_result"
        },
        {
          "data": {
            "image/png": "[encoded data removed]",
            "text/plain": [
              "<Figure size 640x480 with 1 Axes>"
            ]
          },
          "metadata": {},
          "output_type": "display_data"
        }
      ],
      "source": [
        "sns.catplot(data=uber_dataset, x='price', y='name', kind='strip')"
      ]
    },
    {
      "cell_type": "code",
      "execution_count": 17,
      "metadata": {
        "colab": {
          "base_uri": "https://localhost:8080/",
          "height": 466
        },
        "id": "Kl4zpyT1wqx6",
        "outputId": "4473b16f-34f2-4358-efbe-e54b3c85fb19"
      },
      "outputs": [
        {
          "data": {
            "text/plain": [
              "<Axes: xlabel='price', ylabel='icon'>"
            ]
          },
          "execution_count": 17,
          "metadata": {},
          "output_type": "execute_result"
        },
        {
          "data": {
            "image/png": "[encoded data removed]",
            "text/plain": [
              "<Figure size 640x480 with 1 Axes>"
            ]
          },
          "metadata": {},
          "output_type": "display_data"
        }
      ],
      "source": [
        "sns.stripplot(data=uber_dataset, x='price', y='icon')"
      ]
    },
    {
      "cell_type": "code",
      "execution_count": 18,
      "metadata": {
        "colab": {
          "base_uri": "https://localhost:8080/",
          "height": 467
        },
        "id": "Z9mRh-IhwugG",
        "outputId": "4d9e6aa4-8448-4c0b-f56e-1b1a24907354"
      },
      "outputs": [
        {
          "data": {
            "text/plain": [
              "<Axes: xlabel='surge_multiplier', ylabel='source'>"
            ]
          },
          "execution_count": 18,
          "metadata": {},
          "output_type": "execute_result"
        },
        {
          "data": {
            "image/png": "[encoded data removed]",
            "text/plain": [
              "<Figure size 640x480 with 1 Axes>"
            ]
          },
          "metadata": {},
          "output_type": "display_data"
        }
      ],
      "source": [
        "sns.stripplot(data=uber_dataset, x='surge_multiplier', y='source')"
      ]
    },
    {
      "cell_type": "code",
      "execution_count": 19,
      "metadata": {
        "colab": {
          "base_uri": "https://localhost:8080/",
          "height": 467
        },
        "id": "82q8EDfywx9z",
        "outputId": "79051d0b-2e26-42b6-b1e6-8cf379443d61"
      },
      "outputs": [
        {
          "data": {
            "text/plain": [
              "<Axes: xlabel='surge_multiplier', ylabel='hour'>"
            ]
          },
          "execution_count": 19,
          "metadata": {},
          "output_type": "execute_result"
        },
        {
          "data": {
            "image/png": "[encoded data removed]",
            "text/plain": [
              "<Figure size 640x480 with 1 Axes>"
            ]
          },
          "metadata": {},
          "output_type": "display_data"
        }
      ],
      "source": [
        "sns.stripplot(data=uber_dataset, x='surge_multiplier', y='hour')"
      ]
    },
    {
      "cell_type": "code",
      "execution_count": 20,
      "metadata": {
        "colab": {
          "base_uri": "https://localhost:8080/"
        },
        "id": "1kf3QYBEw3xx",
        "outputId": "28c7f152-a583-4373-b1c7-9d3f3c97b896"
      },
      "outputs": [
        {
          "data": {
            "text/plain": [
              "0    1.544953e+09\n",
              "1    1.543284e+09\n",
              "2    1.543818e+09\n",
              "3    1.543594e+09\n",
              "4    1.544729e+09\n",
              "Name: timestamp, dtype: float64"
            ]
          },
          "execution_count": 20,
          "metadata": {},
          "output_type": "execute_result"
        }
      ],
      "source": [
        "uber_dataset['timestamp'].head()"
      ]
    },
    {
      "cell_type": "code",
      "execution_count": 21,
      "metadata": {
        "colab": {
          "base_uri": "https://localhost:8080/"
        },
        "id": "11qLT-CAw4zA",
        "outputId": "1469da14-b044-405e-f961-4d79cae30922"
      },
      "outputs": [
        {
          "name": "stdout",
          "output_type": "stream",
          "text": [
            "dt_object = 2018-12-16 09:30:08\n",
            "dt_object = 2018-11-27 02:00:24\n",
            "dt_object = 2018-12-03 06:28:03\n",
            "dt_object = 2018-11-30 16:13:04\n",
            "dt_object = 2018-12-13 19:15:04\n"
          ]
        }
      ],
      "source": [
        "from datetime import datetime\n",
        "timestamp1 = 1544952608\n",
        "timestamp2 = 1543284024\n",
        "timestamp3 = 1543818483\n",
        "timestamp4 = 1543594384\n",
        "timestamp5 = 1544728504\n",
        "dt_object1 = datetime.fromtimestamp(timestamp1)\n",
        "dt_object2 = datetime.fromtimestamp(timestamp2)\n",
        "dt_object3 = datetime.fromtimestamp(timestamp3)\n",
        "dt_object4 = datetime.fromtimestamp(timestamp4)\n",
        "dt_object5 = datetime.fromtimestamp(timestamp5)\n",
        "\n",
        "print(\"dt_object =\", dt_object1)\n",
        "print(\"dt_object =\", dt_object2)\n",
        "print(\"dt_object =\", dt_object3)\n",
        "print(\"dt_object =\", dt_object4)\n",
        "print(\"dt_object =\", dt_object5)"
      ]
    },
    {
      "cell_type": "code",
      "execution_count": 22,
      "metadata": {
        "colab": {
          "base_uri": "https://localhost:8080/",
          "height": 466
        },
        "id": "BL0vbnP9w47l",
        "outputId": "3b74b6c3-8fca-4d25-b96d-924f2c8365e3"
      },
      "outputs": [
        {
          "data": {
            "text/plain": [
              "<Axes: >"
            ]
          },
          "execution_count": 22,
          "metadata": {},
          "output_type": "execute_result"
        },
        {
          "data": {
            "image/png": "[encoded data removed]",
            "text/plain": [
              "<Figure size 1000x500 with 1 Axes>"
            ]
          },
          "metadata": {},
          "output_type": "display_data"
        }
      ],
      "source": [
        "uber_dataset['month'].value_counts().plot(kind='bar', figsize=(10,5), color='blue')"
      ]
    },
    {
      "cell_type": "code",
      "execution_count": 23,
      "metadata": {
        "colab": {
          "base_uri": "https://localhost:8080/",
          "height": 614
        },
        "id": "0d88r7Obw4-e",
        "outputId": "f3638914-70cb-4498-e6fa-6a098f08a7c1"
      },
      "outputs": [
        {
          "data": {
            "text/plain": [
              "<Axes: >"
            ]
          },
          "execution_count": 23,
          "metadata": {},
          "output_type": "execute_result"
        },
        {
          "data": {
            "image/png": "[encoded data removed]",
            "text/plain": [
              "<Figure size 1000x500 with 1 Axes>"
            ]
          },
          "metadata": {},
          "output_type": "display_data"
        }
      ],
      "source": [
        "uber_dataset['source'].value_counts().plot(kind='bar', figsize=(10,5), color='green')"
      ]
    },
    {
      "cell_type": "code",
      "execution_count": 24,
      "metadata": {
        "colab": {
          "base_uri": "https://localhost:8080/",
          "height": 519
        },
        "id": "kHDMnw4Dw5A1",
        "outputId": "56862262-d709-4feb-d36b-68a2ada5330f"
      },
      "outputs": [
        {
          "data": {
            "text/plain": [
              "<Axes: >"
            ]
          },
          "execution_count": 24,
          "metadata": {},
          "output_type": "execute_result"
        },
        {
          "data": {
            "image/png": "[encoded data removed]",
            "text/plain": [
              "<Figure size 1000x500 with 1 Axes>"
            ]
          },
          "metadata": {},
          "output_type": "display_data"
        }
      ],
      "source": [
        "uber_dataset['name'].value_counts().plot(kind='bar', figsize=(10,5), color='orange')"
      ]
    },
    {
      "cell_type": "code",
      "execution_count": 25,
      "metadata": {
        "colab": {
          "base_uri": "https://localhost:8080/",
          "height": 589
        },
        "id": "RGZ5avKpw5EQ",
        "outputId": "9495ddd0-83e8-4628-e8a5-0e65e08611c2"
      },
      "outputs": [
        {
          "data": {
            "text/plain": [
              "<Axes: >"
            ]
          },
          "execution_count": 25,
          "metadata": {},
          "output_type": "execute_result"
        },
        {
          "data": {
            "image/png": "[encoded data removed]",
            "text/plain": [
              "<Figure size 1000x500 with 1 Axes>"
            ]
          },
          "metadata": {},
          "output_type": "display_data"
        }
      ],
      "source": [
        "uber_dataset['icon'].value_counts().plot(kind='bar', figsize=(10,5), color='red')"
      ]
    },
    {
      "cell_type": "code",
      "execution_count": 26,
      "metadata": {
        "colab": {
          "base_uri": "https://localhost:8080/",
          "height": 457
        },
        "id": "k3lYdibVxKRS",
        "outputId": "3a23da44-7ffc-4026-cd6d-a4f30b83e8dd"
      },
      "outputs": [
        {
          "data": {
            "text/plain": [
              "<Axes: >"
            ]
          },
          "execution_count": 26,
          "metadata": {},
          "output_type": "execute_result"
        },
        {
          "data": {
            "image/png": "[encoded data removed]",
            "text/plain": [
              "<Figure size 1000x500 with 1 Axes>"
            ]
          },
          "metadata": {},
          "output_type": "display_data"
        }
      ],
      "source": [
        "uber_dataset['uvIndex'].value_counts().plot(kind='bar', figsize=(10,5), color='brown')"
      ]
    },
    {
      "cell_type": "code",
      "execution_count": 27,
      "metadata": {
        "colab": {
          "base_uri": "https://localhost:8080/",
          "height": 479
        },
        "id": "XRt2ZriexKTp",
        "outputId": "b3e7bc0b-dd9a-471e-cf52-56736d7657b2"
      },
      "outputs": [
        {
          "data": {
            "text/plain": [
              "<Axes: >"
            ]
          },
          "execution_count": 27,
          "metadata": {},
          "output_type": "execute_result"
        },
        {
          "data": {
            "image/png": "[encoded data removed]",
            "text/plain": [
              "<Figure size 1000x500 with 1 Axes>"
            ]
          },
          "metadata": {},
          "output_type": "display_data"
        }
      ],
      "source": [
        "uber_dataset['moonPhase'].value_counts().plot(kind='bar', figsize=(10,5), color='orange')"
      ]
    },
    {
      "cell_type": "code",
      "execution_count": 28,
      "metadata": {
        "colab": {
          "base_uri": "https://localhost:8080/",
          "height": 479
        },
        "id": "xY7zNwLGxKXG",
        "outputId": "0547b579-c69f-4abb-d60c-e9aabd8b9166"
      },
      "outputs": [
        {
          "data": {
            "text/plain": [
              "<Axes: >"
            ]
          },
          "execution_count": 28,
          "metadata": {},
          "output_type": "execute_result"
        },
        {
          "data": {
            "image/png": "[encoded data removed]",
            "text/plain": [
              "<Figure size 1000x500 with 1 Axes>"
            ]
          },
          "metadata": {},
          "output_type": "display_data"
        }
      ],
      "source": [
        "uber_dataset['precipProbability'].value_counts().plot(kind='bar', figsize=(10,5), color='blue')"
      ]
    },
    {
      "cell_type": "markdown",
      "metadata": {
        "id": "ElvE7pEJkHp5"
      },
      "source": [
        "**Label Encoding**"
      ]
    },
    {
      "cell_type": "code",
      "execution_count": 29,
      "metadata": {
        "id": "K_IjDzamxWFy"
      },
      "outputs": [],
      "source": [
        "# Import label encoder \n",
        "from sklearn import preprocessing \n",
        "  \n",
        "# label_encoder object knows how to understand word labels. \n",
        "label_encoder = preprocessing.LabelEncoder() "
      ]
    },
    {
      "cell_type": "code",
      "execution_count": 30,
      "metadata": {
        "colab": {
          "base_uri": "https://localhost:8080/"
        },
        "id": "b5GzjK8qxaLY",
        "outputId": "637e4a4a-7bed-4e02-90d8-878dc3611706"
      },
      "outputs": [
        {
          "data": {
            "text/plain": [
              "Unnamed: 0.1                     int64\n",
              "Unnamed: 0                       int64\n",
              "id                              object\n",
              "timestamp                      float64\n",
              "hour                             int64\n",
              "day                              int64\n",
              "month                            int64\n",
              "datetime                        object\n",
              "timezone                        object\n",
              "source                          object\n",
              "destination                     object\n",
              "cab_type                        object\n",
              "product_id                      object\n",
              "name                            object\n",
              "price                          float64\n",
              "distance                       float64\n",
              "surge_multiplier               float64\n",
              "latitude                       float64\n",
              "longitude                      float64\n",
              "temperature                    float64\n",
              "apparentTemperature            float64\n",
              "short_summary                   object\n",
              "long_summary                    object\n",
              "precipIntensity                float64\n",
              "precipProbability              float64\n",
              "humidity                       float64\n",
              "windSpeed                      float64\n",
              "windGust                       float64\n",
              "windGustTime                     int64\n",
              "visibility                     float64\n",
              "temperatureHigh                float64\n",
              "temperatureHighTime              int64\n",
              "temperatureLow                 float64\n",
              "temperatureLowTime               int64\n",
              "apparentTemperatureHigh        float64\n",
              "apparentTemperatureHighTime      int64\n",
              "apparentTemperatureLow         float64\n",
              "apparentTemperatureLowTime       int64\n",
              "icon                            object\n",
              "dewPoint                       float64\n",
              "pressure                       float64\n",
              "windBearing                      int64\n",
              "cloudCover                     float64\n",
              "uvIndex                          int64\n",
              "visibility.1                   float64\n",
              "ozone                          float64\n",
              "sunriseTime                      int64\n",
              "sunsetTime                       int64\n",
              "moonPhase                      float64\n",
              "precipIntensityMax             float64\n",
              "uvIndexTime                      int64\n",
              "temperatureMin                 float64\n",
              "temperatureMinTime               int64\n",
              "temperatureMax                 float64\n",
              "temperatureMaxTime               int64\n",
              "apparentTemperatureMin         float64\n",
              "apparentTemperatureMinTime       int64\n",
              "apparentTemperatureMax         float64\n",
              "apparentTemperatureMaxTime       int64\n",
              "dtype: object"
            ]
          },
          "execution_count": 30,
          "metadata": {},
          "output_type": "execute_result"
        }
      ],
      "source": [
        "uber_dataset.dtypes"
      ]
    },
    {
      "cell_type": "code",
      "execution_count": 31,
      "metadata": {
        "id": "W1c3tddxxaOB"
      },
      "outputs": [],
      "source": [
        "uber_dataset['id']= label_encoder.fit_transform(uber_dataset['id']) \n",
        "uber_dataset['name']= label_encoder.fit_transform(uber_dataset['name'])\n",
        "uber_dataset['cab_type']= label_encoder.fit_transform(uber_dataset['cab_type']) \n",
        "uber_dataset['datetime']= label_encoder.fit_transform(uber_dataset['datetime']) \n",
        "uber_dataset['timezone']= label_encoder.fit_transform(uber_dataset['timezone'])\n",
        "uber_dataset['destination']= label_encoder.fit_transform(uber_dataset['destination']) \n",
        "uber_dataset['product_id']= label_encoder.fit_transform(uber_dataset['product_id'])\n",
        "uber_dataset['short_summary']= label_encoder.fit_transform(uber_dataset['short_summary'])\n",
        "uber_dataset['long_summary']= label_encoder.fit_transform(uber_dataset['long_summary'])"
      ]
    },
    {
      "cell_type": "code",
      "execution_count": 32,
      "metadata": {
        "id": "6uqzkWyL4q5F"
      },
      "outputs": [],
      "source": [
        "uber_dataset['cab_type'] = uber_dataset['cab_type'].astype(np.float64)"
      ]
    },
    {
      "cell_type": "code",
      "execution_count": 33,
      "metadata": {
        "colab": {
          "base_uri": "https://localhost:8080/"
        },
        "id": "W-M1HISDxaQw",
        "outputId": "52fa7d58-0295-4e37-d879-9327fb1e2c6a"
      },
      "outputs": [
        {
          "name": "stdout",
          "output_type": "stream",
          "text": [
            "Class mapping of Name: \n",
            "0 --> 0\n",
            "1 --> 1\n",
            "2 --> 2\n",
            "3 --> 3\n",
            "4 --> 4\n",
            "5 --> 5\n"
          ]
        }
      ],
      "source": [
        "# Create a label encoder object\n",
        "le = LabelEncoder()\n",
        "\n",
        "# Encode the 'name' column of the 'uber_dataset' dataframe\n",
        "uber_dataset['name'] = le.fit_transform(uber_dataset['name'])\n",
        "\n",
        "# Convert the encoded 'name' column to float64 data type\n",
        "uber_dataset['name'] = uber_dataset['name'].astype(np.float64)\n",
        "\n",
        "# Print the class mapping of the 'name' column\n",
        "print(\"Class mapping of Name: \")\n",
        "for i, item in enumerate(le.classes_):\n",
        "    print(item, \"-->\", i)"
      ]
    },
    {
      "cell_type": "code",
      "execution_count": 34,
      "metadata": {
        "colab": {
          "base_uri": "https://localhost:8080/"
        },
        "id": "Q9OU5A5-xaTb",
        "outputId": "315597c7-42ef-4ebc-cb81-096cbc178d35"
      },
      "outputs": [
        {
          "name": "stdout",
          "output_type": "stream",
          "text": [
            "Class mapping of Source: \n",
            "Back Bay --> 0\n",
            "Beacon Hill --> 1\n",
            "Boston University --> 2\n",
            "Fenway --> 3\n",
            "Financial District --> 4\n",
            "Haymarket Square --> 5\n",
            "North End --> 6\n",
            "North Station --> 7\n",
            "Northeastern University --> 8\n",
            "South Station --> 9\n",
            "Theatre District --> 10\n",
            "West End --> 11\n"
          ]
        }
      ],
      "source": [
        "uber_dataset['source'] = pd.Categorical(uber_dataset['source'])\n",
        "uber_dataset['source'] = uber_dataset['source'].cat.codes.astype(np.int32)\n",
        "\n",
        "print(\"Class mapping of Source: \")\n",
        "for i, item in enumerate(uber_dataset['source'].cat.categories):\n",
        "    print(item, \"-->\", i)"
      ]
    },
    {
      "cell_type": "code",
      "execution_count": 35,
      "metadata": {
        "colab": {
          "base_uri": "https://localhost:8080/"
        },
        "id": "3dvtY8ZIxaWP",
        "outputId": "92796aa6-3b9f-4b67-a06b-c09b5f8b0bf6"
      },
      "outputs": [
        {
          "name": "stdout",
          "output_type": "stream",
          "text": [
            "Class mapping of Icon: \n",
            " clear-day  --> 0\n",
            " clear-night  --> 1\n",
            " cloudy  --> 2\n",
            " fog  --> 3\n",
            " partly-cloudy-day  --> 4\n",
            " partly-cloudy-night  --> 5\n",
            " rain  --> 6\n"
          ]
        }
      ],
      "source": [
        "uber_dataset['icon']= label_encoder.fit_transform(uber_dataset['icon'])\n",
        "\n",
        "uber_dataset['icon'] = uber_dataset['icon'].astype(np.int32)\n",
        "\n",
        "print(\"Class mapping of Icon: \")\n",
        "for i, item in enumerate(label_encoder.classes_):\n",
        "    print(item, \"-->\", i)"
      ]
    },
    {
      "cell_type": "code",
      "execution_count": 36,
      "metadata": {
        "colab": {
          "base_uri": "https://localhost:8080/"
        },
        "id": "fGGhJDrzxaYv",
        "outputId": "d6020f1a-39d2-46be-ea3e-fa0d45540af3"
      },
      "outputs": [
        {
          "data": {
            "text/plain": [
              "Unnamed: 0.1                     int64\n",
              "Unnamed: 0                       int64\n",
              "id                               int64\n",
              "timestamp                      float64\n",
              "hour                             int64\n",
              "day                              int64\n",
              "month                            int64\n",
              "datetime                         int64\n",
              "timezone                         int64\n",
              "source                           int32\n",
              "destination                      int64\n",
              "cab_type                       float64\n",
              "product_id                       int64\n",
              "name                           float64\n",
              "price                          float64\n",
              "distance                       float64\n",
              "surge_multiplier               float64\n",
              "latitude                       float64\n",
              "longitude                      float64\n",
              "temperature                    float64\n",
              "apparentTemperature            float64\n",
              "short_summary                    int64\n",
              "long_summary                     int64\n",
              "precipIntensity                float64\n",
              "precipProbability              float64\n",
              "humidity                       float64\n",
              "windSpeed                      float64\n",
              "windGust                       float64\n",
              "windGustTime                     int64\n",
              "visibility                     float64\n",
              "temperatureHigh                float64\n",
              "temperatureHighTime              int64\n",
              "temperatureLow                 float64\n",
              "temperatureLowTime               int64\n",
              "apparentTemperatureHigh        float64\n",
              "apparentTemperatureHighTime      int64\n",
              "apparentTemperatureLow         float64\n",
              "apparentTemperatureLowTime       int64\n",
              "icon                             int32\n",
              "dewPoint                       float64\n",
              "pressure                       float64\n",
              "windBearing                      int64\n",
              "cloudCover                     float64\n",
              "uvIndex                          int64\n",
              "visibility.1                   float64\n",
              "ozone                          float64\n",
              "sunriseTime                      int64\n",
              "sunsetTime                       int64\n",
              "moonPhase                      float64\n",
              "precipIntensityMax             float64\n",
              "uvIndexTime                      int64\n",
              "temperatureMin                 float64\n",
              "temperatureMinTime               int64\n",
              "temperatureMax                 float64\n",
              "temperatureMaxTime               int64\n",
              "apparentTemperatureMin         float64\n",
              "apparentTemperatureMinTime       int64\n",
              "apparentTemperatureMax         float64\n",
              "apparentTemperatureMaxTime       int64\n",
              "dtype: object"
            ]
          },
          "execution_count": 36,
          "metadata": {},
          "output_type": "execute_result"
        }
      ],
      "source": [
        "uber_dataset.dtypes"
      ]
    },
    {
      "cell_type": "code",
      "execution_count": 37,
      "metadata": {
        "colab": {
          "base_uri": "https://localhost:8080/",
          "height": 317
        },
        "id": "O0soQJwcxabd",
        "outputId": "988dea41-4359-46b4-ee62-1ac8171348fa"
      },
      "outputs": [
        {
          "data": {
            "text/html": [
              "\n",
              "  <div id=\"df-0194fbe7-2360-4652-9116-5c2d48c6648a\">\n",
              "    <div class=\"colab-df-container\">\n",
              "      <div>\n",
              "<style scoped>\n",
              "    .dataframe tbody tr th:only-of-type {\n",
              "        vertical-align: middle;\n",
              "    }\n",
              "\n",
              "    .dataframe tbody tr th {\n",
              "        vertical-align: top;\n",
              "    }\n",
              "\n",
              "    .dataframe thead th {\n",
              "        text-align: right;\n",
              "    }\n",
              "</style>\n",
              "<table border=\"1\" class=\"dataframe\">\n",
              "  <thead>\n",
              "    <tr style=\"text-align: right;\">\n",
              "      <th></th>\n",
              "      <th>Unnamed: 0.1</th>\n",
              "      <th>Unnamed: 0</th>\n",
              "      <th>id</th>\n",
              "      <th>timestamp</th>\n",
              "      <th>hour</th>\n",
              "      <th>day</th>\n",
              "      <th>month</th>\n",
              "      <th>datetime</th>\n",
              "      <th>timezone</th>\n",
              "      <th>source</th>\n",
              "      <th>...</th>\n",
              "      <th>precipIntensityMax</th>\n",
              "      <th>uvIndexTime</th>\n",
              "      <th>temperatureMin</th>\n",
              "      <th>temperatureMinTime</th>\n",
              "      <th>temperatureMax</th>\n",
              "      <th>temperatureMaxTime</th>\n",
              "      <th>apparentTemperatureMin</th>\n",
              "      <th>apparentTemperatureMinTime</th>\n",
              "      <th>apparentTemperatureMax</th>\n",
              "      <th>apparentTemperatureMaxTime</th>\n",
              "    </tr>\n",
              "  </thead>\n",
              "  <tbody>\n",
              "    <tr>\n",
              "      <th>0</th>\n",
              "      <td>0</td>\n",
              "      <td>0</td>\n",
              "      <td>83667</td>\n",
              "      <td>1.544953e+09</td>\n",
              "      <td>9</td>\n",
              "      <td>16</td>\n",
              "      <td>12</td>\n",
              "      <td>25323</td>\n",
              "      <td>0</td>\n",
              "      <td>5</td>\n",
              "      <td>...</td>\n",
              "      <td>0.1276</td>\n",
              "      <td>1544979600</td>\n",
              "      <td>39.89</td>\n",
              "      <td>1545012000</td>\n",
              "      <td>43.68</td>\n",
              "      <td>1544968800</td>\n",
              "      <td>33.73</td>\n",
              "      <td>1545012000</td>\n",
              "      <td>38.07</td>\n",
              "      <td>1544958000</td>\n",
              "    </tr>\n",
              "    <tr>\n",
              "      <th>1</th>\n",
              "      <td>1</td>\n",
              "      <td>1</td>\n",
              "      <td>95698</td>\n",
              "      <td>1.543284e+09</td>\n",
              "      <td>2</td>\n",
              "      <td>27</td>\n",
              "      <td>11</td>\n",
              "      <td>960</td>\n",
              "      <td>0</td>\n",
              "      <td>5</td>\n",
              "      <td>...</td>\n",
              "      <td>0.1300</td>\n",
              "      <td>1543251600</td>\n",
              "      <td>40.49</td>\n",
              "      <td>1543233600</td>\n",
              "      <td>47.30</td>\n",
              "      <td>1543251600</td>\n",
              "      <td>36.20</td>\n",
              "      <td>1543291200</td>\n",
              "      <td>43.92</td>\n",
              "      <td>1543251600</td>\n",
              "    </tr>\n",
              "    <tr>\n",
              "      <th>2</th>\n",
              "      <td>2</td>\n",
              "      <td>8</td>\n",
              "      <td>100484</td>\n",
              "      <td>1.543818e+09</td>\n",
              "      <td>6</td>\n",
              "      <td>3</td>\n",
              "      <td>12</td>\n",
              "      <td>14499</td>\n",
              "      <td>0</td>\n",
              "      <td>0</td>\n",
              "      <td>...</td>\n",
              "      <td>0.0004</td>\n",
              "      <td>1543852800</td>\n",
              "      <td>43.09</td>\n",
              "      <td>1543896000</td>\n",
              "      <td>57.02</td>\n",
              "      <td>1543852800</td>\n",
              "      <td>39.90</td>\n",
              "      <td>1543896000</td>\n",
              "      <td>56.35</td>\n",
              "      <td>1543852800</td>\n",
              "    </tr>\n",
              "    <tr>\n",
              "      <th>3</th>\n",
              "      <td>3</td>\n",
              "      <td>10</td>\n",
              "      <td>181550</td>\n",
              "      <td>1.543594e+09</td>\n",
              "      <td>16</td>\n",
              "      <td>30</td>\n",
              "      <td>11</td>\n",
              "      <td>8152</td>\n",
              "      <td>0</td>\n",
              "      <td>0</td>\n",
              "      <td>...</td>\n",
              "      <td>0.0004</td>\n",
              "      <td>1543593600</td>\n",
              "      <td>28.64</td>\n",
              "      <td>1543579200</td>\n",
              "      <td>42.32</td>\n",
              "      <td>1543600800</td>\n",
              "      <td>29.29</td>\n",
              "      <td>1543579200</td>\n",
              "      <td>40.48</td>\n",
              "      <td>1543611600</td>\n",
              "    </tr>\n",
              "    <tr>\n",
              "      <th>4</th>\n",
              "      <td>4</td>\n",
              "      <td>14</td>\n",
              "      <td>67474</td>\n",
              "      <td>1.544729e+09</td>\n",
              "      <td>19</td>\n",
              "      <td>13</td>\n",
              "      <td>12</td>\n",
              "      <td>18731</td>\n",
              "      <td>0</td>\n",
              "      <td>6</td>\n",
              "      <td>...</td>\n",
              "      <td>0.0001</td>\n",
              "      <td>1544716800</td>\n",
              "      <td>18.29</td>\n",
              "      <td>1544688000</td>\n",
              "      <td>33.83</td>\n",
              "      <td>1544731200</td>\n",
              "      <td>13.79</td>\n",
              "      <td>1544688000</td>\n",
              "      <td>32.85</td>\n",
              "      <td>1544734800</td>\n",
              "    </tr>\n",
              "  </tbody>\n",
              "</table>\n",
              "<p>5 rows × 59 columns</p>\n",
              "</div>\n",
              "      <button class=\"colab-df-convert\" onclick=\"convertToInteractive('df-0194fbe7-2360-4652-9116-5c2d48c6648a')\"\n",
              "              title=\"Convert this dataframe to an interactive table.\"\n",
              "              style=\"display:none;\">\n",
              "        \n",
              "  <svg xmlns=\"http://www.w3.org/2000/svg\" height=\"24px\"viewBox=\"0 0 24 24\"\n",
              "       width=\"24px\">\n",
              "    <path d=\"M0 0h24v24H0V0z\" fill=\"none\"/>\n",
              "    <path d=\"M18.56 5.44l.94 2.06.94-2.06 2.06-.94-2.06-.94-.94-2.06-.94 2.06-2.06.94zm-11 1L8.5 8.5l.94-2.06 2.06-.94-2.06-.94L8.5 2.5l-.94 2.06-2.06.94zm10 10l.94 2.06.94-2.06 2.06-.94-2.06-.94-.94-2.06-.94 2.06-2.06.94z\"/><path d=\"M17.41 7.96l-1.37-1.37c-.4-.4-.92-.59-1.43-.59-.52 0-1.04.2-1.43.59L10.3 9.45l-7.72 7.72c-.78.78-.78 2.05 0 2.83L4 21.41c.39.39.9.59 1.41.59.51 0 1.02-.2 1.41-.59l7.78-7.78 2.81-2.81c.8-.78.8-2.07 0-2.86zM5.41 20L4 18.59l7.72-7.72 1.47 1.35L5.41 20z\"/>\n",
              "  </svg>\n",
              "      </button>\n",
              "      \n",
              "  <style>\n",
              "    .colab-df-container {\n",
              "      display:flex;\n",
              "      flex-wrap:wrap;\n",
              "      gap: 12px;\n",
              "    }\n",
              "\n",
              "    .colab-df-convert {\n",
              "      background-color: #E8F0FE;\n",
              "      border: none;\n",
              "      border-radius: 50%;\n",
              "      cursor: pointer;\n",
              "      display: none;\n",
              "      fill: #1967D2;\n",
              "      height: 32px;\n",
              "      padding: 0 0 0 0;\n",
              "      width: 32px;\n",
              "    }\n",
              "\n",
              "    .colab-df-convert:hover {\n",
              "      background-color: #E2EBFA;\n",
              "      box-shadow: 0px 1px 2px rgba(60, 64, 67, 0.3), 0px 1px 3px 1px rgba(60, 64, 67, 0.15);\n",
              "      fill: #174EA6;\n",
              "    }\n",
              "\n",
              "    [theme=dark] .colab-df-convert {\n",
              "      background-color: #3B4455;\n",
              "      fill: #D2E3FC;\n",
              "    }\n",
              "\n",
              "    [theme=dark] .colab-df-convert:hover {\n",
              "      background-color: #434B5C;\n",
              "      box-shadow: 0px 1px 3px 1px rgba(0, 0, 0, 0.15);\n",
              "      filter: drop-shadow(0px 1px 2px rgba(0, 0, 0, 0.3));\n",
              "      fill: #FFFFFF;\n",
              "    }\n",
              "  </style>\n",
              "\n",
              "      <script>\n",
              "        const buttonEl =\n",
              "          document.querySelector('#df-0194fbe7-2360-4652-9116-5c2d48c6648a button.colab-df-convert');\n",
              "        buttonEl.style.display =\n",
              "          google.colab.kernel.accessAllowed ? 'block' : 'none';\n",
              "\n",
              "        async function convertToInteractive(key) {\n",
              "          const element = document.querySelector('#df-0194fbe7-2360-4652-9116-5c2d48c6648a');\n",
              "          const dataTable =\n",
              "            await google.colab.kernel.invokeFunction('convertToInteractive',\n",
              "                                                     [key], {});\n",
              "          if (!dataTable) return;\n",
              "\n",
              "          const docLinkHtml = 'Like what you see? Visit the ' +\n",
              "            '<a target=\"_blank\" href=https://colab.research.google.com/notebooks/data_table.ipynb>data table notebook</a>'\n",
              "            + ' to learn more about interactive tables.';\n",
              "          element.innerHTML = '';\n",
              "          dataTable['output_type'] = 'display_data';\n",
              "          await google.colab.output.renderOutput(dataTable, element);\n",
              "          const docLink = document.createElement('div');\n",
              "          docLink.innerHTML = docLinkHtml;\n",
              "          element.appendChild(docLink);\n",
              "        }\n",
              "      </script>\n",
              "    </div>\n",
              "  </div>\n",
              "  "
            ],
            "text/plain": [
              "   Unnamed: 0.1  Unnamed: 0      id     timestamp  hour  day  month  datetime  \\\n",
              "0             0           0   83667  1.544953e+09     9   16     12     25323   \n",
              "1             1           1   95698  1.543284e+09     2   27     11       960   \n",
              "2             2           8  100484  1.543818e+09     6    3     12     14499   \n",
              "3             3          10  181550  1.543594e+09    16   30     11      8152   \n",
              "4             4          14   67474  1.544729e+09    19   13     12     18731   \n",
              "\n",
              "   timezone  source  ...  precipIntensityMax  uvIndexTime  temperatureMin  \\\n",
              "0         0       5  ...              0.1276   1544979600           39.89   \n",
              "1         0       5  ...              0.1300   1543251600           40.49   \n",
              "2         0       0  ...              0.0004   1543852800           43.09   \n",
              "3         0       0  ...              0.0004   1543593600           28.64   \n",
              "4         0       6  ...              0.0001   1544716800           18.29   \n",
              "\n",
              "   temperatureMinTime  temperatureMax  temperatureMaxTime  \\\n",
              "0          1545012000           43.68          1544968800   \n",
              "1          1543233600           47.30          1543251600   \n",
              "2          1543896000           57.02          1543852800   \n",
              "3          1543579200           42.32          1543600800   \n",
              "4          1544688000           33.83          1544731200   \n",
              "\n",
              "   apparentTemperatureMin  apparentTemperatureMinTime  apparentTemperatureMax  \\\n",
              "0                   33.73                  1545012000                   38.07   \n",
              "1                   36.20                  1543291200                   43.92   \n",
              "2                   39.90                  1543896000                   56.35   \n",
              "3                   29.29                  1543579200                   40.48   \n",
              "4                   13.79                  1544688000                   32.85   \n",
              "\n",
              "   apparentTemperatureMaxTime  \n",
              "0                  1544958000  \n",
              "1                  1543251600  \n",
              "2                  1543852800  \n",
              "3                  1543611600  \n",
              "4                  1544734800  \n",
              "\n",
              "[5 rows x 59 columns]"
            ]
          },
          "execution_count": 37,
          "metadata": {},
          "output_type": "execute_result"
        }
      ],
      "source": [
        "uber_dataset.head()"
      ]
    },
    {
      "cell_type": "markdown",
      "metadata": {
        "id": "ItB6pbBokUz2"
      },
      "source": [
        "**Filling NAN Values**"
      ]
    },
    {
      "cell_type": "code",
      "execution_count": 38,
      "metadata": {
        "colab": {
          "base_uri": "https://localhost:8080/"
        },
        "id": "9UOtgER3xad0",
        "outputId": "670ccc57-532c-4e3e-f5ee-9ddec7e78482"
      },
      "outputs": [
        {
          "data": {
            "text/plain": [
              "Unnamed: 0.1                       0\n",
              "Unnamed: 0                         0\n",
              "id                                 0\n",
              "timestamp                          0\n",
              "hour                               0\n",
              "day                                0\n",
              "month                              0\n",
              "datetime                           0\n",
              "timezone                           0\n",
              "source                             0\n",
              "destination                        0\n",
              "cab_type                           0\n",
              "product_id                         0\n",
              "name                               0\n",
              "price                          55095\n",
              "distance                           0\n",
              "surge_multiplier                   0\n",
              "latitude                           0\n",
              "longitude                          0\n",
              "temperature                        0\n",
              "apparentTemperature                0\n",
              "short_summary                      0\n",
              "long_summary                       0\n",
              "precipIntensity                    0\n",
              "precipProbability                  0\n",
              "humidity                           0\n",
              "windSpeed                          0\n",
              "windGust                           0\n",
              "windGustTime                       0\n",
              "visibility                         0\n",
              "temperatureHigh                    0\n",
              "temperatureHighTime                0\n",
              "temperatureLow                     0\n",
              "temperatureLowTime                 0\n",
              "apparentTemperatureHigh            0\n",
              "apparentTemperatureHighTime        0\n",
              "apparentTemperatureLow             0\n",
              "apparentTemperatureLowTime         0\n",
              "icon                               0\n",
              "dewPoint                           0\n",
              "pressure                           0\n",
              "windBearing                        0\n",
              "cloudCover                         0\n",
              "uvIndex                            0\n",
              "visibility.1                       0\n",
              "ozone                              0\n",
              "sunriseTime                        0\n",
              "sunsetTime                         0\n",
              "moonPhase                          0\n",
              "precipIntensityMax                 0\n",
              "uvIndexTime                        0\n",
              "temperatureMin                     0\n",
              "temperatureMinTime                 0\n",
              "temperatureMax                     0\n",
              "temperatureMaxTime                 0\n",
              "apparentTemperatureMin             0\n",
              "apparentTemperatureMinTime         0\n",
              "apparentTemperatureMax             0\n",
              "apparentTemperatureMaxTime         0\n",
              "dtype: int64"
            ]
          },
          "execution_count": 38,
          "metadata": {},
          "output_type": "execute_result"
        }
      ],
      "source": [
        "uber_dataset.isnull().sum()"
      ]
    },
    {
      "cell_type": "code",
      "execution_count": 39,
      "metadata": {
        "colab": {
          "base_uri": "https://localhost:8080/"
        },
        "id": "bY5RqvR-xahK",
        "outputId": "539c275b-1d81-49d6-d444-0a11f13cfe08"
      },
      "outputs": [
        {
          "data": {
            "text/plain": [
              "10.5"
            ]
          },
          "execution_count": 39,
          "metadata": {},
          "output_type": "execute_result"
        }
      ],
      "source": [
        "uber_dataset['price'].median()"
      ]
    },
    {
      "cell_type": "code",
      "execution_count": 40,
      "metadata": {
        "id": "3LRD1Bygx62j"
      },
      "outputs": [],
      "source": [
        "uber_dataset[\"price\"].fillna(10.0, inplace = True) "
      ]
    },
    {
      "cell_type": "code",
      "execution_count": 41,
      "metadata": {
        "colab": {
          "base_uri": "https://localhost:8080/"
        },
        "id": "DZtg2CUWx65D",
        "outputId": "ad05174b-602c-4ae2-eb53-bb0317e26a26"
      },
      "outputs": [
        {
          "data": {
            "text/plain": [
              "Unnamed: 0.1                   0\n",
              "Unnamed: 0                     0\n",
              "id                             0\n",
              "timestamp                      0\n",
              "hour                           0\n",
              "day                            0\n",
              "month                          0\n",
              "datetime                       0\n",
              "timezone                       0\n",
              "source                         0\n",
              "destination                    0\n",
              "cab_type                       0\n",
              "product_id                     0\n",
              "name                           0\n",
              "price                          0\n",
              "distance                       0\n",
              "surge_multiplier               0\n",
              "latitude                       0\n",
              "longitude                      0\n",
              "temperature                    0\n",
              "apparentTemperature            0\n",
              "short_summary                  0\n",
              "long_summary                   0\n",
              "precipIntensity                0\n",
              "precipProbability              0\n",
              "humidity                       0\n",
              "windSpeed                      0\n",
              "windGust                       0\n",
              "windGustTime                   0\n",
              "visibility                     0\n",
              "temperatureHigh                0\n",
              "temperatureHighTime            0\n",
              "temperatureLow                 0\n",
              "temperatureLowTime             0\n",
              "apparentTemperatureHigh        0\n",
              "apparentTemperatureHighTime    0\n",
              "apparentTemperatureLow         0\n",
              "apparentTemperatureLowTime     0\n",
              "icon                           0\n",
              "dewPoint                       0\n",
              "pressure                       0\n",
              "windBearing                    0\n",
              "cloudCover                     0\n",
              "uvIndex                        0\n",
              "visibility.1                   0\n",
              "ozone                          0\n",
              "sunriseTime                    0\n",
              "sunsetTime                     0\n",
              "moonPhase                      0\n",
              "precipIntensityMax             0\n",
              "uvIndexTime                    0\n",
              "temperatureMin                 0\n",
              "temperatureMinTime             0\n",
              "temperatureMax                 0\n",
              "temperatureMaxTime             0\n",
              "apparentTemperatureMin         0\n",
              "apparentTemperatureMinTime     0\n",
              "apparentTemperatureMax         0\n",
              "apparentTemperatureMaxTime     0\n",
              "dtype: int64"
            ]
          },
          "execution_count": 41,
          "metadata": {},
          "output_type": "execute_result"
        }
      ],
      "source": [
        "uber_dataset.isnull().sum()"
      ]
    },
    {
      "cell_type": "code",
      "execution_count": 42,
      "metadata": {
        "colab": {
          "base_uri": "https://localhost:8080/"
        },
        "id": "q6JZ4gwHx67i",
        "outputId": "dc2d449f-9e5e-4e67-aef7-da632675cbbc"
      },
      "outputs": [
        {
          "data": {
            "text/plain": [
              "dtype('float64')"
            ]
          },
          "execution_count": 42,
          "metadata": {},
          "output_type": "execute_result"
        }
      ],
      "source": [
        "uber_dataset['price'].dtype"
      ]
    },
    {
      "cell_type": "code",
      "execution_count": 43,
      "metadata": {
        "id": "e0wCScIMx6-k"
      },
      "outputs": [],
      "source": [
        "uber_dataset['price'] = uber_dataset['price'].astype(np.int32)"
      ]
    },
    {
      "cell_type": "code",
      "execution_count": 44,
      "metadata": {
        "colab": {
          "base_uri": "https://localhost:8080/"
        },
        "id": "S_2l2RhGx7A-",
        "outputId": "f0960119-c7f8-4196-8784-40ac755811e9"
      },
      "outputs": [
        {
          "data": {
            "text/plain": [
              "0     5\n",
              "1    11\n",
              "2     3\n",
              "3    13\n",
              "4     7\n",
              "Name: price, dtype: int32"
            ]
          },
          "execution_count": 44,
          "metadata": {},
          "output_type": "execute_result"
        }
      ],
      "source": [
        "uber_dataset['price'].head()"
      ]
    },
    {
      "cell_type": "markdown",
      "metadata": {
        "id": "kZyCMlBFd7A_"
      },
      "source": [
        "**3. Feature Extraction**"
      ]
    },
    {
      "cell_type": "markdown",
      "metadata": {
        "id": "IvlPSAnJkg3Z"
      },
      "source": [
        "**RFE (Recursive Feature Elimination)**"
      ]
    },
    {
      "cell_type": "code",
      "execution_count": 45,
      "metadata": {
        "id": "mNNybLD5x7DE"
      },
      "outputs": [],
      "source": [
        "import numpy as np\n",
        "from sklearn.feature_selection import SelectKBest\n",
        "from sklearn.feature_selection import chi2"
      ]
    },
    {
      "cell_type": "code",
      "execution_count": 46,
      "metadata": {
        "id": "3AgCkVHvx7Fp"
      },
      "outputs": [],
      "source": [
        "from sklearn.model_selection import train_test_split\n",
        "from sklearn.metrics import accuracy_score"
      ]
    },
    {
      "cell_type": "code",
      "execution_count": 47,
      "metadata": {
        "id": "Xpylt397x7JC"
      },
      "outputs": [],
      "source": [
        "from sklearn.linear_model import LinearRegression\n",
        "from sklearn.linear_model import LogisticRegression\n",
        "from sklearn.tree import DecisionTreeRegressor\n",
        "from sklearn.ensemble import RandomForestRegressor"
      ]
    },
    {
      "cell_type": "code",
      "execution_count": 48,
      "metadata": {
        "id": "7tbqwkbGxWJN"
      },
      "outputs": [],
      "source": [
        "from sklearn.feature_selection import RFE"
      ]
    },
    {
      "cell_type": "code",
      "execution_count": 49,
      "metadata": {
        "id": "yyWDp4fJyYND"
      },
      "outputs": [],
      "source": [
        "X = uber_dataset.drop('price', axis = 1)\n",
        "y = uber_dataset['price']"
      ]
    },
    {
      "cell_type": "markdown",
      "metadata": {
        "id": "JbXDW_6akw_A"
      },
      "source": [
        "**performance metric for 56 features**"
      ]
    },
    {
      "cell_type": "code",
      "execution_count": 55,
      "metadata": {
        "id": "TKeZVwzPyb8H"
      },
      "outputs": [],
      "source": [
        "X_train, X_test, y_train, y_test = train_test_split(X, y, test_size = 0.4, random_state = 42)"
      ]
    },
    {
      "cell_type": "code",
      "execution_count": 56,
      "metadata": {
        "colab": {
          "base_uri": "https://localhost:8080/"
        },
        "id": "cAXPOIBgyb_j",
        "outputId": "bdb0a427-8e26-4f5b-f1be-5fef1fdd49c3"
      },
      "outputs": [
        {
          "data": {
            "text/plain": [
              "(193706, 58)"
            ]
          },
          "execution_count": 56,
          "metadata": {},
          "output_type": "execute_result"
        }
      ],
      "source": [
        "X_train.shape"
      ]
    },
    {
      "cell_type": "code",
      "execution_count": 57,
      "metadata": {
        "colab": {
          "base_uri": "https://localhost:8080/"
        },
        "id": "MvKTC_-3yvx5",
        "outputId": "37e8d135-ff38-49e5-e8de-7e193357be6e"
      },
      "outputs": [
        {
          "data": {
            "text/plain": [
              "(129138, 58)"
            ]
          },
          "execution_count": 57,
          "metadata": {},
          "output_type": "execute_result"
        }
      ],
      "source": [
        "X_test.shape"
      ]
    },
    {
      "cell_type": "code",
      "execution_count": 58,
      "metadata": {
        "colab": {
          "base_uri": "https://localhost:8080/"
        },
        "id": "odJtvD1HywdM",
        "outputId": "ee2724ef-3459-47ca-9957-8ac0fe49bd73"
      },
      "outputs": [
        {
          "data": {
            "text/plain": [
              "(193706,)"
            ]
          },
          "execution_count": 58,
          "metadata": {},
          "output_type": "execute_result"
        }
      ],
      "source": [
        "y_train.shape"
      ]
    },
    {
      "cell_type": "code",
      "execution_count": 59,
      "metadata": {
        "colab": {
          "base_uri": "https://localhost:8080/"
        },
        "id": "5Oah0jhCywfq",
        "outputId": "11082eaf-9aa4-47ed-acd2-9eb72d750d98"
      },
      "outputs": [
        {
          "data": {
            "text/plain": [
              "(129138,)"
            ]
          },
          "execution_count": 59,
          "metadata": {},
          "output_type": "execute_result"
        }
      ],
      "source": [
        "y_test.shape"
      ]
    },
    {
      "cell_type": "code",
      "execution_count": 60,
      "metadata": {
        "id": "YeArvAsfywih"
      },
      "outputs": [],
      "source": [
        "#Creating model\n",
        "reg = LinearRegression()\n",
        "#Fitting training data\n",
        "reg = reg.fit(X_train, y_train)"
      ]
    },
    {
      "cell_type": "code",
      "execution_count": 61,
      "metadata": {
        "colab": {
          "base_uri": "https://localhost:8080/"
        },
        "id": "fBfpRqAGywpz",
        "outputId": "bd852b3c-3dc1-4437-e94d-b76be508062a"
      },
      "outputs": [
        {
          "data": {
            "text/plain": [
              "0.8322064002190093"
            ]
          },
          "execution_count": 61,
          "metadata": {},
          "output_type": "execute_result"
        }
      ],
      "source": [
        "reg.score(X_train, y_train)"
      ]
    },
    {
      "cell_type": "markdown",
      "metadata": {
        "id": "ww9gGcUjk9VD"
      },
      "source": [
        "**performance metric for 40 features**"
      ]
    },
    {
      "cell_type": "code",
      "execution_count": 62,
      "metadata": {
        "colab": {
          "base_uri": "https://localhost:8080/",
          "height": 430
        },
        "id": "dByvH0ps5Vsf",
        "outputId": "510f0163-7851-45ac-e572-900f11079fcf"
      },
      "outputs": [
        {
          "name": "stdout",
          "output_type": "stream",
          "text": [
            "Fitting estimator with 58 features.\n",
            "Fitting estimator with 57 features.\n",
            "Fitting estimator with 56 features.\n",
            "Fitting estimator with 55 features.\n",
            "Fitting estimator with 54 features.\n",
            "Fitting estimator with 53 features.\n",
            "Fitting estimator with 52 features.\n",
            "Fitting estimator with 51 features.\n",
            "Fitting estimator with 50 features.\n",
            "Fitting estimator with 49 features.\n",
            "Fitting estimator with 48 features.\n",
            "Fitting estimator with 47 features.\n",
            "Fitting estimator with 46 features.\n",
            "Fitting estimator with 45 features.\n",
            "Fitting estimator with 44 features.\n",
            "Fitting estimator with 43 features.\n",
            "Fitting estimator with 42 features.\n",
            "Fitting estimator with 41 features.\n"
          ]
        },
        {
          "data": {
            "text/html": [
              "<style>#sk-container-id-1 {color: black;background-color: white;}#sk-container-id-1 pre{padding: 0;}#sk-container-id-1 div.sk-toggleable {background-color: white;}#sk-container-id-1 label.sk-toggleable__label {cursor: pointer;display: block;width: 100%;margin-bottom: 0;padding: 0.3em;box-sizing: border-box;text-align: center;}#sk-container-id-1 label.sk-toggleable__label-arrow:before {content: \"▸\";float: left;margin-right: 0.25em;color: #696969;}#sk-container-id-1 label.sk-toggleable__label-arrow:hover:before {color: black;}#sk-container-id-1 div.sk-estimator:hover label.sk-toggleable__label-arrow:before {color: black;}#sk-container-id-1 div.sk-toggleable__content {max-height: 0;max-width: 0;overflow: hidden;text-align: left;background-color: #f0f8ff;}#sk-container-id-1 div.sk-toggleable__content pre {margin: 0.2em;color: black;border-radius: 0.25em;background-color: #f0f8ff;}#sk-container-id-1 input.sk-toggleable__control:checked~div.sk-toggleable__content {max-height: 200px;max-width: 100%;overflow: auto;}#sk-container-id-1 input.sk-toggleable__control:checked~label.sk-toggleable__label-arrow:before {content: \"▾\";}#sk-container-id-1 div.sk-estimator input.sk-toggleable__control:checked~label.sk-toggleable__label {background-color: #d4ebff;}#sk-container-id-1 div.sk-label input.sk-toggleable__control:checked~label.sk-toggleable__label {background-color: #d4ebff;}#sk-container-id-1 input.sk-hidden--visually {border: 0;clip: rect(1px 1px 1px 1px);clip: rect(1px, 1px, 1px, 1px);height: 1px;margin: -1px;overflow: hidden;padding: 0;position: absolute;width: 1px;}#sk-container-id-1 div.sk-estimator {font-family: monospace;background-color: #f0f8ff;border: 1px dotted black;border-radius: 0.25em;box-sizing: border-box;margin-bottom: 0.5em;}#sk-container-id-1 div.sk-estimator:hover {background-color: #d4ebff;}#sk-container-id-1 div.sk-parallel-item::after {content: \"\";width: 100%;border-bottom: 1px solid gray;flex-grow: 1;}#sk-container-id-1 div.sk-label:hover label.sk-toggleable__label {background-color: #d4ebff;}#sk-container-id-1 div.sk-serial::before {content: \"\";position: absolute;border-left: 1px solid gray;box-sizing: border-box;top: 0;bottom: 0;left: 50%;z-index: 0;}#sk-container-id-1 div.sk-serial {display: flex;flex-direction: column;align-items: center;background-color: white;padding-right: 0.2em;padding-left: 0.2em;position: relative;}#sk-container-id-1 div.sk-item {position: relative;z-index: 1;}#sk-container-id-1 div.sk-parallel {display: flex;align-items: stretch;justify-content: center;background-color: white;position: relative;}#sk-container-id-1 div.sk-item::before, #sk-container-id-1 div.sk-parallel-item::before {content: \"\";position: absolute;border-left: 1px solid gray;box-sizing: border-box;top: 0;bottom: 0;left: 50%;z-index: -1;}#sk-container-id-1 div.sk-parallel-item {display: flex;flex-direction: column;z-index: 1;position: relative;background-color: white;}#sk-container-id-1 div.sk-parallel-item:first-child::after {align-self: flex-end;width: 50%;}#sk-container-id-1 div.sk-parallel-item:last-child::after {align-self: flex-start;width: 50%;}#sk-container-id-1 div.sk-parallel-item:only-child::after {width: 0;}#sk-container-id-1 div.sk-dashed-wrapped {border: 1px dashed gray;margin: 0 0.4em 0.5em 0.4em;box-sizing: border-box;padding-bottom: 0.4em;background-color: white;}#sk-container-id-1 div.sk-label label {font-family: monospace;font-weight: bold;display: inline-block;line-height: 1.2em;}#sk-container-id-1 div.sk-label-container {text-align: center;}#sk-container-id-1 div.sk-container {/* jupyter's `normalize.less` sets `[hidden] { display: none; }` but bootstrap.min.css set `[hidden] { display: none !important; }` so we also need the `!important` here to be able to override the default hidden behavior on the sphinx rendered scikit-learn.org. See: https://github.com/scikit-learn/scikit-learn/issues/21755 */display: inline-block !important;position: relative;}#sk-container-id-1 div.sk-text-repr-fallback {display: none;}</style><div id=\"sk-container-id-1\" class=\"sk-top-container\"><div class=\"sk-text-repr-fallback\"><pre>RFE(estimator=LinearRegression(), n_features_to_select=40, verbose=1)</pre><b>In a Jupyter environment, please rerun this cell to show the HTML representation or trust the notebook. <br />On GitHub, the HTML representation is unable to render, please try loading this page with nbviewer.org.</b></div><div class=\"sk-container\" hidden><div class=\"sk-item sk-dashed-wrapped\"><div class=\"sk-label-container\"><div class=\"sk-label sk-toggleable\"><input class=\"sk-toggleable__control sk-hidden--visually\" id=\"sk-estimator-id-1\" type=\"checkbox\" ><label for=\"sk-estimator-id-1\" class=\"sk-toggleable__label sk-toggleable__label-arrow\">RFE</label><div class=\"sk-toggleable__content\"><pre>RFE(estimator=LinearRegression(), n_features_to_select=40, verbose=1)</pre></div></div></div><div class=\"sk-parallel\"><div class=\"sk-parallel-item\"><div class=\"sk-item\"><div class=\"sk-label-container\"><div class=\"sk-label sk-toggleable\"><input class=\"sk-toggleable__control sk-hidden--visually\" id=\"sk-estimator-id-2\" type=\"checkbox\" ><label for=\"sk-estimator-id-2\" class=\"sk-toggleable__label sk-toggleable__label-arrow\">estimator: LinearRegression</label><div class=\"sk-toggleable__content\"><pre>LinearRegression()</pre></div></div></div><div class=\"sk-serial\"><div class=\"sk-item\"><div class=\"sk-estimator sk-toggleable\"><input class=\"sk-toggleable__control sk-hidden--visually\" id=\"sk-estimator-id-3\" type=\"checkbox\" ><label for=\"sk-estimator-id-3\" class=\"sk-toggleable__label sk-toggleable__label-arrow\">LinearRegression</label><div class=\"sk-toggleable__content\"><pre>LinearRegression()</pre></div></div></div></div></div></div></div></div></div></div>"
            ],
            "text/plain": [
              "RFE(estimator=LinearRegression(), n_features_to_select=40, verbose=1)"
            ]
          },
          "execution_count": 62,
          "metadata": {},
          "output_type": "execute_result"
        }
      ],
      "source": [
        "# Create an instance of the Recursive Feature Elimination (RFE) object\n",
        "rfe = RFE(estimator=reg, n_features_to_select=40, verbose=1)\n",
        "\n",
        "# Fit the RFE object to the data\n",
        "rfe.fit(X, y)"
      ]
    },
    {
      "cell_type": "code",
      "execution_count": 63,
      "metadata": {
        "colab": {
          "base_uri": "https://localhost:8080/"
        },
        "id": "pRd1NM4W6FFB",
        "outputId": "121f2529-e21c-464a-c8cc-bef11498b851"
      },
      "outputs": [
        {
          "data": {
            "text/plain": [
              "array([False, False, False, False,  True,  True,  True, False, False,\n",
              "        True,  True,  True,  True,  True,  True,  True,  True,  True,\n",
              "        True,  True,  True,  True,  True,  True,  True,  True,  True,\n",
              "       False,  True,  True, False,  True, False,  True, False,  True,\n",
              "       False,  True,  True,  True, False,  True,  True,  True, False,\n",
              "        True,  True,  True,  True, False,  True, False,  True, False,\n",
              "        True, False,  True, False])"
            ]
          },
          "execution_count": 63,
          "metadata": {},
          "output_type": "execute_result"
        }
      ],
      "source": [
        "rfe.support_"
      ]
    },
    {
      "cell_type": "code",
      "execution_count": 64,
      "metadata": {
        "id": "WGqMjJ856O9J"
      },
      "outputs": [],
      "source": [
        "XX = X[X.columns[rfe.support_]]"
      ]
    },
    {
      "cell_type": "code",
      "execution_count": 65,
      "metadata": {
        "colab": {
          "base_uri": "https://localhost:8080/",
          "height": 300
        },
        "id": "XWikMi6D6Rqc",
        "outputId": "711b35f3-bd38-4264-dbb1-4fbc03744536"
      },
      "outputs": [
        {
          "data": {
            "text/html": [
              "\n",
              "  <div id=\"df-2fbdd26c-7313-4e30-aa6f-2a789ecc1f71\">\n",
              "    <div class=\"colab-df-container\">\n",
              "      <div>\n",
              "<style scoped>\n",
              "    .dataframe tbody tr th:only-of-type {\n",
              "        vertical-align: middle;\n",
              "    }\n",
              "\n",
              "    .dataframe tbody tr th {\n",
              "        vertical-align: top;\n",
              "    }\n",
              "\n",
              "    .dataframe thead th {\n",
              "        text-align: right;\n",
              "    }\n",
              "</style>\n",
              "<table border=\"1\" class=\"dataframe\">\n",
              "  <thead>\n",
              "    <tr style=\"text-align: right;\">\n",
              "      <th></th>\n",
              "      <th>hour</th>\n",
              "      <th>day</th>\n",
              "      <th>month</th>\n",
              "      <th>source</th>\n",
              "      <th>destination</th>\n",
              "      <th>cab_type</th>\n",
              "      <th>product_id</th>\n",
              "      <th>name</th>\n",
              "      <th>distance</th>\n",
              "      <th>surge_multiplier</th>\n",
              "      <th>...</th>\n",
              "      <th>uvIndex</th>\n",
              "      <th>visibility.1</th>\n",
              "      <th>sunriseTime</th>\n",
              "      <th>sunsetTime</th>\n",
              "      <th>moonPhase</th>\n",
              "      <th>precipIntensityMax</th>\n",
              "      <th>temperatureMin</th>\n",
              "      <th>temperatureMax</th>\n",
              "      <th>apparentTemperatureMin</th>\n",
              "      <th>apparentTemperatureMax</th>\n",
              "    </tr>\n",
              "  </thead>\n",
              "  <tbody>\n",
              "    <tr>\n",
              "      <th>0</th>\n",
              "      <td>9</td>\n",
              "      <td>16</td>\n",
              "      <td>12</td>\n",
              "      <td>5</td>\n",
              "      <td>7</td>\n",
              "      <td>0.0</td>\n",
              "      <td>4</td>\n",
              "      <td>2.0</td>\n",
              "      <td>0.44</td>\n",
              "      <td>1.0</td>\n",
              "      <td>...</td>\n",
              "      <td>0</td>\n",
              "      <td>10.000</td>\n",
              "      <td>1544962084</td>\n",
              "      <td>1544994864</td>\n",
              "      <td>0.30</td>\n",
              "      <td>0.1276</td>\n",
              "      <td>39.89</td>\n",
              "      <td>43.68</td>\n",
              "      <td>33.73</td>\n",
              "      <td>38.07</td>\n",
              "    </tr>\n",
              "    <tr>\n",
              "      <th>1</th>\n",
              "      <td>2</td>\n",
              "      <td>27</td>\n",
              "      <td>11</td>\n",
              "      <td>5</td>\n",
              "      <td>7</td>\n",
              "      <td>0.0</td>\n",
              "      <td>5</td>\n",
              "      <td>1.0</td>\n",
              "      <td>0.44</td>\n",
              "      <td>1.0</td>\n",
              "      <td>...</td>\n",
              "      <td>0</td>\n",
              "      <td>4.786</td>\n",
              "      <td>1543232969</td>\n",
              "      <td>1543266992</td>\n",
              "      <td>0.64</td>\n",
              "      <td>0.1300</td>\n",
              "      <td>40.49</td>\n",
              "      <td>47.30</td>\n",
              "      <td>36.20</td>\n",
              "      <td>43.92</td>\n",
              "    </tr>\n",
              "    <tr>\n",
              "      <th>2</th>\n",
              "      <td>6</td>\n",
              "      <td>3</td>\n",
              "      <td>12</td>\n",
              "      <td>0</td>\n",
              "      <td>8</td>\n",
              "      <td>0.0</td>\n",
              "      <td>4</td>\n",
              "      <td>2.0</td>\n",
              "      <td>1.08</td>\n",
              "      <td>1.0</td>\n",
              "      <td>...</td>\n",
              "      <td>0</td>\n",
              "      <td>1.413</td>\n",
              "      <td>1543838259</td>\n",
              "      <td>1543871628</td>\n",
              "      <td>0.89</td>\n",
              "      <td>0.0004</td>\n",
              "      <td>43.09</td>\n",
              "      <td>57.02</td>\n",
              "      <td>39.90</td>\n",
              "      <td>56.35</td>\n",
              "    </tr>\n",
              "    <tr>\n",
              "      <th>3</th>\n",
              "      <td>16</td>\n",
              "      <td>30</td>\n",
              "      <td>11</td>\n",
              "      <td>0</td>\n",
              "      <td>8</td>\n",
              "      <td>0.0</td>\n",
              "      <td>5</td>\n",
              "      <td>1.0</td>\n",
              "      <td>1.08</td>\n",
              "      <td>1.0</td>\n",
              "      <td>...</td>\n",
              "      <td>2</td>\n",
              "      <td>9.920</td>\n",
              "      <td>1543578871</td>\n",
              "      <td>1543612479</td>\n",
              "      <td>0.79</td>\n",
              "      <td>0.0004</td>\n",
              "      <td>28.64</td>\n",
              "      <td>42.32</td>\n",
              "      <td>29.29</td>\n",
              "      <td>40.48</td>\n",
              "    </tr>\n",
              "    <tr>\n",
              "      <th>4</th>\n",
              "      <td>19</td>\n",
              "      <td>13</td>\n",
              "      <td>12</td>\n",
              "      <td>6</td>\n",
              "      <td>11</td>\n",
              "      <td>1.0</td>\n",
              "      <td>0</td>\n",
              "      <td>5.0</td>\n",
              "      <td>1.11</td>\n",
              "      <td>1.0</td>\n",
              "      <td>...</td>\n",
              "      <td>0</td>\n",
              "      <td>9.959</td>\n",
              "      <td>1544702792</td>\n",
              "      <td>1544735599</td>\n",
              "      <td>0.21</td>\n",
              "      <td>0.0001</td>\n",
              "      <td>18.29</td>\n",
              "      <td>33.83</td>\n",
              "      <td>13.79</td>\n",
              "      <td>32.85</td>\n",
              "    </tr>\n",
              "  </tbody>\n",
              "</table>\n",
              "<p>5 rows × 40 columns</p>\n",
              "</div>\n",
              "      <button class=\"colab-df-convert\" onclick=\"convertToInteractive('df-2fbdd26c-7313-4e30-aa6f-2a789ecc1f71')\"\n",
              "              title=\"Convert this dataframe to an interactive table.\"\n",
              "              style=\"display:none;\">\n",
              "        \n",
              "  <svg xmlns=\"http://www.w3.org/2000/svg\" height=\"24px\"viewBox=\"0 0 24 24\"\n",
              "       width=\"24px\">\n",
              "    <path d=\"M0 0h24v24H0V0z\" fill=\"none\"/>\n",
              "    <path d=\"M18.56 5.44l.94 2.06.94-2.06 2.06-.94-2.06-.94-.94-2.06-.94 2.06-2.06.94zm-11 1L8.5 8.5l.94-2.06 2.06-.94-2.06-.94L8.5 2.5l-.94 2.06-2.06.94zm10 10l.94 2.06.94-2.06 2.06-.94-2.06-.94-.94-2.06-.94 2.06-2.06.94z\"/><path d=\"M17.41 7.96l-1.37-1.37c-.4-.4-.92-.59-1.43-.59-.52 0-1.04.2-1.43.59L10.3 9.45l-7.72 7.72c-.78.78-.78 2.05 0 2.83L4 21.41c.39.39.9.59 1.41.59.51 0 1.02-.2 1.41-.59l7.78-7.78 2.81-2.81c.8-.78.8-2.07 0-2.86zM5.41 20L4 18.59l7.72-7.72 1.47 1.35L5.41 20z\"/>\n",
              "  </svg>\n",
              "      </button>\n",
              "      \n",
              "  <style>\n",
              "    .colab-df-container {\n",
              "      display:flex;\n",
              "      flex-wrap:wrap;\n",
              "      gap: 12px;\n",
              "    }\n",
              "\n",
              "    .colab-df-convert {\n",
              "      background-color: #E8F0FE;\n",
              "      border: none;\n",
              "      border-radius: 50%;\n",
              "      cursor: pointer;\n",
              "      display: none;\n",
              "      fill: #1967D2;\n",
              "      height: 32px;\n",
              "      padding: 0 0 0 0;\n",
              "      width: 32px;\n",
              "    }\n",
              "\n",
              "    .colab-df-convert:hover {\n",
              "      background-color: #E2EBFA;\n",
              "      box-shadow: 0px 1px 2px rgba(60, 64, 67, 0.3), 0px 1px 3px 1px rgba(60, 64, 67, 0.15);\n",
              "      fill: #174EA6;\n",
              "    }\n",
              "\n",
              "    [theme=dark] .colab-df-convert {\n",
              "      background-color: #3B4455;\n",
              "      fill: #D2E3FC;\n",
              "    }\n",
              "\n",
              "    [theme=dark] .colab-df-convert:hover {\n",
              "      background-color: #434B5C;\n",
              "      box-shadow: 0px 1px 3px 1px rgba(0, 0, 0, 0.15);\n",
              "      filter: drop-shadow(0px 1px 2px rgba(0, 0, 0, 0.3));\n",
              "      fill: #FFFFFF;\n",
              "    }\n",
              "  </style>\n",
              "\n",
              "      <script>\n",
              "        const buttonEl =\n",
              "          document.querySelector('#df-2fbdd26c-7313-4e30-aa6f-2a789ecc1f71 button.colab-df-convert');\n",
              "        buttonEl.style.display =\n",
              "          google.colab.kernel.accessAllowed ? 'block' : 'none';\n",
              "\n",
              "        async function convertToInteractive(key) {\n",
              "          const element = document.querySelector('#df-2fbdd26c-7313-4e30-aa6f-2a789ecc1f71');\n",
              "          const dataTable =\n",
              "            await google.colab.kernel.invokeFunction('convertToInteractive',\n",
              "                                                     [key], {});\n",
              "          if (!dataTable) return;\n",
              "\n",
              "          const docLinkHtml = 'Like what you see? Visit the ' +\n",
              "            '<a target=\"_blank\" href=https://colab.research.google.com/notebooks/data_table.ipynb>data table notebook</a>'\n",
              "            + ' to learn more about interactive tables.';\n",
              "          element.innerHTML = '';\n",
              "          dataTable['output_type'] = 'display_data';\n",
              "          await google.colab.output.renderOutput(dataTable, element);\n",
              "          const docLink = document.createElement('div');\n",
              "          docLink.innerHTML = docLinkHtml;\n",
              "          element.appendChild(docLink);\n",
              "        }\n",
              "      </script>\n",
              "    </div>\n",
              "  </div>\n",
              "  "
            ],
            "text/plain": [
              "   hour  day  month  source  destination  cab_type  product_id  name  \\\n",
              "0     9   16     12       5            7       0.0           4   2.0   \n",
              "1     2   27     11       5            7       0.0           5   1.0   \n",
              "2     6    3     12       0            8       0.0           4   2.0   \n",
              "3    16   30     11       0            8       0.0           5   1.0   \n",
              "4    19   13     12       6           11       1.0           0   5.0   \n",
              "\n",
              "   distance  surge_multiplier  ...  uvIndex  visibility.1  sunriseTime  \\\n",
              "0      0.44               1.0  ...        0        10.000   1544962084   \n",
              "1      0.44               1.0  ...        0         4.786   1543232969   \n",
              "2      1.08               1.0  ...        0         1.413   1543838259   \n",
              "3      1.08               1.0  ...        2         9.920   1543578871   \n",
              "4      1.11               1.0  ...        0         9.959   1544702792   \n",
              "\n",
              "   sunsetTime  moonPhase  precipIntensityMax  temperatureMin  temperatureMax  \\\n",
              "0  1544994864       0.30              0.1276           39.89           43.68   \n",
              "1  1543266992       0.64              0.1300           40.49           47.30   \n",
              "2  1543871628       0.89              0.0004           43.09           57.02   \n",
              "3  1543612479       0.79              0.0004           28.64           42.32   \n",
              "4  1544735599       0.21              0.0001           18.29           33.83   \n",
              "\n",
              "   apparentTemperatureMin  apparentTemperatureMax  \n",
              "0                   33.73                   38.07  \n",
              "1                   36.20                   43.92  \n",
              "2                   39.90                   56.35  \n",
              "3                   29.29                   40.48  \n",
              "4                   13.79                   32.85  \n",
              "\n",
              "[5 rows x 40 columns]"
            ]
          },
          "execution_count": 65,
          "metadata": {},
          "output_type": "execute_result"
        }
      ],
      "source": [
        "XX.head()"
      ]
    },
    {
      "cell_type": "code",
      "execution_count": 66,
      "metadata": {
        "id": "3EeIUsdq6UJj"
      },
      "outputs": [],
      "source": [
        "X_train, X_test, y_train, y_test = train_test_split(XX, y, test_size = 0.4, random_state = 12)"
      ]
    },
    {
      "cell_type": "code",
      "execution_count": 67,
      "metadata": {
        "colab": {
          "base_uri": "https://localhost:8080/"
        },
        "id": "jDa2Pe1k6VCf",
        "outputId": "b56e5b33-2556-4c7e-f1b7-4115d1884ecf"
      },
      "outputs": [
        {
          "data": {
            "text/plain": [
              "(225990, 40)"
            ]
          },
          "execution_count": 67,
          "metadata": {},
          "output_type": "execute_result"
        }
      ],
      "source": [
        "X_train.shape"
      ]
    },
    {
      "cell_type": "code",
      "execution_count": 68,
      "metadata": {
        "id": "prbRNNgz6VE9"
      },
      "outputs": [],
      "source": [
        "#Creating model\n",
        "reg1 = LinearRegression()\n",
        "#Fitting training data\n",
        "reg1 = reg1.fit(X_train, y_train)"
      ]
    },
    {
      "cell_type": "code",
      "execution_count": 69,
      "metadata": {
        "colab": {
          "base_uri": "https://localhost:8080/"
        },
        "id": "Blp2rIvq6VGy",
        "outputId": "e48f8884-e42c-422f-a01d-996ea889d651"
      },
      "outputs": [
        {
          "data": {
            "text/plain": [
              "0.8317450583765158"
            ]
          },
          "execution_count": 69,
          "metadata": {},
          "output_type": "execute_result"
        }
      ],
      "source": [
        "reg1.score(X_train, y_train)"
      ]
    },
    {
      "cell_type": "markdown",
      "metadata": {
        "id": "mT-XYsW2lJCJ"
      },
      "source": [
        "**performance metric for 15 features**"
      ]
    },
    {
      "cell_type": "code",
      "execution_count": 70,
      "metadata": {
        "colab": {
          "base_uri": "https://localhost:8080/"
        },
        "id": "RUpOYN037jBa",
        "outputId": "3a86150d-bedd-4f26-e4e5-77f66c44adcc"
      },
      "outputs": [
        {
          "name": "stdout",
          "output_type": "stream",
          "text": [
            "Fitting estimator with 58 features.\n",
            "Fitting estimator with 57 features.\n",
            "Fitting estimator with 56 features.\n",
            "Fitting estimator with 55 features.\n",
            "Fitting estimator with 54 features.\n",
            "Fitting estimator with 53 features.\n",
            "Fitting estimator with 52 features.\n",
            "Fitting estimator with 51 features.\n",
            "Fitting estimator with 50 features.\n",
            "Fitting estimator with 49 features.\n",
            "Fitting estimator with 48 features.\n",
            "Fitting estimator with 47 features.\n",
            "Fitting estimator with 46 features.\n",
            "Fitting estimator with 45 features.\n",
            "Fitting estimator with 44 features.\n",
            "Fitting estimator with 43 features.\n",
            "Fitting estimator with 42 features.\n",
            "Fitting estimator with 41 features.\n",
            "Fitting estimator with 40 features.\n",
            "Fitting estimator with 39 features.\n",
            "Fitting estimator with 38 features.\n",
            "Fitting estimator with 37 features.\n",
            "Fitting estimator with 36 features.\n",
            "Fitting estimator with 35 features.\n",
            "Fitting estimator with 34 features.\n",
            "Fitting estimator with 33 features.\n",
            "Fitting estimator with 32 features.\n",
            "Fitting estimator with 31 features.\n",
            "Fitting estimator with 30 features.\n",
            "Fitting estimator with 29 features.\n",
            "Fitting estimator with 28 features.\n",
            "Fitting estimator with 27 features.\n",
            "Fitting estimator with 26 features.\n",
            "Fitting estimator with 25 features.\n",
            "Fitting estimator with 24 features.\n",
            "Fitting estimator with 23 features.\n",
            "Fitting estimator with 22 features.\n",
            "Fitting estimator with 21 features.\n",
            "Fitting estimator with 20 features.\n",
            "Fitting estimator with 19 features.\n",
            "Fitting estimator with 18 features.\n",
            "Fitting estimator with 17 features.\n",
            "Fitting estimator with 16 features.\n"
          ]
        }
      ],
      "source": [
        "rfe = RFE(estimator=reg, n_features_to_select=15, verbose=1)\n",
        "rfe = rfe.fit(X, y)"
      ]
    },
    {
      "cell_type": "code",
      "execution_count": 71,
      "metadata": {
        "id": "nyBUyWVk71cL"
      },
      "outputs": [],
      "source": [
        "XX = X[X.columns[rfe.support_]]"
      ]
    },
    {
      "cell_type": "code",
      "execution_count": 72,
      "metadata": {
        "colab": {
          "base_uri": "https://localhost:8080/",
          "height": 270
        },
        "id": "AHsP8eLc71fK",
        "outputId": "379014f8-e628-4044-d237-8f0a2b4f1928"
      },
      "outputs": [
        {
          "data": {
            "text/html": [
              "\n",
              "  <div id=\"df-4827959b-0381-4584-a8d3-c37a4f937ff8\">\n",
              "    <div class=\"colab-df-container\">\n",
              "      <div>\n",
              "<style scoped>\n",
              "    .dataframe tbody tr th:only-of-type {\n",
              "        vertical-align: middle;\n",
              "    }\n",
              "\n",
              "    .dataframe tbody tr th {\n",
              "        vertical-align: top;\n",
              "    }\n",
              "\n",
              "    .dataframe thead th {\n",
              "        text-align: right;\n",
              "    }\n",
              "</style>\n",
              "<table border=\"1\" class=\"dataframe\">\n",
              "  <thead>\n",
              "    <tr style=\"text-align: right;\">\n",
              "      <th></th>\n",
              "      <th>source</th>\n",
              "      <th>cab_type</th>\n",
              "      <th>product_id</th>\n",
              "      <th>name</th>\n",
              "      <th>distance</th>\n",
              "      <th>surge_multiplier</th>\n",
              "      <th>latitude</th>\n",
              "      <th>longitude</th>\n",
              "      <th>precipIntensity</th>\n",
              "      <th>humidity</th>\n",
              "      <th>temperatureHigh</th>\n",
              "      <th>apparentTemperatureHigh</th>\n",
              "      <th>precipIntensityMax</th>\n",
              "      <th>temperatureMax</th>\n",
              "      <th>apparentTemperatureMax</th>\n",
              "    </tr>\n",
              "  </thead>\n",
              "  <tbody>\n",
              "    <tr>\n",
              "      <th>0</th>\n",
              "      <td>5</td>\n",
              "      <td>0.0</td>\n",
              "      <td>4</td>\n",
              "      <td>2.0</td>\n",
              "      <td>0.44</td>\n",
              "      <td>1.0</td>\n",
              "      <td>42.2148</td>\n",
              "      <td>-71.0330</td>\n",
              "      <td>0.0000</td>\n",
              "      <td>0.68</td>\n",
              "      <td>43.68</td>\n",
              "      <td>37.95</td>\n",
              "      <td>0.1276</td>\n",
              "      <td>43.68</td>\n",
              "      <td>38.07</td>\n",
              "    </tr>\n",
              "    <tr>\n",
              "      <th>1</th>\n",
              "      <td>5</td>\n",
              "      <td>0.0</td>\n",
              "      <td>5</td>\n",
              "      <td>1.0</td>\n",
              "      <td>0.44</td>\n",
              "      <td>1.0</td>\n",
              "      <td>42.2148</td>\n",
              "      <td>-71.0330</td>\n",
              "      <td>0.1299</td>\n",
              "      <td>0.94</td>\n",
              "      <td>47.30</td>\n",
              "      <td>43.92</td>\n",
              "      <td>0.1300</td>\n",
              "      <td>47.30</td>\n",
              "      <td>43.92</td>\n",
              "    </tr>\n",
              "    <tr>\n",
              "      <th>2</th>\n",
              "      <td>0</td>\n",
              "      <td>0.0</td>\n",
              "      <td>4</td>\n",
              "      <td>2.0</td>\n",
              "      <td>1.08</td>\n",
              "      <td>1.0</td>\n",
              "      <td>42.3503</td>\n",
              "      <td>-71.0810</td>\n",
              "      <td>0.0000</td>\n",
              "      <td>0.96</td>\n",
              "      <td>57.02</td>\n",
              "      <td>56.35</td>\n",
              "      <td>0.0004</td>\n",
              "      <td>57.02</td>\n",
              "      <td>56.35</td>\n",
              "    </tr>\n",
              "    <tr>\n",
              "      <th>3</th>\n",
              "      <td>0</td>\n",
              "      <td>0.0</td>\n",
              "      <td>5</td>\n",
              "      <td>1.0</td>\n",
              "      <td>1.08</td>\n",
              "      <td>1.0</td>\n",
              "      <td>42.3503</td>\n",
              "      <td>-71.0810</td>\n",
              "      <td>0.0000</td>\n",
              "      <td>0.62</td>\n",
              "      <td>42.32</td>\n",
              "      <td>40.48</td>\n",
              "      <td>0.0004</td>\n",
              "      <td>42.32</td>\n",
              "      <td>40.48</td>\n",
              "    </tr>\n",
              "    <tr>\n",
              "      <th>4</th>\n",
              "      <td>6</td>\n",
              "      <td>1.0</td>\n",
              "      <td>0</td>\n",
              "      <td>5.0</td>\n",
              "      <td>1.11</td>\n",
              "      <td>1.0</td>\n",
              "      <td>42.3647</td>\n",
              "      <td>-71.0542</td>\n",
              "      <td>0.0000</td>\n",
              "      <td>0.56</td>\n",
              "      <td>33.83</td>\n",
              "      <td>32.85</td>\n",
              "      <td>0.0001</td>\n",
              "      <td>33.83</td>\n",
              "      <td>32.85</td>\n",
              "    </tr>\n",
              "  </tbody>\n",
              "</table>\n",
              "</div>\n",
              "      <button class=\"colab-df-convert\" onclick=\"convertToInteractive('df-4827959b-0381-4584-a8d3-c37a4f937ff8')\"\n",
              "              title=\"Convert this dataframe to an interactive table.\"\n",
              "              style=\"display:none;\">\n",
              "        \n",
              "  <svg xmlns=\"http://www.w3.org/2000/svg\" height=\"24px\"viewBox=\"0 0 24 24\"\n",
              "       width=\"24px\">\n",
              "    <path d=\"M0 0h24v24H0V0z\" fill=\"none\"/>\n",
              "    <path d=\"M18.56 5.44l.94 2.06.94-2.06 2.06-.94-2.06-.94-.94-2.06-.94 2.06-2.06.94zm-11 1L8.5 8.5l.94-2.06 2.06-.94-2.06-.94L8.5 2.5l-.94 2.06-2.06.94zm10 10l.94 2.06.94-2.06 2.06-.94-2.06-.94-.94-2.06-.94 2.06-2.06.94z\"/><path d=\"M17.41 7.96l-1.37-1.37c-.4-.4-.92-.59-1.43-.59-.52 0-1.04.2-1.43.59L10.3 9.45l-7.72 7.72c-.78.78-.78 2.05 0 2.83L4 21.41c.39.39.9.59 1.41.59.51 0 1.02-.2 1.41-.59l7.78-7.78 2.81-2.81c.8-.78.8-2.07 0-2.86zM5.41 20L4 18.59l7.72-7.72 1.47 1.35L5.41 20z\"/>\n",
              "  </svg>\n",
              "      </button>\n",
              "      \n",
              "  <style>\n",
              "    .colab-df-container {\n",
              "      display:flex;\n",
              "      flex-wrap:wrap;\n",
              "      gap: 12px;\n",
              "    }\n",
              "\n",
              "    .colab-df-convert {\n",
              "      background-color: #E8F0FE;\n",
              "      border: none;\n",
              "      border-radius: 50%;\n",
              "      cursor: pointer;\n",
              "      display: none;\n",
              "      fill: #1967D2;\n",
              "      height: 32px;\n",
              "      padding: 0 0 0 0;\n",
              "      width: 32px;\n",
              "    }\n",
              "\n",
              "    .colab-df-convert:hover {\n",
              "      background-color: #E2EBFA;\n",
              "      box-shadow: 0px 1px 2px rgba(60, 64, 67, 0.3), 0px 1px 3px 1px rgba(60, 64, 67, 0.15);\n",
              "      fill: #174EA6;\n",
              "    }\n",
              "\n",
              "    [theme=dark] .colab-df-convert {\n",
              "      background-color: #3B4455;\n",
              "      fill: #D2E3FC;\n",
              "    }\n",
              "\n",
              "    [theme=dark] .colab-df-convert:hover {\n",
              "      background-color: #434B5C;\n",
              "      box-shadow: 0px 1px 3px 1px rgba(0, 0, 0, 0.15);\n",
              "      filter: drop-shadow(0px 1px 2px rgba(0, 0, 0, 0.3));\n",
              "      fill: #FFFFFF;\n",
              "    }\n",
              "  </style>\n",
              "\n",
              "      <script>\n",
              "        const buttonEl =\n",
              "          document.querySelector('#df-4827959b-0381-4584-a8d3-c37a4f937ff8 button.colab-df-convert');\n",
              "        buttonEl.style.display =\n",
              "          google.colab.kernel.accessAllowed ? 'block' : 'none';\n",
              "\n",
              "        async function convertToInteractive(key) {\n",
              "          const element = document.querySelector('#df-4827959b-0381-4584-a8d3-c37a4f937ff8');\n",
              "          const dataTable =\n",
              "            await google.colab.kernel.invokeFunction('convertToInteractive',\n",
              "                                                     [key], {});\n",
              "          if (!dataTable) return;\n",
              "\n",
              "          const docLinkHtml = 'Like what you see? Visit the ' +\n",
              "            '<a target=\"_blank\" href=https://colab.research.google.com/notebooks/data_table.ipynb>data table notebook</a>'\n",
              "            + ' to learn more about interactive tables.';\n",
              "          element.innerHTML = '';\n",
              "          dataTable['output_type'] = 'display_data';\n",
              "          await google.colab.output.renderOutput(dataTable, element);\n",
              "          const docLink = document.createElement('div');\n",
              "          docLink.innerHTML = docLinkHtml;\n",
              "          element.appendChild(docLink);\n",
              "        }\n",
              "      </script>\n",
              "    </div>\n",
              "  </div>\n",
              "  "
            ],
            "text/plain": [
              "   source  cab_type  product_id  name  distance  surge_multiplier  latitude  \\\n",
              "0       5       0.0           4   2.0      0.44               1.0   42.2148   \n",
              "1       5       0.0           5   1.0      0.44               1.0   42.2148   \n",
              "2       0       0.0           4   2.0      1.08               1.0   42.3503   \n",
              "3       0       0.0           5   1.0      1.08               1.0   42.3503   \n",
              "4       6       1.0           0   5.0      1.11               1.0   42.3647   \n",
              "\n",
              "   longitude  precipIntensity  humidity  temperatureHigh  \\\n",
              "0   -71.0330           0.0000      0.68            43.68   \n",
              "1   -71.0330           0.1299      0.94            47.30   \n",
              "2   -71.0810           0.0000      0.96            57.02   \n",
              "3   -71.0810           0.0000      0.62            42.32   \n",
              "4   -71.0542           0.0000      0.56            33.83   \n",
              "\n",
              "   apparentTemperatureHigh  precipIntensityMax  temperatureMax  \\\n",
              "0                    37.95              0.1276           43.68   \n",
              "1                    43.92              0.1300           47.30   \n",
              "2                    56.35              0.0004           57.02   \n",
              "3                    40.48              0.0004           42.32   \n",
              "4                    32.85              0.0001           33.83   \n",
              "\n",
              "   apparentTemperatureMax  \n",
              "0                   38.07  \n",
              "1                   43.92  \n",
              "2                   56.35  \n",
              "3                   40.48  \n",
              "4                   32.85  "
            ]
          },
          "execution_count": 72,
          "metadata": {},
          "output_type": "execute_result"
        }
      ],
      "source": [
        "XX.head()"
      ]
    },
    {
      "cell_type": "code",
      "execution_count": 73,
      "metadata": {
        "id": "gmXl7-1T71hm"
      },
      "outputs": [],
      "source": [
        "X_train, X_test, y_train, y_test = train_test_split(XX, y, test_size = 0.6, random_state = 11)"
      ]
    },
    {
      "cell_type": "code",
      "execution_count": 74,
      "metadata": {
        "colab": {
          "base_uri": "https://localhost:8080/"
        },
        "id": "rpbyN7cM71kN",
        "outputId": "0516fc55-f260-42e7-9c0d-0ac442129da1"
      },
      "outputs": [
        {
          "data": {
            "text/plain": [
              "(225990, 15)"
            ]
          },
          "execution_count": 74,
          "metadata": {},
          "output_type": "execute_result"
        }
      ],
      "source": [
        "X_train.shape"
      ]
    },
    {
      "cell_type": "code",
      "execution_count": 75,
      "metadata": {
        "id": "lTlnajlN71nF"
      },
      "outputs": [],
      "source": [
        "#Creating model\n",
        "reg1 = LinearRegression()\n",
        "#Fitting training data\n",
        "reg1 = reg1.fit(X_train, y_train)"
      ]
    },
    {
      "cell_type": "code",
      "execution_count": 76,
      "metadata": {
        "colab": {
          "base_uri": "https://localhost:8080/"
        },
        "id": "ozxTe6ve71pc",
        "outputId": "fc1b90c7-1b07-430b-edba-de310bbe425f"
      },
      "outputs": [
        {
          "data": {
            "text/plain": [
              "0.8317275521592732"
            ]
          },
          "execution_count": 76,
          "metadata": {},
          "output_type": "execute_result"
        }
      ],
      "source": [
        "reg1.score(X_train, y_train)"
      ]
    },
    {
      "cell_type": "markdown",
      "metadata": {
        "id": "dQgdFFGTlSoN"
      },
      "source": [
        "**performance metric for 25 features**"
      ]
    },
    {
      "cell_type": "code",
      "execution_count": 77,
      "metadata": {
        "colab": {
          "base_uri": "https://localhost:8080/"
        },
        "id": "ByK_GVYS71uh",
        "outputId": "336f2b7f-1245-4728-a6ea-47b51c4f5665"
      },
      "outputs": [
        {
          "name": "stdout",
          "output_type": "stream",
          "text": [
            "Fitting estimator with 58 features.\n",
            "Fitting estimator with 57 features.\n",
            "Fitting estimator with 56 features.\n",
            "Fitting estimator with 55 features.\n",
            "Fitting estimator with 54 features.\n",
            "Fitting estimator with 53 features.\n",
            "Fitting estimator with 52 features.\n",
            "Fitting estimator with 51 features.\n",
            "Fitting estimator with 50 features.\n",
            "Fitting estimator with 49 features.\n",
            "Fitting estimator with 48 features.\n",
            "Fitting estimator with 47 features.\n",
            "Fitting estimator with 46 features.\n",
            "Fitting estimator with 45 features.\n",
            "Fitting estimator with 44 features.\n",
            "Fitting estimator with 43 features.\n",
            "Fitting estimator with 42 features.\n",
            "Fitting estimator with 41 features.\n",
            "Fitting estimator with 40 features.\n",
            "Fitting estimator with 39 features.\n",
            "Fitting estimator with 38 features.\n",
            "Fitting estimator with 37 features.\n",
            "Fitting estimator with 36 features.\n",
            "Fitting estimator with 35 features.\n",
            "Fitting estimator with 34 features.\n",
            "Fitting estimator with 33 features.\n",
            "Fitting estimator with 32 features.\n",
            "Fitting estimator with 31 features.\n",
            "Fitting estimator with 30 features.\n",
            "Fitting estimator with 29 features.\n",
            "Fitting estimator with 28 features.\n",
            "Fitting estimator with 27 features.\n",
            "Fitting estimator with 26 features.\n"
          ]
        }
      ],
      "source": [
        "rfe = RFE(estimator=reg, n_features_to_select=25, verbose=1)\n",
        "rfe = rfe.fit(X, y)"
      ]
    },
    {
      "cell_type": "code",
      "execution_count": 78,
      "metadata": {
        "id": "OkurgXHF71x5"
      },
      "outputs": [],
      "source": [
        "XX = X[X.columns[rfe.support_]]"
      ]
    },
    {
      "cell_type": "code",
      "execution_count": 79,
      "metadata": {
        "colab": {
          "base_uri": "https://localhost:8080/",
          "height": 300
        },
        "id": "P3-EVtlf8-eL",
        "outputId": "33f9ded1-123e-431a-bba8-705a4a696ce4"
      },
      "outputs": [
        {
          "data": {
            "text/html": [
              "\n",
              "  <div id=\"df-e4b832b6-2b95-4282-8efa-a588d512d881\">\n",
              "    <div class=\"colab-df-container\">\n",
              "      <div>\n",
              "<style scoped>\n",
              "    .dataframe tbody tr th:only-of-type {\n",
              "        vertical-align: middle;\n",
              "    }\n",
              "\n",
              "    .dataframe tbody tr th {\n",
              "        vertical-align: top;\n",
              "    }\n",
              "\n",
              "    .dataframe thead th {\n",
              "        text-align: right;\n",
              "    }\n",
              "</style>\n",
              "<table border=\"1\" class=\"dataframe\">\n",
              "  <thead>\n",
              "    <tr style=\"text-align: right;\">\n",
              "      <th></th>\n",
              "      <th>month</th>\n",
              "      <th>source</th>\n",
              "      <th>destination</th>\n",
              "      <th>cab_type</th>\n",
              "      <th>product_id</th>\n",
              "      <th>name</th>\n",
              "      <th>distance</th>\n",
              "      <th>surge_multiplier</th>\n",
              "      <th>latitude</th>\n",
              "      <th>longitude</th>\n",
              "      <th>...</th>\n",
              "      <th>windGust</th>\n",
              "      <th>temperatureHigh</th>\n",
              "      <th>apparentTemperatureHigh</th>\n",
              "      <th>icon</th>\n",
              "      <th>dewPoint</th>\n",
              "      <th>cloudCover</th>\n",
              "      <th>moonPhase</th>\n",
              "      <th>precipIntensityMax</th>\n",
              "      <th>temperatureMax</th>\n",
              "      <th>apparentTemperatureMax</th>\n",
              "    </tr>\n",
              "  </thead>\n",
              "  <tbody>\n",
              "    <tr>\n",
              "      <th>0</th>\n",
              "      <td>12</td>\n",
              "      <td>5</td>\n",
              "      <td>7</td>\n",
              "      <td>0.0</td>\n",
              "      <td>4</td>\n",
              "      <td>2.0</td>\n",
              "      <td>0.44</td>\n",
              "      <td>1.0</td>\n",
              "      <td>42.2148</td>\n",
              "      <td>-71.0330</td>\n",
              "      <td>...</td>\n",
              "      <td>9.17</td>\n",
              "      <td>43.68</td>\n",
              "      <td>37.95</td>\n",
              "      <td>5</td>\n",
              "      <td>32.70</td>\n",
              "      <td>0.72</td>\n",
              "      <td>0.30</td>\n",
              "      <td>0.1276</td>\n",
              "      <td>43.68</td>\n",
              "      <td>38.07</td>\n",
              "    </tr>\n",
              "    <tr>\n",
              "      <th>1</th>\n",
              "      <td>11</td>\n",
              "      <td>5</td>\n",
              "      <td>7</td>\n",
              "      <td>0.0</td>\n",
              "      <td>5</td>\n",
              "      <td>1.0</td>\n",
              "      <td>0.44</td>\n",
              "      <td>1.0</td>\n",
              "      <td>42.2148</td>\n",
              "      <td>-71.0330</td>\n",
              "      <td>...</td>\n",
              "      <td>11.98</td>\n",
              "      <td>47.30</td>\n",
              "      <td>43.92</td>\n",
              "      <td>6</td>\n",
              "      <td>41.83</td>\n",
              "      <td>1.00</td>\n",
              "      <td>0.64</td>\n",
              "      <td>0.1300</td>\n",
              "      <td>47.30</td>\n",
              "      <td>43.92</td>\n",
              "    </tr>\n",
              "    <tr>\n",
              "      <th>2</th>\n",
              "      <td>12</td>\n",
              "      <td>0</td>\n",
              "      <td>8</td>\n",
              "      <td>0.0</td>\n",
              "      <td>4</td>\n",
              "      <td>2.0</td>\n",
              "      <td>1.08</td>\n",
              "      <td>1.0</td>\n",
              "      <td>42.3503</td>\n",
              "      <td>-71.0810</td>\n",
              "      <td>...</td>\n",
              "      <td>2.09</td>\n",
              "      <td>57.02</td>\n",
              "      <td>56.35</td>\n",
              "      <td>3</td>\n",
              "      <td>44.50</td>\n",
              "      <td>1.00</td>\n",
              "      <td>0.89</td>\n",
              "      <td>0.0004</td>\n",
              "      <td>57.02</td>\n",
              "      <td>56.35</td>\n",
              "    </tr>\n",
              "    <tr>\n",
              "      <th>3</th>\n",
              "      <td>11</td>\n",
              "      <td>0</td>\n",
              "      <td>8</td>\n",
              "      <td>0.0</td>\n",
              "      <td>5</td>\n",
              "      <td>1.0</td>\n",
              "      <td>1.08</td>\n",
              "      <td>1.0</td>\n",
              "      <td>42.3503</td>\n",
              "      <td>-71.0810</td>\n",
              "      <td>...</td>\n",
              "      <td>4.47</td>\n",
              "      <td>42.32</td>\n",
              "      <td>40.48</td>\n",
              "      <td>0</td>\n",
              "      <td>27.99</td>\n",
              "      <td>0.12</td>\n",
              "      <td>0.79</td>\n",
              "      <td>0.0004</td>\n",
              "      <td>42.32</td>\n",
              "      <td>40.48</td>\n",
              "    </tr>\n",
              "    <tr>\n",
              "      <th>4</th>\n",
              "      <td>12</td>\n",
              "      <td>6</td>\n",
              "      <td>11</td>\n",
              "      <td>1.0</td>\n",
              "      <td>0</td>\n",
              "      <td>5.0</td>\n",
              "      <td>1.11</td>\n",
              "      <td>1.0</td>\n",
              "      <td>42.3647</td>\n",
              "      <td>-71.0542</td>\n",
              "      <td>...</td>\n",
              "      <td>3.83</td>\n",
              "      <td>33.83</td>\n",
              "      <td>32.85</td>\n",
              "      <td>4</td>\n",
              "      <td>18.66</td>\n",
              "      <td>0.64</td>\n",
              "      <td>0.21</td>\n",
              "      <td>0.0001</td>\n",
              "      <td>33.83</td>\n",
              "      <td>32.85</td>\n",
              "    </tr>\n",
              "  </tbody>\n",
              "</table>\n",
              "<p>5 rows × 25 columns</p>\n",
              "</div>\n",
              "      <button class=\"colab-df-convert\" onclick=\"convertToInteractive('df-e4b832b6-2b95-4282-8efa-a588d512d881')\"\n",
              "              title=\"Convert this dataframe to an interactive table.\"\n",
              "              style=\"display:none;\">\n",
              "        \n",
              "  <svg xmlns=\"http://www.w3.org/2000/svg\" height=\"24px\"viewBox=\"0 0 24 24\"\n",
              "       width=\"24px\">\n",
              "    <path d=\"M0 0h24v24H0V0z\" fill=\"none\"/>\n",
              "    <path d=\"M18.56 5.44l.94 2.06.94-2.06 2.06-.94-2.06-.94-.94-2.06-.94 2.06-2.06.94zm-11 1L8.5 8.5l.94-2.06 2.06-.94-2.06-.94L8.5 2.5l-.94 2.06-2.06.94zm10 10l.94 2.06.94-2.06 2.06-.94-2.06-.94-.94-2.06-.94 2.06-2.06.94z\"/><path d=\"M17.41 7.96l-1.37-1.37c-.4-.4-.92-.59-1.43-.59-.52 0-1.04.2-1.43.59L10.3 9.45l-7.72 7.72c-.78.78-.78 2.05 0 2.83L4 21.41c.39.39.9.59 1.41.59.51 0 1.02-.2 1.41-.59l7.78-7.78 2.81-2.81c.8-.78.8-2.07 0-2.86zM5.41 20L4 18.59l7.72-7.72 1.47 1.35L5.41 20z\"/>\n",
              "  </svg>\n",
              "      </button>\n",
              "      \n",
              "  <style>\n",
              "    .colab-df-container {\n",
              "      display:flex;\n",
              "      flex-wrap:wrap;\n",
              "      gap: 12px;\n",
              "    }\n",
              "\n",
              "    .colab-df-convert {\n",
              "      background-color: #E8F0FE;\n",
              "      border: none;\n",
              "      border-radius: 50%;\n",
              "      cursor: pointer;\n",
              "      display: none;\n",
              "      fill: #1967D2;\n",
              "      height: 32px;\n",
              "      padding: 0 0 0 0;\n",
              "      width: 32px;\n",
              "    }\n",
              "\n",
              "    .colab-df-convert:hover {\n",
              "      background-color: #E2EBFA;\n",
              "      box-shadow: 0px 1px 2px rgba(60, 64, 67, 0.3), 0px 1px 3px 1px rgba(60, 64, 67, 0.15);\n",
              "      fill: #174EA6;\n",
              "    }\n",
              "\n",
              "    [theme=dark] .colab-df-convert {\n",
              "      background-color: #3B4455;\n",
              "      fill: #D2E3FC;\n",
              "    }\n",
              "\n",
              "    [theme=dark] .colab-df-convert:hover {\n",
              "      background-color: #434B5C;\n",
              "      box-shadow: 0px 1px 3px 1px rgba(0, 0, 0, 0.15);\n",
              "      filter: drop-shadow(0px 1px 2px rgba(0, 0, 0, 0.3));\n",
              "      fill: #FFFFFF;\n",
              "    }\n",
              "  </style>\n",
              "\n",
              "      <script>\n",
              "        const buttonEl =\n",
              "          document.querySelector('#df-e4b832b6-2b95-4282-8efa-a588d512d881 button.colab-df-convert');\n",
              "        buttonEl.style.display =\n",
              "          google.colab.kernel.accessAllowed ? 'block' : 'none';\n",
              "\n",
              "        async function convertToInteractive(key) {\n",
              "          const element = document.querySelector('#df-e4b832b6-2b95-4282-8efa-a588d512d881');\n",
              "          const dataTable =\n",
              "            await google.colab.kernel.invokeFunction('convertToInteractive',\n",
              "                                                     [key], {});\n",
              "          if (!dataTable) return;\n",
              "\n",
              "          const docLinkHtml = 'Like what you see? Visit the ' +\n",
              "            '<a target=\"_blank\" href=https://colab.research.google.com/notebooks/data_table.ipynb>data table notebook</a>'\n",
              "            + ' to learn more about interactive tables.';\n",
              "          element.innerHTML = '';\n",
              "          dataTable['output_type'] = 'display_data';\n",
              "          await google.colab.output.renderOutput(dataTable, element);\n",
              "          const docLink = document.createElement('div');\n",
              "          docLink.innerHTML = docLinkHtml;\n",
              "          element.appendChild(docLink);\n",
              "        }\n",
              "      </script>\n",
              "    </div>\n",
              "  </div>\n",
              "  "
            ],
            "text/plain": [
              "   month  source  destination  cab_type  product_id  name  distance  \\\n",
              "0     12       5            7       0.0           4   2.0      0.44   \n",
              "1     11       5            7       0.0           5   1.0      0.44   \n",
              "2     12       0            8       0.0           4   2.0      1.08   \n",
              "3     11       0            8       0.0           5   1.0      1.08   \n",
              "4     12       6           11       1.0           0   5.0      1.11   \n",
              "\n",
              "   surge_multiplier  latitude  longitude  ...  windGust  temperatureHigh  \\\n",
              "0               1.0   42.2148   -71.0330  ...      9.17            43.68   \n",
              "1               1.0   42.2148   -71.0330  ...     11.98            47.30   \n",
              "2               1.0   42.3503   -71.0810  ...      2.09            57.02   \n",
              "3               1.0   42.3503   -71.0810  ...      4.47            42.32   \n",
              "4               1.0   42.3647   -71.0542  ...      3.83            33.83   \n",
              "\n",
              "   apparentTemperatureHigh  icon  dewPoint  cloudCover  moonPhase  \\\n",
              "0                    37.95     5     32.70        0.72       0.30   \n",
              "1                    43.92     6     41.83        1.00       0.64   \n",
              "2                    56.35     3     44.50        1.00       0.89   \n",
              "3                    40.48     0     27.99        0.12       0.79   \n",
              "4                    32.85     4     18.66        0.64       0.21   \n",
              "\n",
              "   precipIntensityMax  temperatureMax  apparentTemperatureMax  \n",
              "0              0.1276           43.68                   38.07  \n",
              "1              0.1300           47.30                   43.92  \n",
              "2              0.0004           57.02                   56.35  \n",
              "3              0.0004           42.32                   40.48  \n",
              "4              0.0001           33.83                   32.85  \n",
              "\n",
              "[5 rows x 25 columns]"
            ]
          },
          "execution_count": 79,
          "metadata": {},
          "output_type": "execute_result"
        }
      ],
      "source": [
        "XX.head()"
      ]
    },
    {
      "cell_type": "code",
      "execution_count": 80,
      "metadata": {
        "id": "kg2wY2r59A5n"
      },
      "outputs": [],
      "source": [
        "X_train, X_test, y_train, y_test = train_test_split(XX, y, test_size = 0.5, random_state = 20)"
      ]
    },
    {
      "cell_type": "code",
      "execution_count": 81,
      "metadata": {
        "colab": {
          "base_uri": "https://localhost:8080/"
        },
        "id": "KOisQGKH9Dld",
        "outputId": "986f5239-b2ae-455c-9a7f-9bb5da0566e1"
      },
      "outputs": [
        {
          "data": {
            "text/plain": [
              "(225990, 25)"
            ]
          },
          "execution_count": 81,
          "metadata": {},
          "output_type": "execute_result"
        }
      ],
      "source": [
        "X_train.shape"
      ]
    },
    {
      "cell_type": "code",
      "execution_count": 82,
      "metadata": {
        "id": "Qn0kb1Zc9GBW"
      },
      "outputs": [],
      "source": [
        "#Creating model\n",
        "reg1 = LinearRegression()\n",
        "#Fitting training data\n",
        "reg1 = reg1.fit(X_train, y_train)\n",
        "#Y prediction\n",
        "Y_pred = reg1.predict(X_test)"
      ]
    },
    {
      "cell_type": "code",
      "execution_count": 83,
      "metadata": {
        "colab": {
          "base_uri": "https://localhost:8080/"
        },
        "id": "8_KCLsO19Gyh",
        "outputId": "71c12740-ca11-47dd-c2ea-949c34920843"
      },
      "outputs": [
        {
          "data": {
            "text/plain": [
              "0.8322576767626478"
            ]
          },
          "execution_count": 83,
          "metadata": {},
          "output_type": "execute_result"
        }
      ],
      "source": [
        "reg1.score(X_train, y_train)"
      ]
    },
    {
      "cell_type": "markdown",
      "metadata": {
        "id": "Qggue9d7lzeu"
      },
      "source": [
        "**25 selected features after recursive feature elimination**"
      ]
    },
    {
      "cell_type": "code",
      "execution_count": 84,
      "metadata": {
        "colab": {
          "base_uri": "https://localhost:8080/"
        },
        "id": "77oIAKQm9G1D",
        "outputId": "dd833a01-727e-400b-f3da-a5d0e7ed4e14"
      },
      "outputs": [
        {
          "data": {
            "text/plain": [
              "Index(['month', 'source', 'destination', 'cab_type', 'product_id', 'name',\n",
              "       'distance', 'surge_multiplier', 'latitude', 'longitude', 'temperature',\n",
              "       'apparentTemperature', 'precipIntensity', 'humidity', 'windSpeed',\n",
              "       'windGust', 'temperatureHigh', 'apparentTemperatureHigh', 'icon',\n",
              "       'dewPoint', 'cloudCover', 'moonPhase', 'precipIntensityMax',\n",
              "       'temperatureMax', 'apparentTemperatureMax'],\n",
              "      dtype='object')"
            ]
          },
          "execution_count": 84,
          "metadata": {},
          "output_type": "execute_result"
        }
      ],
      "source": [
        "XX.columns"
      ]
    },
    {
      "cell_type": "code",
      "execution_count": 85,
      "metadata": {
        "colab": {
          "base_uri": "https://localhost:8080/"
        },
        "id": "08_fZb-e9G3X",
        "outputId": "ce6c8a4f-fe7c-438d-e9ca-25a8ad1977f8"
      },
      "outputs": [
        {
          "data": {
            "text/plain": [
              "(322844, 25)"
            ]
          },
          "execution_count": 85,
          "metadata": {},
          "output_type": "execute_result"
        }
      ],
      "source": [
        "XX.shape"
      ]
    },
    {
      "cell_type": "code",
      "execution_count": 86,
      "metadata": {
        "colab": {
          "base_uri": "https://localhost:8080/",
          "height": 300
        },
        "id": "pbM6W38u9G6-",
        "outputId": "4a10b5d9-768b-42a3-e72a-d847554a271b"
      },
      "outputs": [
        {
          "data": {
            "text/html": [
              "\n",
              "  <div id=\"df-0269445c-72da-48ea-901d-a92dd3475ac6\">\n",
              "    <div class=\"colab-df-container\">\n",
              "      <div>\n",
              "<style scoped>\n",
              "    .dataframe tbody tr th:only-of-type {\n",
              "        vertical-align: middle;\n",
              "    }\n",
              "\n",
              "    .dataframe tbody tr th {\n",
              "        vertical-align: top;\n",
              "    }\n",
              "\n",
              "    .dataframe thead th {\n",
              "        text-align: right;\n",
              "    }\n",
              "</style>\n",
              "<table border=\"1\" class=\"dataframe\">\n",
              "  <thead>\n",
              "    <tr style=\"text-align: right;\">\n",
              "      <th></th>\n",
              "      <th>month</th>\n",
              "      <th>source</th>\n",
              "      <th>destination</th>\n",
              "      <th>cab_type</th>\n",
              "      <th>product_id</th>\n",
              "      <th>name</th>\n",
              "      <th>distance</th>\n",
              "      <th>surge_multiplier</th>\n",
              "      <th>latitude</th>\n",
              "      <th>longitude</th>\n",
              "      <th>...</th>\n",
              "      <th>windGust</th>\n",
              "      <th>temperatureHigh</th>\n",
              "      <th>apparentTemperatureHigh</th>\n",
              "      <th>icon</th>\n",
              "      <th>dewPoint</th>\n",
              "      <th>cloudCover</th>\n",
              "      <th>moonPhase</th>\n",
              "      <th>precipIntensityMax</th>\n",
              "      <th>temperatureMax</th>\n",
              "      <th>apparentTemperatureMax</th>\n",
              "    </tr>\n",
              "  </thead>\n",
              "  <tbody>\n",
              "    <tr>\n",
              "      <th>0</th>\n",
              "      <td>12</td>\n",
              "      <td>5</td>\n",
              "      <td>7</td>\n",
              "      <td>0.0</td>\n",
              "      <td>4</td>\n",
              "      <td>2.0</td>\n",
              "      <td>0.44</td>\n",
              "      <td>1.0</td>\n",
              "      <td>42.2148</td>\n",
              "      <td>-71.0330</td>\n",
              "      <td>...</td>\n",
              "      <td>9.17</td>\n",
              "      <td>43.68</td>\n",
              "      <td>37.95</td>\n",
              "      <td>5</td>\n",
              "      <td>32.70</td>\n",
              "      <td>0.72</td>\n",
              "      <td>0.30</td>\n",
              "      <td>0.1276</td>\n",
              "      <td>43.68</td>\n",
              "      <td>38.07</td>\n",
              "    </tr>\n",
              "    <tr>\n",
              "      <th>1</th>\n",
              "      <td>11</td>\n",
              "      <td>5</td>\n",
              "      <td>7</td>\n",
              "      <td>0.0</td>\n",
              "      <td>5</td>\n",
              "      <td>1.0</td>\n",
              "      <td>0.44</td>\n",
              "      <td>1.0</td>\n",
              "      <td>42.2148</td>\n",
              "      <td>-71.0330</td>\n",
              "      <td>...</td>\n",
              "      <td>11.98</td>\n",
              "      <td>47.30</td>\n",
              "      <td>43.92</td>\n",
              "      <td>6</td>\n",
              "      <td>41.83</td>\n",
              "      <td>1.00</td>\n",
              "      <td>0.64</td>\n",
              "      <td>0.1300</td>\n",
              "      <td>47.30</td>\n",
              "      <td>43.92</td>\n",
              "    </tr>\n",
              "    <tr>\n",
              "      <th>2</th>\n",
              "      <td>12</td>\n",
              "      <td>0</td>\n",
              "      <td>8</td>\n",
              "      <td>0.0</td>\n",
              "      <td>4</td>\n",
              "      <td>2.0</td>\n",
              "      <td>1.08</td>\n",
              "      <td>1.0</td>\n",
              "      <td>42.3503</td>\n",
              "      <td>-71.0810</td>\n",
              "      <td>...</td>\n",
              "      <td>2.09</td>\n",
              "      <td>57.02</td>\n",
              "      <td>56.35</td>\n",
              "      <td>3</td>\n",
              "      <td>44.50</td>\n",
              "      <td>1.00</td>\n",
              "      <td>0.89</td>\n",
              "      <td>0.0004</td>\n",
              "      <td>57.02</td>\n",
              "      <td>56.35</td>\n",
              "    </tr>\n",
              "    <tr>\n",
              "      <th>3</th>\n",
              "      <td>11</td>\n",
              "      <td>0</td>\n",
              "      <td>8</td>\n",
              "      <td>0.0</td>\n",
              "      <td>5</td>\n",
              "      <td>1.0</td>\n",
              "      <td>1.08</td>\n",
              "      <td>1.0</td>\n",
              "      <td>42.3503</td>\n",
              "      <td>-71.0810</td>\n",
              "      <td>...</td>\n",
              "      <td>4.47</td>\n",
              "      <td>42.32</td>\n",
              "      <td>40.48</td>\n",
              "      <td>0</td>\n",
              "      <td>27.99</td>\n",
              "      <td>0.12</td>\n",
              "      <td>0.79</td>\n",
              "      <td>0.0004</td>\n",
              "      <td>42.32</td>\n",
              "      <td>40.48</td>\n",
              "    </tr>\n",
              "    <tr>\n",
              "      <th>4</th>\n",
              "      <td>12</td>\n",
              "      <td>6</td>\n",
              "      <td>11</td>\n",
              "      <td>1.0</td>\n",
              "      <td>0</td>\n",
              "      <td>5.0</td>\n",
              "      <td>1.11</td>\n",
              "      <td>1.0</td>\n",
              "      <td>42.3647</td>\n",
              "      <td>-71.0542</td>\n",
              "      <td>...</td>\n",
              "      <td>3.83</td>\n",
              "      <td>33.83</td>\n",
              "      <td>32.85</td>\n",
              "      <td>4</td>\n",
              "      <td>18.66</td>\n",
              "      <td>0.64</td>\n",
              "      <td>0.21</td>\n",
              "      <td>0.0001</td>\n",
              "      <td>33.83</td>\n",
              "      <td>32.85</td>\n",
              "    </tr>\n",
              "  </tbody>\n",
              "</table>\n",
              "<p>5 rows × 25 columns</p>\n",
              "</div>\n",
              "      <button class=\"colab-df-convert\" onclick=\"convertToInteractive('df-0269445c-72da-48ea-901d-a92dd3475ac6')\"\n",
              "              title=\"Convert this dataframe to an interactive table.\"\n",
              "              style=\"display:none;\">\n",
              "        \n",
              "  <svg xmlns=\"http://www.w3.org/2000/svg\" height=\"24px\"viewBox=\"0 0 24 24\"\n",
              "       width=\"24px\">\n",
              "    <path d=\"M0 0h24v24H0V0z\" fill=\"none\"/>\n",
              "    <path d=\"M18.56 5.44l.94 2.06.94-2.06 2.06-.94-2.06-.94-.94-2.06-.94 2.06-2.06.94zm-11 1L8.5 8.5l.94-2.06 2.06-.94-2.06-.94L8.5 2.5l-.94 2.06-2.06.94zm10 10l.94 2.06.94-2.06 2.06-.94-2.06-.94-.94-2.06-.94 2.06-2.06.94z\"/><path d=\"M17.41 7.96l-1.37-1.37c-.4-.4-.92-.59-1.43-.59-.52 0-1.04.2-1.43.59L10.3 9.45l-7.72 7.72c-.78.78-.78 2.05 0 2.83L4 21.41c.39.39.9.59 1.41.59.51 0 1.02-.2 1.41-.59l7.78-7.78 2.81-2.81c.8-.78.8-2.07 0-2.86zM5.41 20L4 18.59l7.72-7.72 1.47 1.35L5.41 20z\"/>\n",
              "  </svg>\n",
              "      </button>\n",
              "      \n",
              "  <style>\n",
              "    .colab-df-container {\n",
              "      display:flex;\n",
              "      flex-wrap:wrap;\n",
              "      gap: 12px;\n",
              "    }\n",
              "\n",
              "    .colab-df-convert {\n",
              "      background-color: #E8F0FE;\n",
              "      border: none;\n",
              "      border-radius: 50%;\n",
              "      cursor: pointer;\n",
              "      display: none;\n",
              "      fill: #1967D2;\n",
              "      height: 32px;\n",
              "      padding: 0 0 0 0;\n",
              "      width: 32px;\n",
              "    }\n",
              "\n",
              "    .colab-df-convert:hover {\n",
              "      background-color: #E2EBFA;\n",
              "      box-shadow: 0px 1px 2px rgba(60, 64, 67, 0.3), 0px 1px 3px 1px rgba(60, 64, 67, 0.15);\n",
              "      fill: #174EA6;\n",
              "    }\n",
              "\n",
              "    [theme=dark] .colab-df-convert {\n",
              "      background-color: #3B4455;\n",
              "      fill: #D2E3FC;\n",
              "    }\n",
              "\n",
              "    [theme=dark] .colab-df-convert:hover {\n",
              "      background-color: #434B5C;\n",
              "      box-shadow: 0px 1px 3px 1px rgba(0, 0, 0, 0.15);\n",
              "      filter: drop-shadow(0px 1px 2px rgba(0, 0, 0, 0.3));\n",
              "      fill: #FFFFFF;\n",
              "    }\n",
              "  </style>\n",
              "\n",
              "      <script>\n",
              "        const buttonEl =\n",
              "          document.querySelector('#df-0269445c-72da-48ea-901d-a92dd3475ac6 button.colab-df-convert');\n",
              "        buttonEl.style.display =\n",
              "          google.colab.kernel.accessAllowed ? 'block' : 'none';\n",
              "\n",
              "        async function convertToInteractive(key) {\n",
              "          const element = document.querySelector('#df-0269445c-72da-48ea-901d-a92dd3475ac6');\n",
              "          const dataTable =\n",
              "            await google.colab.kernel.invokeFunction('convertToInteractive',\n",
              "                                                     [key], {});\n",
              "          if (!dataTable) return;\n",
              "\n",
              "          const docLinkHtml = 'Like what you see? Visit the ' +\n",
              "            '<a target=\"_blank\" href=https://colab.research.google.com/notebooks/data_table.ipynb>data table notebook</a>'\n",
              "            + ' to learn more about interactive tables.';\n",
              "          element.innerHTML = '';\n",
              "          dataTable['output_type'] = 'display_data';\n",
              "          await google.colab.output.renderOutput(dataTable, element);\n",
              "          const docLink = document.createElement('div');\n",
              "          docLink.innerHTML = docLinkHtml;\n",
              "          element.appendChild(docLink);\n",
              "        }\n",
              "      </script>\n",
              "    </div>\n",
              "  </div>\n",
              "  "
            ],
            "text/plain": [
              "   month  source  destination  cab_type  product_id  name  distance  \\\n",
              "0     12       5            7       0.0           4   2.0      0.44   \n",
              "1     11       5            7       0.0           5   1.0      0.44   \n",
              "2     12       0            8       0.0           4   2.0      1.08   \n",
              "3     11       0            8       0.0           5   1.0      1.08   \n",
              "4     12       6           11       1.0           0   5.0      1.11   \n",
              "\n",
              "   surge_multiplier  latitude  longitude  ...  windGust  temperatureHigh  \\\n",
              "0               1.0   42.2148   -71.0330  ...      9.17            43.68   \n",
              "1               1.0   42.2148   -71.0330  ...     11.98            47.30   \n",
              "2               1.0   42.3503   -71.0810  ...      2.09            57.02   \n",
              "3               1.0   42.3503   -71.0810  ...      4.47            42.32   \n",
              "4               1.0   42.3647   -71.0542  ...      3.83            33.83   \n",
              "\n",
              "   apparentTemperatureHigh  icon  dewPoint  cloudCover  moonPhase  \\\n",
              "0                    37.95     5     32.70        0.72       0.30   \n",
              "1                    43.92     6     41.83        1.00       0.64   \n",
              "2                    56.35     3     44.50        1.00       0.89   \n",
              "3                    40.48     0     27.99        0.12       0.79   \n",
              "4                    32.85     4     18.66        0.64       0.21   \n",
              "\n",
              "   precipIntensityMax  temperatureMax  apparentTemperatureMax  \n",
              "0              0.1276           43.68                   38.07  \n",
              "1              0.1300           47.30                   43.92  \n",
              "2              0.0004           57.02                   56.35  \n",
              "3              0.0004           42.32                   40.48  \n",
              "4              0.0001           33.83                   32.85  \n",
              "\n",
              "[5 rows x 25 columns]"
            ]
          },
          "execution_count": 86,
          "metadata": {},
          "output_type": "execute_result"
        }
      ],
      "source": [
        "XX.head()"
      ]
    },
    {
      "cell_type": "markdown",
      "metadata": {
        "id": "ti3Tcy_bmIv8"
      },
      "source": [
        "**Drop Useless Features**"
      ]
    },
    {
      "cell_type": "code",
      "execution_count": 87,
      "metadata": {
        "id": "fnQfbm1Z9VLX"
      },
      "outputs": [],
      "source": [
        "features_drop = ['latitude', 'longitude', 'apparentTemperature','precipIntensity', 'humidity', 'windSpeed', 'windGust',\n",
        "       'temperatureHigh', 'apparentTemperatureHigh', 'dewPoint','precipIntensityMax',\n",
        "       'temperatureMax', 'apparentTemperatureMax', 'distance', 'cloudCover', 'moonPhase']\n",
        "new_uber = XX.drop(features_drop, axis=1)"
      ]
    },
    {
      "cell_type": "code",
      "execution_count": 88,
      "metadata": {
        "colab": {
          "base_uri": "https://localhost:8080/",
          "height": 206
        },
        "id": "-vI4lFZB-Gb5",
        "outputId": "8547e254-a12a-4f58-ea72-f8dd53368878"
      },
      "outputs": [
        {
          "data": {
            "text/html": [
              "\n",
              "  <div id=\"df-f5c41634-a00b-4ee0-b40c-c4dfdd7904ad\">\n",
              "    <div class=\"colab-df-container\">\n",
              "      <div>\n",
              "<style scoped>\n",
              "    .dataframe tbody tr th:only-of-type {\n",
              "        vertical-align: middle;\n",
              "    }\n",
              "\n",
              "    .dataframe tbody tr th {\n",
              "        vertical-align: top;\n",
              "    }\n",
              "\n",
              "    .dataframe thead th {\n",
              "        text-align: right;\n",
              "    }\n",
              "</style>\n",
              "<table border=\"1\" class=\"dataframe\">\n",
              "  <thead>\n",
              "    <tr style=\"text-align: right;\">\n",
              "      <th></th>\n",
              "      <th>month</th>\n",
              "      <th>source</th>\n",
              "      <th>destination</th>\n",
              "      <th>cab_type</th>\n",
              "      <th>product_id</th>\n",
              "      <th>name</th>\n",
              "      <th>surge_multiplier</th>\n",
              "      <th>temperature</th>\n",
              "      <th>icon</th>\n",
              "    </tr>\n",
              "  </thead>\n",
              "  <tbody>\n",
              "    <tr>\n",
              "      <th>0</th>\n",
              "      <td>12</td>\n",
              "      <td>5</td>\n",
              "      <td>7</td>\n",
              "      <td>0.0</td>\n",
              "      <td>4</td>\n",
              "      <td>2.0</td>\n",
              "      <td>1.0</td>\n",
              "      <td>42.34</td>\n",
              "      <td>5</td>\n",
              "    </tr>\n",
              "    <tr>\n",
              "      <th>1</th>\n",
              "      <td>11</td>\n",
              "      <td>5</td>\n",
              "      <td>7</td>\n",
              "      <td>0.0</td>\n",
              "      <td>5</td>\n",
              "      <td>1.0</td>\n",
              "      <td>1.0</td>\n",
              "      <td>43.58</td>\n",
              "      <td>6</td>\n",
              "    </tr>\n",
              "    <tr>\n",
              "      <th>2</th>\n",
              "      <td>12</td>\n",
              "      <td>0</td>\n",
              "      <td>8</td>\n",
              "      <td>0.0</td>\n",
              "      <td>4</td>\n",
              "      <td>2.0</td>\n",
              "      <td>1.0</td>\n",
              "      <td>45.58</td>\n",
              "      <td>3</td>\n",
              "    </tr>\n",
              "    <tr>\n",
              "      <th>3</th>\n",
              "      <td>11</td>\n",
              "      <td>0</td>\n",
              "      <td>8</td>\n",
              "      <td>0.0</td>\n",
              "      <td>5</td>\n",
              "      <td>1.0</td>\n",
              "      <td>1.0</td>\n",
              "      <td>40.13</td>\n",
              "      <td>0</td>\n",
              "    </tr>\n",
              "    <tr>\n",
              "      <th>4</th>\n",
              "      <td>12</td>\n",
              "      <td>6</td>\n",
              "      <td>11</td>\n",
              "      <td>1.0</td>\n",
              "      <td>0</td>\n",
              "      <td>5.0</td>\n",
              "      <td>1.0</td>\n",
              "      <td>32.85</td>\n",
              "      <td>4</td>\n",
              "    </tr>\n",
              "  </tbody>\n",
              "</table>\n",
              "</div>\n",
              "      <button class=\"colab-df-convert\" onclick=\"convertToInteractive('df-f5c41634-a00b-4ee0-b40c-c4dfdd7904ad')\"\n",
              "              title=\"Convert this dataframe to an interactive table.\"\n",
              "              style=\"display:none;\">\n",
              "        \n",
              "  <svg xmlns=\"http://www.w3.org/2000/svg\" height=\"24px\"viewBox=\"0 0 24 24\"\n",
              "       width=\"24px\">\n",
              "    <path d=\"M0 0h24v24H0V0z\" fill=\"none\"/>\n",
              "    <path d=\"M18.56 5.44l.94 2.06.94-2.06 2.06-.94-2.06-.94-.94-2.06-.94 2.06-2.06.94zm-11 1L8.5 8.5l.94-2.06 2.06-.94-2.06-.94L8.5 2.5l-.94 2.06-2.06.94zm10 10l.94 2.06.94-2.06 2.06-.94-2.06-.94-.94-2.06-.94 2.06-2.06.94z\"/><path d=\"M17.41 7.96l-1.37-1.37c-.4-.4-.92-.59-1.43-.59-.52 0-1.04.2-1.43.59L10.3 9.45l-7.72 7.72c-.78.78-.78 2.05 0 2.83L4 21.41c.39.39.9.59 1.41.59.51 0 1.02-.2 1.41-.59l7.78-7.78 2.81-2.81c.8-.78.8-2.07 0-2.86zM5.41 20L4 18.59l7.72-7.72 1.47 1.35L5.41 20z\"/>\n",
              "  </svg>\n",
              "      </button>\n",
              "      \n",
              "  <style>\n",
              "    .colab-df-container {\n",
              "      display:flex;\n",
              "      flex-wrap:wrap;\n",
              "      gap: 12px;\n",
              "    }\n",
              "\n",
              "    .colab-df-convert {\n",
              "      background-color: #E8F0FE;\n",
              "      border: none;\n",
              "      border-radius: 50%;\n",
              "      cursor: pointer;\n",
              "      display: none;\n",
              "      fill: #1967D2;\n",
              "      height: 32px;\n",
              "      padding: 0 0 0 0;\n",
              "      width: 32px;\n",
              "    }\n",
              "\n",
              "    .colab-df-convert:hover {\n",
              "      background-color: #E2EBFA;\n",
              "      box-shadow: 0px 1px 2px rgba(60, 64, 67, 0.3), 0px 1px 3px 1px rgba(60, 64, 67, 0.15);\n",
              "      fill: #174EA6;\n",
              "    }\n",
              "\n",
              "    [theme=dark] .colab-df-convert {\n",
              "      background-color: #3B4455;\n",
              "      fill: #D2E3FC;\n",
              "    }\n",
              "\n",
              "    [theme=dark] .colab-df-convert:hover {\n",
              "      background-color: #434B5C;\n",
              "      box-shadow: 0px 1px 3px 1px rgba(0, 0, 0, 0.15);\n",
              "      filter: drop-shadow(0px 1px 2px rgba(0, 0, 0, 0.3));\n",
              "      fill: #FFFFFF;\n",
              "    }\n",
              "  </style>\n",
              "\n",
              "      <script>\n",
              "        const buttonEl =\n",
              "          document.querySelector('#df-f5c41634-a00b-4ee0-b40c-c4dfdd7904ad button.colab-df-convert');\n",
              "        buttonEl.style.display =\n",
              "          google.colab.kernel.accessAllowed ? 'block' : 'none';\n",
              "\n",
              "        async function convertToInteractive(key) {\n",
              "          const element = document.querySelector('#df-f5c41634-a00b-4ee0-b40c-c4dfdd7904ad');\n",
              "          const dataTable =\n",
              "            await google.colab.kernel.invokeFunction('convertToInteractive',\n",
              "                                                     [key], {});\n",
              "          if (!dataTable) return;\n",
              "\n",
              "          const docLinkHtml = 'Like what you see? Visit the ' +\n",
              "            '<a target=\"_blank\" href=https://colab.research.google.com/notebooks/data_table.ipynb>data table notebook</a>'\n",
              "            + ' to learn more about interactive tables.';\n",
              "          element.innerHTML = '';\n",
              "          dataTable['output_type'] = 'display_data';\n",
              "          await google.colab.output.renderOutput(dataTable, element);\n",
              "          const docLink = document.createElement('div');\n",
              "          docLink.innerHTML = docLinkHtml;\n",
              "          element.appendChild(docLink);\n",
              "        }\n",
              "      </script>\n",
              "    </div>\n",
              "  </div>\n",
              "  "
            ],
            "text/plain": [
              "   month  source  destination  cab_type  product_id  name  surge_multiplier  \\\n",
              "0     12       5            7       0.0           4   2.0               1.0   \n",
              "1     11       5            7       0.0           5   1.0               1.0   \n",
              "2     12       0            8       0.0           4   2.0               1.0   \n",
              "3     11       0            8       0.0           5   1.0               1.0   \n",
              "4     12       6           11       1.0           0   5.0               1.0   \n",
              "\n",
              "   temperature  icon  \n",
              "0        42.34     5  \n",
              "1        43.58     6  \n",
              "2        45.58     3  \n",
              "3        40.13     0  \n",
              "4        32.85     4  "
            ]
          },
          "execution_count": 88,
          "metadata": {},
          "output_type": "execute_result"
        }
      ],
      "source": [
        "new_uber.head()"
      ]
    },
    {
      "cell_type": "markdown",
      "metadata": {
        "id": "0LPskZBLmV2p"
      },
      "source": [
        "**Binning**"
      ]
    },
    {
      "cell_type": "code",
      "execution_count": 89,
      "metadata": {
        "id": "SnSJAfP0-PmT"
      },
      "outputs": [],
      "source": [
        "month_mapping = {11: 0, 12: 1}\n",
        "new_uber['month'] = new_uber['month'].map(month_mapping)"
      ]
    },
    {
      "cell_type": "code",
      "execution_count": 90,
      "metadata": {
        "id": "kKXAiMry-QLj"
      },
      "outputs": [],
      "source": [
        "surge_multiplier_mapping = {1.: 0, 1.25: 1, 1.5: 2, 1.75: 3, 2.:4}\n",
        "new_uber['surge_multiplier'] = new_uber['surge_multiplier'].map(surge_multiplier_mapping)"
      ]
    },
    {
      "cell_type": "markdown",
      "metadata": {
        "id": "ajgQlKr3mjV0"
      },
      "source": [
        "**Cleaned Dataset**"
      ]
    },
    {
      "cell_type": "code",
      "execution_count": 91,
      "metadata": {
        "colab": {
          "base_uri": "https://localhost:8080/",
          "height": 206
        },
        "id": "aD1OBa_e-QOL",
        "outputId": "353014da-8cc9-4be9-8a60-b036cccc8439"
      },
      "outputs": [
        {
          "data": {
            "text/html": [
              "\n",
              "  <div id=\"df-dfc51ccb-202a-4e12-84d0-c28466488f66\">\n",
              "    <div class=\"colab-df-container\">\n",
              "      <div>\n",
              "<style scoped>\n",
              "    .dataframe tbody tr th:only-of-type {\n",
              "        vertical-align: middle;\n",
              "    }\n",
              "\n",
              "    .dataframe tbody tr th {\n",
              "        vertical-align: top;\n",
              "    }\n",
              "\n",
              "    .dataframe thead th {\n",
              "        text-align: right;\n",
              "    }\n",
              "</style>\n",
              "<table border=\"1\" class=\"dataframe\">\n",
              "  <thead>\n",
              "    <tr style=\"text-align: right;\">\n",
              "      <th></th>\n",
              "      <th>month</th>\n",
              "      <th>source</th>\n",
              "      <th>destination</th>\n",
              "      <th>cab_type</th>\n",
              "      <th>product_id</th>\n",
              "      <th>name</th>\n",
              "      <th>surge_multiplier</th>\n",
              "      <th>temperature</th>\n",
              "      <th>icon</th>\n",
              "    </tr>\n",
              "  </thead>\n",
              "  <tbody>\n",
              "    <tr>\n",
              "      <th>0</th>\n",
              "      <td>1</td>\n",
              "      <td>5</td>\n",
              "      <td>7</td>\n",
              "      <td>0.0</td>\n",
              "      <td>4</td>\n",
              "      <td>2.0</td>\n",
              "      <td>0</td>\n",
              "      <td>42.34</td>\n",
              "      <td>5</td>\n",
              "    </tr>\n",
              "    <tr>\n",
              "      <th>1</th>\n",
              "      <td>0</td>\n",
              "      <td>5</td>\n",
              "      <td>7</td>\n",
              "      <td>0.0</td>\n",
              "      <td>5</td>\n",
              "      <td>1.0</td>\n",
              "      <td>0</td>\n",
              "      <td>43.58</td>\n",
              "      <td>6</td>\n",
              "    </tr>\n",
              "    <tr>\n",
              "      <th>2</th>\n",
              "      <td>1</td>\n",
              "      <td>0</td>\n",
              "      <td>8</td>\n",
              "      <td>0.0</td>\n",
              "      <td>4</td>\n",
              "      <td>2.0</td>\n",
              "      <td>0</td>\n",
              "      <td>45.58</td>\n",
              "      <td>3</td>\n",
              "    </tr>\n",
              "    <tr>\n",
              "      <th>3</th>\n",
              "      <td>0</td>\n",
              "      <td>0</td>\n",
              "      <td>8</td>\n",
              "      <td>0.0</td>\n",
              "      <td>5</td>\n",
              "      <td>1.0</td>\n",
              "      <td>0</td>\n",
              "      <td>40.13</td>\n",
              "      <td>0</td>\n",
              "    </tr>\n",
              "    <tr>\n",
              "      <th>4</th>\n",
              "      <td>1</td>\n",
              "      <td>6</td>\n",
              "      <td>11</td>\n",
              "      <td>1.0</td>\n",
              "      <td>0</td>\n",
              "      <td>5.0</td>\n",
              "      <td>0</td>\n",
              "      <td>32.85</td>\n",
              "      <td>4</td>\n",
              "    </tr>\n",
              "  </tbody>\n",
              "</table>\n",
              "</div>\n",
              "      <button class=\"colab-df-convert\" onclick=\"convertToInteractive('df-dfc51ccb-202a-4e12-84d0-c28466488f66')\"\n",
              "              title=\"Convert this dataframe to an interactive table.\"\n",
              "              style=\"display:none;\">\n",
              "        \n",
              "  <svg xmlns=\"http://www.w3.org/2000/svg\" height=\"24px\"viewBox=\"0 0 24 24\"\n",
              "       width=\"24px\">\n",
              "    <path d=\"M0 0h24v24H0V0z\" fill=\"none\"/>\n",
              "    <path d=\"M18.56 5.44l.94 2.06.94-2.06 2.06-.94-2.06-.94-.94-2.06-.94 2.06-2.06.94zm-11 1L8.5 8.5l.94-2.06 2.06-.94-2.06-.94L8.5 2.5l-.94 2.06-2.06.94zm10 10l.94 2.06.94-2.06 2.06-.94-2.06-.94-.94-2.06-.94 2.06-2.06.94z\"/><path d=\"M17.41 7.96l-1.37-1.37c-.4-.4-.92-.59-1.43-.59-.52 0-1.04.2-1.43.59L10.3 9.45l-7.72 7.72c-.78.78-.78 2.05 0 2.83L4 21.41c.39.39.9.59 1.41.59.51 0 1.02-.2 1.41-.59l7.78-7.78 2.81-2.81c.8-.78.8-2.07 0-2.86zM5.41 20L4 18.59l7.72-7.72 1.47 1.35L5.41 20z\"/>\n",
              "  </svg>\n",
              "      </button>\n",
              "      \n",
              "  <style>\n",
              "    .colab-df-container {\n",
              "      display:flex;\n",
              "      flex-wrap:wrap;\n",
              "      gap: 12px;\n",
              "    }\n",
              "\n",
              "    .colab-df-convert {\n",
              "      background-color: #E8F0FE;\n",
              "      border: none;\n",
              "      border-radius: 50%;\n",
              "      cursor: pointer;\n",
              "      display: none;\n",
              "      fill: #1967D2;\n",
              "      height: 32px;\n",
              "      padding: 0 0 0 0;\n",
              "      width: 32px;\n",
              "    }\n",
              "\n",
              "    .colab-df-convert:hover {\n",
              "      background-color: #E2EBFA;\n",
              "      box-shadow: 0px 1px 2px rgba(60, 64, 67, 0.3), 0px 1px 3px 1px rgba(60, 64, 67, 0.15);\n",
              "      fill: #174EA6;\n",
              "    }\n",
              "\n",
              "    [theme=dark] .colab-df-convert {\n",
              "      background-color: #3B4455;\n",
              "      fill: #D2E3FC;\n",
              "    }\n",
              "\n",
              "    [theme=dark] .colab-df-convert:hover {\n",
              "      background-color: #434B5C;\n",
              "      box-shadow: 0px 1px 3px 1px rgba(0, 0, 0, 0.15);\n",
              "      filter: drop-shadow(0px 1px 2px rgba(0, 0, 0, 0.3));\n",
              "      fill: #FFFFFF;\n",
              "    }\n",
              "  </style>\n",
              "\n",
              "      <script>\n",
              "        const buttonEl =\n",
              "          document.querySelector('#df-dfc51ccb-202a-4e12-84d0-c28466488f66 button.colab-df-convert');\n",
              "        buttonEl.style.display =\n",
              "          google.colab.kernel.accessAllowed ? 'block' : 'none';\n",
              "\n",
              "        async function convertToInteractive(key) {\n",
              "          const element = document.querySelector('#df-dfc51ccb-202a-4e12-84d0-c28466488f66');\n",
              "          const dataTable =\n",
              "            await google.colab.kernel.invokeFunction('convertToInteractive',\n",
              "                                                     [key], {});\n",
              "          if (!dataTable) return;\n",
              "\n",
              "          const docLinkHtml = 'Like what you see? Visit the ' +\n",
              "            '<a target=\"_blank\" href=https://colab.research.google.com/notebooks/data_table.ipynb>data table notebook</a>'\n",
              "            + ' to learn more about interactive tables.';\n",
              "          element.innerHTML = '';\n",
              "          dataTable['output_type'] = 'display_data';\n",
              "          await google.colab.output.renderOutput(dataTable, element);\n",
              "          const docLink = document.createElement('div');\n",
              "          docLink.innerHTML = docLinkHtml;\n",
              "          element.appendChild(docLink);\n",
              "        }\n",
              "      </script>\n",
              "    </div>\n",
              "  </div>\n",
              "  "
            ],
            "text/plain": [
              "   month  source  destination  cab_type  product_id  name  surge_multiplier  \\\n",
              "0      1       5            7       0.0           4   2.0                 0   \n",
              "1      0       5            7       0.0           5   1.0                 0   \n",
              "2      1       0            8       0.0           4   2.0                 0   \n",
              "3      0       0            8       0.0           5   1.0                 0   \n",
              "4      1       6           11       1.0           0   5.0                 0   \n",
              "\n",
              "   temperature  icon  \n",
              "0        42.34     5  \n",
              "1        43.58     6  \n",
              "2        45.58     3  \n",
              "3        40.13     0  \n",
              "4        32.85     4  "
            ]
          },
          "execution_count": 91,
          "metadata": {},
          "output_type": "execute_result"
        }
      ],
      "source": [
        "new_uber.head()"
      ]
    },
    {
      "cell_type": "code",
      "execution_count": 92,
      "metadata": {
        "colab": {
          "base_uri": "https://localhost:8080/"
        },
        "id": "_TCEEifw-QQq",
        "outputId": "4d954201-f631-4b60-9bd3-f43f7ae7d8ee"
      },
      "outputs": [
        {
          "data": {
            "text/plain": [
              "0     5\n",
              "1    11\n",
              "2     3\n",
              "3    13\n",
              "4     7\n",
              "Name: price, dtype: int32"
            ]
          },
          "execution_count": 92,
          "metadata": {},
          "output_type": "execute_result"
        }
      ],
      "source": [
        "y.head()"
      ]
    },
    {
      "cell_type": "markdown",
      "metadata": {
        "id": "jHll8w3MmuLe"
      },
      "source": [
        "**4. Modeling**"
      ]
    },
    {
      "cell_type": "code",
      "execution_count": 93,
      "metadata": {
        "colab": {
          "base_uri": "https://localhost:8080/"
        },
        "id": "k-y89wZD-QUT",
        "outputId": "e746a30a-dab7-4dbf-abe6-5505a4fd8fef"
      },
      "outputs": [
        {
          "data": {
            "text/plain": [
              "(322844, 9)"
            ]
          },
          "execution_count": 93,
          "metadata": {},
          "output_type": "execute_result"
        }
      ],
      "source": [
        "new_uber.shape"
      ]
    },
    {
      "cell_type": "code",
      "execution_count": 94,
      "metadata": {
        "colab": {
          "base_uri": "https://localhost:8080/"
        },
        "id": "ZvCkOGEW-fnb",
        "outputId": "e62b1305-8855-4836-b692-7580544ce0a6"
      },
      "outputs": [
        {
          "data": {
            "text/plain": [
              "(322844,)"
            ]
          },
          "execution_count": 94,
          "metadata": {},
          "output_type": "execute_result"
        }
      ],
      "source": [
        "y.shape"
      ]
    },
    {
      "cell_type": "code",
      "execution_count": 95,
      "metadata": {
        "id": "Z7FEpqKw-iev"
      },
      "outputs": [],
      "source": [
        "# Using Skicit-learn to split data into training and testing sets\n",
        "from sklearn.model_selection import train_test_split\n",
        "# Split the data into training and testing sets\n",
        "xx_train, xx_test, yy_train, yy_test = train_test_split(new_uber, y, test_size = 0.2, random_state = 42)"
      ]
    },
    {
      "cell_type": "code",
      "execution_count": 96,
      "metadata": {
        "colab": {
          "base_uri": "https://localhost:8080/"
        },
        "id": "PggYUAh_-lcG",
        "outputId": "2a86f42a-6c6a-4564-818d-ba403a97f4f5"
      },
      "outputs": [
        {
          "data": {
            "text/plain": [
              "(258275, 9)"
            ]
          },
          "execution_count": 96,
          "metadata": {},
          "output_type": "execute_result"
        }
      ],
      "source": [
        "xx_train.shape"
      ]
    },
    {
      "cell_type": "code",
      "execution_count": 97,
      "metadata": {
        "colab": {
          "base_uri": "https://localhost:8080/"
        },
        "id": "mc_gnpVY-ncb",
        "outputId": "287b4b79-5e96-44d9-b9a7-d4e44d378a6a"
      },
      "outputs": [
        {
          "data": {
            "text/plain": [
              "(64569, 9)"
            ]
          },
          "execution_count": 97,
          "metadata": {},
          "output_type": "execute_result"
        }
      ],
      "source": [
        "xx_test.shape"
      ]
    },
    {
      "cell_type": "code",
      "execution_count": 98,
      "metadata": {
        "colab": {
          "base_uri": "https://localhost:8080/"
        },
        "id": "0-2JZgfQ-p7b",
        "outputId": "f80706f8-4a17-4250-dccb-cb6e06eb279b"
      },
      "outputs": [
        {
          "data": {
            "text/plain": [
              "(258275,)"
            ]
          },
          "execution_count": 98,
          "metadata": {},
          "output_type": "execute_result"
        }
      ],
      "source": [
        "yy_train.shape"
      ]
    },
    {
      "cell_type": "code",
      "execution_count": 99,
      "metadata": {
        "colab": {
          "base_uri": "https://localhost:8080/"
        },
        "id": "zYDds4AQ-sLu",
        "outputId": "f31139e5-567a-40d8-bcab-41715c7f7dcd"
      },
      "outputs": [
        {
          "data": {
            "text/plain": [
              "(64569,)"
            ]
          },
          "execution_count": 99,
          "metadata": {},
          "output_type": "execute_result"
        }
      ],
      "source": [
        "yy_test.shape"
      ]
    },
    {
      "cell_type": "code",
      "execution_count": 100,
      "metadata": {
        "id": "MSHaRqNQ-ujG"
      },
      "outputs": [],
      "source": [
        "from sklearn.linear_model import LinearRegression\n",
        "from sklearn.linear_model import LogisticRegression\n",
        "from sklearn.tree import DecisionTreeRegressor\n",
        "from sklearn.ensemble import RandomForestRegressor "
      ]
    },
    {
      "cell_type": "markdown",
      "metadata": {
        "id": "7CbP1ANAnL5a"
      },
      "source": [
        "**4.1 Linear Regression**"
      ]
    },
    {
      "cell_type": "code",
      "execution_count": 101,
      "metadata": {
        "colab": {
          "base_uri": "https://localhost:8080/"
        },
        "id": "DrroVV8a-xQ-",
        "outputId": "5def42ae-96a1-4a6e-f332-ee163a0508fc"
      },
      "outputs": [
        {
          "data": {
            "text/plain": [
              "0.773569252703989"
            ]
          },
          "execution_count": 101,
          "metadata": {},
          "output_type": "execute_result"
        }
      ],
      "source": [
        "linear = LinearRegression()\n",
        "linear.fit(xx_train, yy_train)\n",
        "linear.score(xx_test, yy_test)"
      ]
    },
    {
      "cell_type": "markdown",
      "metadata": {
        "id": "QPK-1r4im_kj"
      },
      "source": [
        "**4.2 Decision Tree**"
      ]
    },
    {
      "cell_type": "code",
      "execution_count": 102,
      "metadata": {
        "colab": {
          "base_uri": "https://localhost:8080/"
        },
        "id": "vF1sodur-z7P",
        "outputId": "c7cc0037-6db8-4e27-efa1-54468f7994d3"
      },
      "outputs": [
        {
          "data": {
            "text/plain": [
              "0.9447786316354275"
            ]
          },
          "execution_count": 102,
          "metadata": {},
          "output_type": "execute_result"
        }
      ],
      "source": [
        "decision = DecisionTreeRegressor(random_state = 0)  \n",
        "decision.fit(xx_train , yy_train) \n",
        "decision.score(xx_test, yy_test)"
      ]
    },
    {
      "cell_type": "markdown",
      "metadata": {
        "id": "0mg4dbHPnN_r"
      },
      "source": [
        "**4.3 Random Forest**"
      ]
    },
    {
      "cell_type": "code",
      "execution_count": 103,
      "metadata": {
        "colab": {
          "base_uri": "https://localhost:8080/"
        },
        "id": "fP7HbSK9-2Mc",
        "outputId": "aa489a99-9f98-4f29-f035-f007e249857b"
      },
      "outputs": [
        {
          "data": {
            "text/plain": [
              "0.9530911520701032"
            ]
          },
          "execution_count": 103,
          "metadata": {},
          "output_type": "execute_result"
        }
      ],
      "source": [
        "random = RandomForestRegressor(n_estimators = 100, random_state = 0) \n",
        "random.fit(xx_train , yy_train)  \n",
        "random.score(xx_test, yy_test)"
      ]
    },
    {
      "cell_type": "markdown",
      "metadata": {
        "id": "RIZmqacZnVxz"
      },
      "source": [
        "**4.4 Gradient Boosting Regressor**"
      ]
    },
    {
      "cell_type": "code",
      "execution_count": 104,
      "metadata": {
        "colab": {
          "base_uri": "https://localhost:8080/",
          "height": 75
        },
        "id": "ckMvBmi6-41C",
        "outputId": "fd99fa7d-0f38-489d-bcf8-9eb184ad9f19"
      },
      "outputs": [
        {
          "data": {
            "text/html": [
              "<style>#sk-container-id-2 {color: black;background-color: white;}#sk-container-id-2 pre{padding: 0;}#sk-container-id-2 div.sk-toggleable {background-color: white;}#sk-container-id-2 label.sk-toggleable__label {cursor: pointer;display: block;width: 100%;margin-bottom: 0;padding: 0.3em;box-sizing: border-box;text-align: center;}#sk-container-id-2 label.sk-toggleable__label-arrow:before {content: \"▸\";float: left;margin-right: 0.25em;color: #696969;}#sk-container-id-2 label.sk-toggleable__label-arrow:hover:before {color: black;}#sk-container-id-2 div.sk-estimator:hover label.sk-toggleable__label-arrow:before {color: black;}#sk-container-id-2 div.sk-toggleable__content {max-height: 0;max-width: 0;overflow: hidden;text-align: left;background-color: #f0f8ff;}#sk-container-id-2 div.sk-toggleable__content pre {margin: 0.2em;color: black;border-radius: 0.25em;background-color: #f0f8ff;}#sk-container-id-2 input.sk-toggleable__control:checked~div.sk-toggleable__content {max-height: 200px;max-width: 100%;overflow: auto;}#sk-container-id-2 input.sk-toggleable__control:checked~label.sk-toggleable__label-arrow:before {content: \"▾\";}#sk-container-id-2 div.sk-estimator input.sk-toggleable__control:checked~label.sk-toggleable__label {background-color: #d4ebff;}#sk-container-id-2 div.sk-label input.sk-toggleable__control:checked~label.sk-toggleable__label {background-color: #d4ebff;}#sk-container-id-2 input.sk-hidden--visually {border: 0;clip: rect(1px 1px 1px 1px);clip: rect(1px, 1px, 1px, 1px);height: 1px;margin: -1px;overflow: hidden;padding: 0;position: absolute;width: 1px;}#sk-container-id-2 div.sk-estimator {font-family: monospace;background-color: #f0f8ff;border: 1px dotted black;border-radius: 0.25em;box-sizing: border-box;margin-bottom: 0.5em;}#sk-container-id-2 div.sk-estimator:hover {background-color: #d4ebff;}#sk-container-id-2 div.sk-parallel-item::after {content: \"\";width: 100%;border-bottom: 1px solid gray;flex-grow: 1;}#sk-container-id-2 div.sk-label:hover label.sk-toggleable__label {background-color: #d4ebff;}#sk-container-id-2 div.sk-serial::before {content: \"\";position: absolute;border-left: 1px solid gray;box-sizing: border-box;top: 0;bottom: 0;left: 50%;z-index: 0;}#sk-container-id-2 div.sk-serial {display: flex;flex-direction: column;align-items: center;background-color: white;padding-right: 0.2em;padding-left: 0.2em;position: relative;}#sk-container-id-2 div.sk-item {position: relative;z-index: 1;}#sk-container-id-2 div.sk-parallel {display: flex;align-items: stretch;justify-content: center;background-color: white;position: relative;}#sk-container-id-2 div.sk-item::before, #sk-container-id-2 div.sk-parallel-item::before {content: \"\";position: absolute;border-left: 1px solid gray;box-sizing: border-box;top: 0;bottom: 0;left: 50%;z-index: -1;}#sk-container-id-2 div.sk-parallel-item {display: flex;flex-direction: column;z-index: 1;position: relative;background-color: white;}#sk-container-id-2 div.sk-parallel-item:first-child::after {align-self: flex-end;width: 50%;}#sk-container-id-2 div.sk-parallel-item:last-child::after {align-self: flex-start;width: 50%;}#sk-container-id-2 div.sk-parallel-item:only-child::after {width: 0;}#sk-container-id-2 div.sk-dashed-wrapped {border: 1px dashed gray;margin: 0 0.4em 0.5em 0.4em;box-sizing: border-box;padding-bottom: 0.4em;background-color: white;}#sk-container-id-2 div.sk-label label {font-family: monospace;font-weight: bold;display: inline-block;line-height: 1.2em;}#sk-container-id-2 div.sk-label-container {text-align: center;}#sk-container-id-2 div.sk-container {/* jupyter's `normalize.less` sets `[hidden] { display: none; }` but bootstrap.min.css set `[hidden] { display: none !important; }` so we also need the `!important` here to be able to override the default hidden behavior on the sphinx rendered scikit-learn.org. See: https://github.com/scikit-learn/scikit-learn/issues/21755 */display: inline-block !important;position: relative;}#sk-container-id-2 div.sk-text-repr-fallback {display: none;}</style><div id=\"sk-container-id-2\" class=\"sk-top-container\"><div class=\"sk-text-repr-fallback\"><pre>GradientBoostingRegressor(max_depth=5, n_estimators=400)</pre><b>In a Jupyter environment, please rerun this cell to show the HTML representation or trust the notebook. <br />On GitHub, the HTML representation is unable to render, please try loading this page with nbviewer.org.</b></div><div class=\"sk-container\" hidden><div class=\"sk-item\"><div class=\"sk-estimator sk-toggleable\"><input class=\"sk-toggleable__control sk-hidden--visually\" id=\"sk-estimator-id-4\" type=\"checkbox\" checked><label for=\"sk-estimator-id-4\" class=\"sk-toggleable__label sk-toggleable__label-arrow\">GradientBoostingRegressor</label><div class=\"sk-toggleable__content\"><pre>GradientBoostingRegressor(max_depth=5, n_estimators=400)</pre></div></div></div></div></div>"
            ],
            "text/plain": [
              "GradientBoostingRegressor(max_depth=5, n_estimators=400)"
            ]
          },
          "execution_count": 104,
          "metadata": {},
          "output_type": "execute_result"
        }
      ],
      "source": [
        "from sklearn import ensemble\n",
        "clf = ensemble.GradientBoostingRegressor(n_estimators = 400, max_depth = 5)\n",
        "clf.fit(xx_train, yy_train)"
      ]
    },
    {
      "cell_type": "code",
      "execution_count": 105,
      "metadata": {
        "colab": {
          "base_uri": "https://localhost:8080/"
        },
        "id": "KuZEZiUt_rdk",
        "outputId": "8425b44d-617c-4af4-ecd1-402ec91af513"
      },
      "outputs": [
        {
          "data": {
            "text/plain": [
              "0.9626558531709385"
            ]
          },
          "execution_count": 105,
          "metadata": {},
          "output_type": "execute_result"
        }
      ],
      "source": [
        "clf.score(xx_test, yy_test)"
      ]
    },
    {
      "cell_type": "markdown",
      "metadata": {
        "id": "OzIzfZwangw8"
      },
      "source": [
        "**K fold Crossvalidation**"
      ]
    },
    {
      "cell_type": "code",
      "execution_count": 106,
      "metadata": {
        "colab": {
          "base_uri": "https://localhost:8080/"
        },
        "id": "h4tXEbTX_rgQ",
        "outputId": "a226098f-38ec-4748-f371-450fc4c461c6"
      },
      "outputs": [
        {
          "data": {
            "text/plain": [
              "array([0.77686804, 0.77562795, 0.7756326 , 0.77580886, 0.77128256])"
            ]
          },
          "execution_count": 106,
          "metadata": {},
          "output_type": "execute_result"
        }
      ],
      "source": [
        "from sklearn.model_selection import ShuffleSplit\n",
        "from sklearn.model_selection import cross_val_score\n",
        "cv=ShuffleSplit(n_splits=5,test_size=0.2,random_state=0)\n",
        "cross_val_score(LinearRegression(),xx_test,yy_test,cv=cv)"
      ]
    },
    {
      "cell_type": "markdown",
      "metadata": {
        "id": "Vgo9QAgcnmGc"
      },
      "source": [
        "**5. Testing**"
      ]
    },
    {
      "cell_type": "markdown",
      "metadata": {
        "id": "Rufxb3ZHnmTJ"
      },
      "source": [
        "**Linear Regression**"
      ]
    },
    {
      "cell_type": "code",
      "execution_count": 108,
      "metadata": {
        "colab": {
          "base_uri": "https://localhost:8080/"
        },
        "id": "Kc7FqbtC_rle",
        "outputId": "e2d31afa-c788-4ea7-c100-f4c23a3b44d8"
      },
      "outputs": [
        {
          "data": {
            "text/plain": [
              "array([ 7.04132581, 14.05378504,  9.55729089, ..., 29.20396752,\n",
              "       29.71803386, 14.05397665])"
            ]
          },
          "execution_count": 108,
          "metadata": {},
          "output_type": "execute_result"
        }
      ],
      "source": [
        "prediction = linear.predict(xx_test)\n",
        "prediction"
      ]
    },
    {
      "cell_type": "code",
      "execution_count": 109,
      "metadata": {
        "id": "oh_B8qOG_rpL"
      },
      "outputs": [],
      "source": [
        "prediction=  prediction.astype(int)"
      ]
    },
    {
      "cell_type": "code",
      "execution_count": 110,
      "metadata": {
        "colab": {
          "base_uri": "https://localhost:8080/"
        },
        "id": "XH_lvJjVAIXm",
        "outputId": "cb348466-f51d-4b40-d9fd-ffda2b4596b9"
      },
      "outputs": [
        {
          "name": "stdout",
          "output_type": "stream",
          "text": [
            "MAE :   3.226207622853072\n",
            "MSE :   18.04245071164181\n",
            "RMAE :   4.247640605282162\n"
          ]
        }
      ],
      "source": [
        "from sklearn import metrics\n",
        "print('MAE :',\" \", metrics.mean_absolute_error(yy_test,prediction))\n",
        "print('MSE :',\" \", metrics.mean_squared_error(yy_test,prediction))\n",
        "print('RMAE :',\" \", np.sqrt(metrics.mean_squared_error(yy_test,prediction)))"
      ]
    },
    {
      "cell_type": "markdown",
      "metadata": {
        "id": "-lQpwsHFn1dR"
      },
      "source": [
        "**Random Forest**"
      ]
    },
    {
      "cell_type": "code",
      "execution_count": 112,
      "metadata": {
        "id": "OGGGPH9kAPuQ"
      },
      "outputs": [],
      "source": [
        "predictions = random.predict(xx_test)"
      ]
    },
    {
      "cell_type": "code",
      "execution_count": 113,
      "metadata": {
        "colab": {
          "base_uri": "https://localhost:8080/",
          "height": 466
        },
        "id": "PQqxHKY6AXrM",
        "outputId": "ce14d59d-3d74-40f9-9cd2-5745e3804ea0"
      },
      "outputs": [
        {
          "data": {
            "text/plain": [
              "Text(0, 0.5, 'Predicted Y')"
            ]
          },
          "execution_count": 113,
          "metadata": {},
          "output_type": "execute_result"
        },
        {
          "data": {
            "image/png": "[encoded data removed]",
            "text/plain": [
              "<Figure size 640x480 with 1 Axes>"
            ]
          },
          "metadata": {},
          "output_type": "display_data"
        }
      ],
      "source": [
        "sns.regplot(x=yy_test, y=predictions)\n",
        "plt.xlabel('Y Test')\n",
        "plt.ylabel('Predicted Y')"
      ]
    },
    {
      "cell_type": "code",
      "execution_count": 114,
      "metadata": {
        "colab": {
          "base_uri": "https://localhost:8080/"
        },
        "id": "bGkYJaZlD8tp",
        "outputId": "d107256b-fd6e-4a48-9910-730098f95c08"
      },
      "outputs": [
        {
          "name": "stdout",
          "output_type": "stream",
          "text": [
            "MAE :   1.1162999719718782\n",
            "MSE :   3.660969637229397\n",
            "RMAE :   1.913366048938205\n"
          ]
        }
      ],
      "source": [
        "from sklearn import metrics\n",
        "print('MAE :',\" \", metrics.mean_absolute_error(yy_test,predictions))\n",
        "print('MSE :',\" \", metrics.mean_squared_error(yy_test,predictions))\n",
        "print('RMAE :',\" \", np.sqrt(metrics.mean_squared_error(yy_test,predictions)))"
      ]
    },
    {
      "cell_type": "code",
      "execution_count": 115,
      "metadata": {
        "colab": {
          "base_uri": "https://localhost:8080/",
          "height": 657
        },
        "id": "kuAvJm-QD8yK",
        "outputId": "176f0fd1-5a8d-4bae-c558-5ee8bbf5596d"
      },
      "outputs": [
        {
          "name": "stderr",
          "output_type": "stream",
          "text": [
            "<ipython-input-115-bc7913116f6a>:1: UserWarning: \n",
            "\n",
            "`distplot` is a deprecated function and will be removed in seaborn v0.14.0.\n",
            "\n",
            "Please adapt your code to use either `displot` (a figure-level function with\n",
            "similar flexibility) or `histplot` (an axes-level function for histograms).\n",
            "\n",
            "For a guide to updating your code to use the new functions, please see\n",
            "https://gist.github.com/mwaskom/de44147ed2974457ad6372750bbe5751\n",
            "\n",
            "  sns.distplot(yy_test - predictions,bins=50)\n"
          ]
        },
        {
          "data": {
            "text/plain": [
              "<Axes: xlabel='price', ylabel='Density'>"
            ]
          },
          "execution_count": 115,
          "metadata": {},
          "output_type": "execute_result"
        },
        {
          "data": {
            "image/png": "[encoded data removed]",
            "text/plain": [
              "<Figure size 640x480 with 1 Axes>"
            ]
          },
          "metadata": {},
          "output_type": "display_data"
        }
      ],
      "source": [
        "sns.distplot(yy_test - predictions,bins=50)"
      ]
    },
    {
      "cell_type": "markdown",
      "metadata": {
        "id": "e6KNSFHqoJAC"
      },
      "source": [
        "**price forecasting method**"
      ]
    },
    {
      "cell_type": "code",
      "execution_count": 116,
      "metadata": {
        "colab": {
          "base_uri": "https://localhost:8080/",
          "height": 206
        },
        "id": "z1L_19o-D81t",
        "outputId": "00a4b208-801b-4b58-ccb0-405260972fd1"
      },
      "outputs": [
        {
          "data": {
            "text/html": [
              "\n",
              "  <div id=\"df-585bc546-a7d1-4ba8-a923-f1f37bcb1bf8\">\n",
              "    <div class=\"colab-df-container\">\n",
              "      <div>\n",
              "<style scoped>\n",
              "    .dataframe tbody tr th:only-of-type {\n",
              "        vertical-align: middle;\n",
              "    }\n",
              "\n",
              "    .dataframe tbody tr th {\n",
              "        vertical-align: top;\n",
              "    }\n",
              "\n",
              "    .dataframe thead th {\n",
              "        text-align: right;\n",
              "    }\n",
              "</style>\n",
              "<table border=\"1\" class=\"dataframe\">\n",
              "  <thead>\n",
              "    <tr style=\"text-align: right;\">\n",
              "      <th></th>\n",
              "      <th>month</th>\n",
              "      <th>source</th>\n",
              "      <th>destination</th>\n",
              "      <th>cab_type</th>\n",
              "      <th>product_id</th>\n",
              "      <th>name</th>\n",
              "      <th>surge_multiplier</th>\n",
              "      <th>temperature</th>\n",
              "      <th>icon</th>\n",
              "    </tr>\n",
              "  </thead>\n",
              "  <tbody>\n",
              "    <tr>\n",
              "      <th>0</th>\n",
              "      <td>1</td>\n",
              "      <td>5</td>\n",
              "      <td>7</td>\n",
              "      <td>0.0</td>\n",
              "      <td>4</td>\n",
              "      <td>2.0</td>\n",
              "      <td>0</td>\n",
              "      <td>42.34</td>\n",
              "      <td>5</td>\n",
              "    </tr>\n",
              "    <tr>\n",
              "      <th>1</th>\n",
              "      <td>0</td>\n",
              "      <td>5</td>\n",
              "      <td>7</td>\n",
              "      <td>0.0</td>\n",
              "      <td>5</td>\n",
              "      <td>1.0</td>\n",
              "      <td>0</td>\n",
              "      <td>43.58</td>\n",
              "      <td>6</td>\n",
              "    </tr>\n",
              "    <tr>\n",
              "      <th>2</th>\n",
              "      <td>1</td>\n",
              "      <td>0</td>\n",
              "      <td>8</td>\n",
              "      <td>0.0</td>\n",
              "      <td>4</td>\n",
              "      <td>2.0</td>\n",
              "      <td>0</td>\n",
              "      <td>45.58</td>\n",
              "      <td>3</td>\n",
              "    </tr>\n",
              "    <tr>\n",
              "      <th>3</th>\n",
              "      <td>0</td>\n",
              "      <td>0</td>\n",
              "      <td>8</td>\n",
              "      <td>0.0</td>\n",
              "      <td>5</td>\n",
              "      <td>1.0</td>\n",
              "      <td>0</td>\n",
              "      <td>40.13</td>\n",
              "      <td>0</td>\n",
              "    </tr>\n",
              "    <tr>\n",
              "      <th>4</th>\n",
              "      <td>1</td>\n",
              "      <td>6</td>\n",
              "      <td>11</td>\n",
              "      <td>1.0</td>\n",
              "      <td>0</td>\n",
              "      <td>5.0</td>\n",
              "      <td>0</td>\n",
              "      <td>32.85</td>\n",
              "      <td>4</td>\n",
              "    </tr>\n",
              "  </tbody>\n",
              "</table>\n",
              "</div>\n",
              "      <button class=\"colab-df-convert\" onclick=\"convertToInteractive('df-585bc546-a7d1-4ba8-a923-f1f37bcb1bf8')\"\n",
              "              title=\"Convert this dataframe to an interactive table.\"\n",
              "              style=\"display:none;\">\n",
              "        \n",
              "  <svg xmlns=\"http://www.w3.org/2000/svg\" height=\"24px\"viewBox=\"0 0 24 24\"\n",
              "       width=\"24px\">\n",
              "    <path d=\"M0 0h24v24H0V0z\" fill=\"none\"/>\n",
              "    <path d=\"M18.56 5.44l.94 2.06.94-2.06 2.06-.94-2.06-.94-.94-2.06-.94 2.06-2.06.94zm-11 1L8.5 8.5l.94-2.06 2.06-.94-2.06-.94L8.5 2.5l-.94 2.06-2.06.94zm10 10l.94 2.06.94-2.06 2.06-.94-2.06-.94-.94-2.06-.94 2.06-2.06.94z\"/><path d=\"M17.41 7.96l-1.37-1.37c-.4-.4-.92-.59-1.43-.59-.52 0-1.04.2-1.43.59L10.3 9.45l-7.72 7.72c-.78.78-.78 2.05 0 2.83L4 21.41c.39.39.9.59 1.41.59.51 0 1.02-.2 1.41-.59l7.78-7.78 2.81-2.81c.8-.78.8-2.07 0-2.86zM5.41 20L4 18.59l7.72-7.72 1.47 1.35L5.41 20z\"/>\n",
              "  </svg>\n",
              "      </button>\n",
              "      \n",
              "  <style>\n",
              "    .colab-df-container {\n",
              "      display:flex;\n",
              "      flex-wrap:wrap;\n",
              "      gap: 12px;\n",
              "    }\n",
              "\n",
              "    .colab-df-convert {\n",
              "      background-color: #E8F0FE;\n",
              "      border: none;\n",
              "      border-radius: 50%;\n",
              "      cursor: pointer;\n",
              "      display: none;\n",
              "      fill: #1967D2;\n",
              "      height: 32px;\n",
              "      padding: 0 0 0 0;\n",
              "      width: 32px;\n",
              "    }\n",
              "\n",
              "    .colab-df-convert:hover {\n",
              "      background-color: #E2EBFA;\n",
              "      box-shadow: 0px 1px 2px rgba(60, 64, 67, 0.3), 0px 1px 3px 1px rgba(60, 64, 67, 0.15);\n",
              "      fill: #174EA6;\n",
              "    }\n",
              "\n",
              "    [theme=dark] .colab-df-convert {\n",
              "      background-color: #3B4455;\n",
              "      fill: #D2E3FC;\n",
              "    }\n",
              "\n",
              "    [theme=dark] .colab-df-convert:hover {\n",
              "      background-color: #434B5C;\n",
              "      box-shadow: 0px 1px 3px 1px rgba(0, 0, 0, 0.15);\n",
              "      filter: drop-shadow(0px 1px 2px rgba(0, 0, 0, 0.3));\n",
              "      fill: #FFFFFF;\n",
              "    }\n",
              "  </style>\n",
              "\n",
              "      <script>\n",
              "        const buttonEl =\n",
              "          document.querySelector('#df-585bc546-a7d1-4ba8-a923-f1f37bcb1bf8 button.colab-df-convert');\n",
              "        buttonEl.style.display =\n",
              "          google.colab.kernel.accessAllowed ? 'block' : 'none';\n",
              "\n",
              "        async function convertToInteractive(key) {\n",
              "          const element = document.querySelector('#df-585bc546-a7d1-4ba8-a923-f1f37bcb1bf8');\n",
              "          const dataTable =\n",
              "            await google.colab.kernel.invokeFunction('convertToInteractive',\n",
              "                                                     [key], {});\n",
              "          if (!dataTable) return;\n",
              "\n",
              "          const docLinkHtml = 'Like what you see? Visit the ' +\n",
              "            '<a target=\"_blank\" href=https://colab.research.google.com/notebooks/data_table.ipynb>data table notebook</a>'\n",
              "            + ' to learn more about interactive tables.';\n",
              "          element.innerHTML = '';\n",
              "          dataTable['output_type'] = 'display_data';\n",
              "          await google.colab.output.renderOutput(dataTable, element);\n",
              "          const docLink = document.createElement('div');\n",
              "          docLink.innerHTML = docLinkHtml;\n",
              "          element.appendChild(docLink);\n",
              "        }\n",
              "      </script>\n",
              "    </div>\n",
              "  </div>\n",
              "  "
            ],
            "text/plain": [
              "   month  source  destination  cab_type  product_id  name  surge_multiplier  \\\n",
              "0      1       5            7       0.0           4   2.0                 0   \n",
              "1      0       5            7       0.0           5   1.0                 0   \n",
              "2      1       0            8       0.0           4   2.0                 0   \n",
              "3      0       0            8       0.0           5   1.0                 0   \n",
              "4      1       6           11       1.0           0   5.0                 0   \n",
              "\n",
              "   temperature  icon  \n",
              "0        42.34     5  \n",
              "1        43.58     6  \n",
              "2        45.58     3  \n",
              "3        40.13     0  \n",
              "4        32.85     4  "
            ]
          },
          "execution_count": 116,
          "metadata": {},
          "output_type": "execute_result"
        }
      ],
      "source": [
        "new_uber.head()"
      ]
    },
    {
      "cell_type": "code",
      "execution_count": 117,
      "metadata": {
        "id": "rpKefpNhBCxv"
      },
      "outputs": [],
      "source": [
        "def predict_price(name,source,surge_multiplier,icon):    \n",
        "    loc_index = np.where(new_uber.columns==name)[0]\n",
        "\n",
        "    x = np.zeros(len(new_uber.columns))\n",
        "    x[0] = source\n",
        "    x[1] = surge_multiplier\n",
        "    x[2] = icon\n",
        "    if loc_index >= 0:\n",
        "        x[loc_index] = 1\n",
        "\n",
        "    return random.predict([x])[0]"
      ]
    },
    {
      "cell_type": "code",
      "execution_count": 118,
      "metadata": {
        "id": "s_RZ9nlQELzY"
      },
      "outputs": [],
      "source": [
        "pre= random.predict(xx_test)"
      ]
    },
    {
      "attachments": {},
      "cell_type": "markdown",
      "metadata": {
        "id": "g7X356j3oUXg"
      },
      "source": [
        "To use the price prediction function, you need to provide the following information:\n",
        "\n",
        "For the cab_name parameter, you should use the following numeric codes: Black SUV (0), Lux (1), Shared (2), Taxi (3), UberPool (4), UberX (5).\n",
        "For the source parameter, you should use the following numeric codes: Back Bay (0), Beacon Hill (1), Boston University (2), Fenway (3), Financial District (4), Haymarket Square (5), North End (6), North Station (7), Northeastern University (8), South Station (9), Theatre District (10), West End (11).\n",
        "For the surge_multiplier parameter, you should provide a value between 0 and 4.\n",
        "For the icon parameter, you should use the following numeric codes: clear-day (0), clear-night (1), cloudy (2), fog (3), partly-cloudy-day (4), partly-cloudy-night (5), rain (6)."
      ]
    },
    {
      "cell_type": "code",
      "execution_count": 119,
      "metadata": {
        "colab": {
          "base_uri": "https://localhost:8080/"
        },
        "id": "Y4vGicujETX7",
        "outputId": "2aa76614-df2b-4bb7-f80e-eda53c9d8cd5"
      },
      "outputs": [
        {
          "name": "stderr",
          "output_type": "stream",
          "text": [
            "<ipython-input-117-884828bfaf47>:8: DeprecationWarning: The truth value of an empty array is ambiguous. Returning False, but in future this will result in an error. Use `array.size > 0` to check that an array is not empty.\n",
            "  if loc_index >= 0:\n",
            "/usr/local/lib/python3.10/dist-packages/sklearn/base.py:439: UserWarning: X does not have valid feature names, but RandomForestRegressor was fitted with feature names\n",
            "  warnings.warn(\n"
          ]
        },
        {
          "data": {
            "text/plain": [
              "44.17398412698413"
            ]
          },
          "execution_count": 119,
          "metadata": {},
          "output_type": "execute_result"
        }
      ],
      "source": [
        "predict_price(0 , 3, 1, 5)"
      ]
    },
    {
      "cell_type": "code",
      "execution_count": null,
      "metadata": {
        "id": "a6IwxnGZz933"
      },
      "outputs": [],
      "source": []
    },
    {
      "cell_type": "code",
      "execution_count": null,
      "metadata": {
        "id": "fzQT2yrAz97S"
      },
      "outputs": [],
      "source": []
    },
    {
      "cell_type": "code",
      "execution_count": null,
      "metadata": {
        "id": "5NMLzwNjz_An"
      },
      "outputs": [],
      "source": []
    }
  ],
  "metadata": {
    "colab": {
      "provenance": []
    },
    "kernelspec": {
      "display_name": "Python 3",
      "name": "python3"
    },
    "language_info": {
      "name": "python"
    }
  },
  "nbformat": 4,
  "nbformat_minor": 0
}
